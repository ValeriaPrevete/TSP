{
 "cells": [
  {
   "cell_type": "code",
   "execution_count": null,
   "id": "vg_2J2z6W4t3",
   "metadata": {
    "id": "vg_2J2z6W4t3"
   },
   "outputs": [],
   "source": [
    "#pip install qiskit"
   ]
  },
  {
   "cell_type": "code",
   "execution_count": null,
   "id": "VhNBGT3mXIR8",
   "metadata": {
    "id": "VhNBGT3mXIR8"
   },
   "outputs": [],
   "source": [
    "#pip install qiskit_ibm_runtime"
   ]
  },
  {
   "cell_type": "code",
   "execution_count": null,
   "id": "FWayx2_aX6oV",
   "metadata": {
    "id": "FWayx2_aX6oV"
   },
   "outputs": [],
   "source": [
    "#pip install qiskit_optimization"
   ]
  },
  {
   "cell_type": "code",
   "execution_count": null,
   "id": "CYdaPV_AYGBg",
   "metadata": {
    "id": "CYdaPV_AYGBg"
   },
   "outputs": [],
   "source": [
    "#pip install qiskit-ibmq-provider"
   ]
  },
  {
   "cell_type": "code",
   "execution_count": 1,
   "id": "7e40439a-5d17-4b76-a6ec-2d0e0f9bbc2f",
   "metadata": {
    "executionInfo": {
     "elapsed": 11,
     "status": "ok",
     "timestamp": 1703347975104,
     "user": {
      "displayName": "valeria prevete",
      "userId": "11323486858887833035"
     },
     "user_tz": -60
    },
    "id": "7e40439a-5d17-4b76-a6ec-2d0e0f9bbc2f",
    "tags": []
   },
   "outputs": [],
   "source": [
    "# Importing standard Qiskit libraries\n",
    "from qiskit import IBMQ, QuantumCircuit, transpile\n",
    "from qiskit.tools.jupyter import *\n",
    "from qiskit.visualization import *\n",
    "#from ibm_quantum_widgets import *\n",
    "\n",
    "# qiskit-ibmq-provider has been deprecated.\n",
    "# Please see the Migration Guides in https://ibm.biz/provider_migration_guide for more detail.\n",
    "from qiskit_ibm_runtime import QiskitRuntimeService, Sampler, Estimator, Session, Options\n",
    "\n",
    "# Loading your IBM Quantum account(s)\n",
    "#service = QiskitRuntimeService(channel=\"ibm_quantum\")\n",
    "\n",
    "# Invoke a primitive. For more details see https://qiskit.org/documentation/partners/qiskit_ibm_runtime/tutorials.html\n",
    "# result = Sampler(\"ibmq_qasm_simulator\").run(circuits).result()"
   ]
  },
  {
   "cell_type": "code",
   "execution_count": 2,
   "id": "4796e288-b72e-4a0f-b8b8-a9476b07bb0b",
   "metadata": {
    "colab": {
     "base_uri": "https://localhost:8080/",
     "height": 355
    },
    "executionInfo": {
     "elapsed": 10,
     "status": "ok",
     "timestamp": 1703347975104,
     "user": {
      "displayName": "valeria prevete",
      "userId": "11323486858887833035"
     },
     "user_tz": -60
    },
    "id": "4796e288-b72e-4a0f-b8b8-a9476b07bb0b",
    "outputId": "661c5dfb-e0cc-4836-9a5a-236a8803d6b5",
    "tags": []
   },
   "outputs": [
    {
     "data": {
      "text/html": [
       "<h3>Version Information</h3><table><tr><th>Software</th><th>Version</th></tr><tr><td><code>qiskit</code></td><td>0.45.0</td></tr><tr><td><code>qiskit_aer</code></td><td>0.12.2</td></tr><tr><td><code>qiskit_ibm_runtime</code></td><td>0.14.0</td></tr><tr><td><code>qiskit_ibm_provider</code></td><td>0.7.3</td></tr><tr><th colspan='2'>System information</th></tr><tr><td>Python version</td><td>3.10.8</td></tr><tr><td>Python compiler</td><td>GCC 10.4.0</td></tr><tr><td>Python build</td><td>main, Nov 22 2022 08:26:04</td></tr><tr><td>OS</td><td>Linux</td></tr><tr><td>CPUs</td><td>8</td></tr><tr><td>Memory (Gb)</td><td>31.14303207397461</td></tr><tr><td colspan='2'>Mon Jan 01 21:15:38 2024 UTC</td></tr></table>"
      ],
      "text/plain": [
       "<IPython.core.display.HTML object>"
      ]
     },
     "metadata": {},
     "output_type": "display_data"
    }
   ],
   "source": [
    "import qiskit.tools.jupyter\n",
    "\n",
    "%qiskit_version_table"
   ]
  },
  {
   "cell_type": "code",
   "execution_count": 3,
   "id": "cc5e176e-27a6-4772-9faa-0255a56de6e2",
   "metadata": {
    "executionInfo": {
     "elapsed": 319,
     "status": "ok",
     "timestamp": 1703348054493,
     "user": {
      "displayName": "valeria prevete",
      "userId": "11323486858887833035"
     },
     "user_tz": -60
    },
    "id": "cc5e176e-27a6-4772-9faa-0255a56de6e2",
    "tags": []
   },
   "outputs": [],
   "source": [
    "# useful additional packages\n",
    "import matplotlib.pyplot as plt\n",
    "import numpy as np\n",
    "import pylab\n",
    "\n",
    "import networkx as nx\n",
    "\n",
    "from qiskit.tools.visualization import plot_histogram\n",
    "from qiskit.circuit.library import TwoLocal\n",
    "from qiskit_optimization.applications import Maxcut, Tsp\n",
    "from qiskit_algorithms import SamplingVQE, NumPyMinimumEigensolver\n",
    "from qiskit_algorithms.optimizers import SPSA, COBYLA\n",
    "from qiskit_algorithms.utils import algorithm_globals\n",
    "from qiskit.primitives import Sampler\n",
    "from qiskit_optimization.algorithms import MinimumEigenOptimizer\n",
    "\n",
    "from qiskit_optimization.converters import QuadraticProgramToQubo\n",
    "\n",
    "from qiskit.circuit import QuantumCircuit, Parameter, ParameterVector\n",
    "\n",
    "from itertools import permutations #per brutal approches TSP"
   ]
  },
  {
   "cell_type": "code",
   "execution_count": 4,
   "id": "27542a9f-2a47-42dd-98e8-65eb3c951cb4",
   "metadata": {
    "executionInfo": {
     "elapsed": 8,
     "status": "ok",
     "timestamp": 1703347975105,
     "user": {
      "displayName": "valeria prevete",
      "userId": "11323486858887833035"
     },
     "user_tz": -60
    },
    "id": "27542a9f-2a47-42dd-98e8-65eb3c951cb4",
    "tags": []
   },
   "outputs": [],
   "source": [
    "#draw a graph coloring the nodes\n",
    "\n",
    "#funzione per disegnare un grafo con nodi colorati\n",
    "def draw_graph(G, colors, pos):\n",
    "    default_axes = plt.axes(frameon=True)\n",
    "    nx.draw_networkx(G, node_color=colors, node_size=600, alpha=0.8, ax=default_axes, pos=pos)\n",
    "    edge_labels = nx.get_edge_attributes(G, \"weight\")\n",
    "    nx.draw_networkx_edge_labels(G, pos=pos, edge_labels=edge_labels)\n",
    "\n",
    "#funzione per disegnare un cammino su un grafo\n",
    "def draw_tsp_solution(G, order, colors, pos):\n",
    "    G2 = nx.DiGraph()\n",
    "    G2.add_nodes_from(G)\n",
    "    n = len(order)\n",
    "    for i in range(n):\n",
    "        j = (i + 1) % n\n",
    "        G2.add_edge(order[i], order[j], weight=G[order[i]][order[j]][\"weight\"])\n",
    "    default_axes = plt.axes(frameon=True)\n",
    "    nx.draw_networkx(\n",
    "        G2, node_color=colors, edge_color=\"b\", node_size=600, alpha=0.8, ax=default_axes, pos=pos\n",
    "    )\n",
    "    edge_labels = nx.get_edge_attributes(G2, \"weight\")\n",
    "    nx.draw_networkx_edge_labels(G2, pos, font_color=\"b\", edge_labels=edge_labels)"
   ]
  },
  {
   "cell_type": "markdown",
   "id": "0f0119be-2001-4514-906b-9b0c66d4dcc8",
   "metadata": {
    "id": "0f0119be-2001-4514-906b-9b0c66d4dcc8"
   },
   "source": [
    "### TSP"
   ]
  },
  {
   "cell_type": "code",
   "execution_count": 5,
   "id": "46b5c2e7-0d00-42f7-a980-991f69547833",
   "metadata": {
    "colab": {
     "base_uri": "https://localhost:8080/",
     "height": 478
    },
    "executionInfo": {
     "elapsed": 824,
     "status": "ok",
     "timestamp": 1703357586254,
     "user": {
      "displayName": "valeria prevete",
      "userId": "11323486858887833035"
     },
     "user_tz": -60
    },
    "id": "46b5c2e7-0d00-42f7-a980-991f69547833",
    "outputId": "0a3e615d-11c7-4bd9-bd74-ed27a55eefa3",
    "tags": []
   },
   "outputs": [
    {
     "name": "stdout",
     "output_type": "stream",
     "text": [
      "distance\n",
      " [[ 0.  7. 28. 41.]\n",
      " [ 7.  0. 34. 35.]\n",
      " [28. 34.  0. 69.]\n",
      " [41. 35. 69.  0.]]\n"
     ]
    },
    {
     "data": {
      "image/png": "[encoded data removed]",
      "text/plain": [
       "<Figure size 640x480 with 1 Axes>"
      ]
     },
     "metadata": {},
     "output_type": "display_data"
    }
   ],
   "source": [
    "# Generating a random graph\n",
    "n = 4 # num\n",
    "num_qubits = n**2\n",
    "tsp = Tsp.create_random_instance(n)\n",
    "G=tsp.graph\n",
    "\n",
    "\n",
    "# Creating a specific graph\n",
    "\n",
    "#n=3 #numero di nodi\n",
    "#G= nx.Graph() # definizione del grafo\n",
    "#G.add_nodes_from(np.arange(0, n, 1)) # aggiungo i vertici\n",
    "#elist = [(0, 1, 1), (0, 2, 1), (1, 2, 3)] # definisco la lista degli archi [(i,j,peso)]\n",
    "### tuple is (i,j,weight) where (i,j) is the edge\n",
    "#G.add_weighted_edges_from(elist)# aggiungo gli archi al grafo\n",
    "\n",
    "#tsp=Tsp(G)\n",
    "\n",
    "# grafico\n",
    "adj_matrix = nx.to_numpy_array(G)\n",
    "print(\"distance\\n\", adj_matrix)\n",
    "colors = [\"r\" for node in G.nodes]\n",
    "pos = nx.spring_layout(G)\n",
    "draw_graph(tsp.graph, colors, pos)\n"
   ]
  },
  {
   "cell_type": "code",
   "execution_count": 6,
   "id": "f5a39350-7797-4fce-b6b4-66a0d69ef114",
   "metadata": {
    "executionInfo": {
     "elapsed": 535,
     "status": "ok",
     "timestamp": 1703357594496,
     "user": {
      "displayName": "valeria prevete",
      "userId": "11323486858887833035"
     },
     "user_tz": -60
    },
    "id": "f5a39350-7797-4fce-b6b4-66a0d69ef114",
    "tags": []
   },
   "outputs": [],
   "source": [
    "## define the ising model\n",
    "\n",
    "qp = tsp.to_quadratic_program()\n",
    "qp2qubo= QuadraticProgramToQubo()\n",
    "qubo = qp2qubo.convert(qp)\n",
    "qubitOp, offset = qubo.to_ising()"
   ]
  },
  {
   "cell_type": "code",
   "execution_count": 7,
   "id": "61f07f3f-69de-435b-b5b4-24458980a413",
   "metadata": {
    "colab": {
     "base_uri": "https://localhost:8080/"
    },
    "executionInfo": {
     "elapsed": 229,
     "status": "ok",
     "timestamp": 1703357596014,
     "user": {
      "displayName": "valeria prevete",
      "userId": "11323486858887833035"
     },
     "user_tz": -60
    },
    "id": "61f07f3f-69de-435b-b5b4-24458980a413",
    "outputId": "25a6a0b1-d3ef-4ecd-bd1a-a0a05ccab350",
    "tags": []
   },
   "outputs": [
    {
     "name": "stdout",
     "output_type": "stream",
     "text": [
      "energy: -27698.0\n",
      "tsp objective: 138.0\n",
      "feasible: True\n",
      "solution: [3, 0, 2, 1]\n",
      "solution objective: 138.0\n"
     ]
    }
   ],
   "source": [
    "###EXACT SOLUTION\n",
    "###Making the Hamiltonian in its full form and getting the lowest eigenvalue and eigenvector\n",
    "ee = NumPyMinimumEigensolver()\n",
    "result = ee.compute_minimum_eigenvalue(qubitOp)\n",
    "\n",
    "print(\"energy:\", result.eigenvalue.real)\n",
    "print(\"tsp objective:\", result.eigenvalue.real + offset)\n",
    "x = tsp.sample_most_likely(result.eigenstate)\n",
    "print(\"feasible:\", qubo.is_feasible(x))\n",
    "z= tsp.interpret(x)\n",
    "print(\"solution:\", z)\n",
    "print(\"solution objective:\", tsp.tsp_value(z, adj_matrix))"
   ]
  },
  {
   "cell_type": "code",
   "execution_count": 9,
   "id": "6a03a58f-d780-4178-bd60-70a07123ff10",
   "metadata": {
    "executionInfo": {
     "elapsed": 248,
     "status": "ok",
     "timestamp": 1703357599354,
     "user": {
      "displayName": "valeria prevete",
      "userId": "11323486858887833035"
     },
     "user_tz": -60
    },
    "id": "6a03a58f-d780-4178-bd60-70a07123ff10",
    "tags": []
   },
   "outputs": [],
   "source": [
    "# create the ANSATZ\n",
    "\n",
    "###standard ansatz\n",
    "#ansatz= TwoLocal(qubitOp.num_qubits, \"ry\", \"cz\", reps=2, entanglement=\"linear\")\n",
    "\n",
    "###specific ansatz no constrain\n",
    "#theta = ParameterVector('theta', qubitOp.num_qubits)\n",
    "#ansatz = QuantumCircuit(qubitOp.num_qubits)\n",
    "#for i in range (0,qubitOp.num_qubits, tsp.graph.number_of_nodes()):\n",
    "#    ansatz.x(i)\n",
    "#    for j in range(i+1,i+tsp.graph.number_of_nodes(),1):\n",
    "#        ansatz.ry(theta[j-1], j)\n",
    "#        ansatz.cz(j-1,j)\n",
    "#        ansatz.ry(-theta[j-1], j)\n",
    "#    for j in range(i+1,i+tsp.graph.number_of_nodes(),1):\n",
    "#        ansatz.cx(j,j-1)"
   ]
  },
  {
   "cell_type": "code",
   "execution_count": 10,
   "id": "5a80e39b-2d26-475e-b830-0af21669ae91",
   "metadata": {
    "executionInfo": {
     "elapsed": 357,
     "status": "ok",
     "timestamp": 1703357600477,
     "user": {
      "displayName": "valeria prevete",
      "userId": "11323486858887833035"
     },
     "user_tz": -60
    },
    "id": "5a80e39b-2d26-475e-b830-0af21669ae91",
    "tags": []
   },
   "outputs": [],
   "source": [
    "# create the Ansatz\n",
    "def W_circuit(QC, n, q1n, theta):\n",
    "    QC.x(q1n)\n",
    "    #QC.barrier(range(q1n,q1n+n))\n",
    "    for j in range(q1n+1,q1n+n,1):\n",
    "        QC.ry(theta[j-1], j)\n",
    "        QC.cz(j-1,j)\n",
    "        QC.ry(-theta[j-1], j)\n",
    "        #QC.barrier(range(q1n,q1n+n))\n",
    "    for j in range(q1n+1,q1n+n,1):\n",
    "        QC.cx(j,j-1)\n",
    "\n",
    "def base_circuit(QC, n, theta):\n",
    "    #theta1 = ParameterVector('theta2', 1)\n",
    "    QC.x(0)\n",
    "    #QC.barrier(range(0,n-1))\n",
    "    QC.ry(theta[1], 1)\n",
    "    QC.cz(0,1)\n",
    "    QC.ry(-theta[1], 1)\n",
    "    QC.cx(1,0)\n",
    "    QC.cx(1,n)\n",
    "    QC.cx(0,n+1)\n"
   ]
  },
  {
   "cell_type": "code",
   "execution_count": 11,
   "id": "0255a6ff-516f-4191-8269-9839c673cb3b",
   "metadata": {
    "tags": []
   },
   "outputs": [],
   "source": [
    "qc = QuantumCircuit(n**2)\n",
    "phi=ParameterVector('phi', n**2)\n",
    "base_circuit(qc,n, phi)\n",
    "for i in range(3,n+1,1):\n",
    "    W_circuit(qc, i, n*(i-1), phi)\n",
    "    #qc.barrier()\n",
    "for v in range(1,n,1):\n",
    "    for p in range(1,n,1):\n",
    "        qc.cswap(n*(n-1)+v-1,n*(p-1)+n-1,n*(p-1)+v-1)\n",
    "ansatz=qc\n",
    "#qc.draw('mpl',plot_barriers=False)"
   ]
  },
  {
   "cell_type": "code",
   "execution_count": 12,
   "id": "DEPbxt6Sil-0",
   "metadata": {
    "executionInfo": {
     "elapsed": 292,
     "status": "ok",
     "timestamp": 1703357603282,
     "user": {
      "displayName": "valeria prevete",
      "userId": "11323486858887833035"
     },
     "user_tz": -60
    },
    "id": "DEPbxt6Sil-0",
    "tags": []
   },
   "outputs": [],
   "source": [
    "from qiskit.primitives import Sampler # per esecuzione in locale"
   ]
  },
  {
   "cell_type": "code",
   "execution_count": 16,
   "id": "9fd27f9f-ee9d-4a5f-b7b1-1195fd90ca69",
   "metadata": {
    "executionInfo": {
     "elapsed": 331,
     "status": "ok",
     "timestamp": 1703357603968,
     "user": {
      "displayName": "valeria prevete",
      "userId": "11323486858887833035"
     },
     "user_tz": -60
    },
    "id": "9fd27f9f-ee9d-4a5f-b7b1-1195fd90ca69",
    "tags": []
   },
   "outputs": [],
   "source": [
    "# in locale\n",
    "optimizer = COBYLA(maxiter=40) #define the optimizer\n",
    "vqe= SamplingVQE(sampler=Sampler(), ansatz=ansatz, optimizer=optimizer) #define the SamplingVqe\n",
    "# run SamplingVQE\n",
    "result=vqe.compute_minimum_eigenvalue(qubitOp)\n",
    "\n"
   ]
  },
  {
   "cell_type": "code",
   "execution_count": 17,
   "id": "df8a18bc-755f-4d6c-808a-669bb877918e",
   "metadata": {
    "colab": {
     "base_uri": "https://localhost:8080/",
     "height": 496
    },
    "executionInfo": {
     "elapsed": 767,
     "status": "ok",
     "timestamp": 1703357605023,
     "user": {
      "displayName": "valeria prevete",
      "userId": "11323486858887833035"
     },
     "user_tz": -60
    },
    "id": "df8a18bc-755f-4d6c-808a-669bb877918e",
    "outputId": "acf14e1c-e146-4d16-ed14-25378e94737a",
    "tags": []
   },
   "outputs": [
    {
     "name": "stdout",
     "output_type": "stream",
     "text": [
      "energy: -27697.84558341868\n",
      "time: 5.4725141525268555\n",
      "feasible: True\n",
      "solution: [3, 1, 2, 0]\n",
      "solution objective: 138.0\n"
     ]
    },
    {
     "data": {
      "image/png": "[encoded data removed]",
      "text/plain": [
       "<Figure size 640x480 with 1 Axes>"
      ]
     },
     "metadata": {},
     "output_type": "display_data"
    }
   ],
   "source": [
    "#result\n",
    "\n",
    "print(\"energy:\", result.eigenvalue.real)\n",
    "print(\"time:\", result.optimizer_time)\n",
    "x= tsp.sample_most_likely(result.eigenstate)\n",
    "print(\"feasible:\", qp.is_feasible(x))\n",
    "z = tsp.interpret(x) #cammino\n",
    "print(\"solution:\", z)\n",
    "p=tsp.tsp_value(z, adj_matrix) # peso totale del cammino\n",
    "print(\"solution objective:\", p)\n",
    "draw_tsp_solution(tsp.graph, z, colors, pos) #plot della soluzioe"
   ]
  },
  {
   "cell_type": "code",
   "execution_count": 18,
   "id": "71b5e4b0-6fd7-46b1-a949-72eb70aacbf7",
   "metadata": {
    "executionInfo": {
     "elapsed": 232,
     "status": "ok",
     "timestamp": 1703357609622,
     "user": {
      "displayName": "valeria prevete",
      "userId": "11323486858887833035"
     },
     "user_tz": -60
    },
    "id": "71b5e4b0-6fd7-46b1-a949-72eb70aacbf7",
    "tags": []
   },
   "outputs": [],
   "source": [
    "from qiskit_ibm_runtime import QiskitRuntimeService, Session, Sampler #solo per eseguire il cicuito in runtime"
   ]
  },
  {
   "cell_type": "code",
   "execution_count": 19,
   "id": "4hePHohCYe1-",
   "metadata": {
    "executionInfo": {
     "elapsed": 222,
     "status": "ok",
     "timestamp": 1703357611107,
     "user": {
      "displayName": "valeria prevete",
      "userId": "11323486858887833035"
     },
     "user_tz": -60
    },
    "id": "4hePHohCYe1-",
    "tags": []
   },
   "outputs": [],
   "source": [
    "my_api_token = 'ec2b0d00148c8c9170e3bfdd1d64a8088e38de7b2fb87141de693f458b4f30b9ba7831a9215f7b2db8fb8a0fdf2e7d6076013d1fcbbd2f571dfd7c1ebb621402' #inserire Api token"
   ]
  },
  {
   "cell_type": "code",
   "execution_count": 20,
   "id": "6xu5mYKkeqov",
   "metadata": {
    "executionInfo": {
     "elapsed": 3775,
     "status": "ok",
     "timestamp": 1703357615768,
     "user": {
      "displayName": "valeria prevete",
      "userId": "11323486858887833035"
     },
     "user_tz": -60
    },
    "id": "6xu5mYKkeqov",
    "tags": []
   },
   "outputs": [
    {
     "name": "stderr",
     "output_type": "stream",
     "text": [
      "qiskit_runtime_service.__init__:INFO:2024-01-01 21:16:42,710: Default instance: ibm-q/open/main\n"
     ]
    }
   ],
   "source": [
    "service = QiskitRuntimeService(channel=\"ibm_quantum\", token= my_api_token)"
   ]
  },
  {
   "cell_type": "code",
   "execution_count": 21,
   "id": "f2b4ee4b-6b2f-4107-ad12-1a75136e751a",
   "metadata": {
    "executionInfo": {
     "elapsed": 56645,
     "status": "ok",
     "timestamp": 1703358695598,
     "user": {
      "displayName": "valeria prevete",
      "userId": "11323486858887833035"
     },
     "user_tz": -60
    },
    "id": "f2b4ee4b-6b2f-4107-ad12-1a75136e751a",
    "tags": []
   },
   "outputs": [
    {
     "name": "stderr",
     "output_type": "stream",
     "text": [
      "base_primitive._run_primitive:INFO:2024-01-01 21:16:44,225: Submitting job using options {'optimization_level': 1, 'resilience_level': 0, 'transpilation': {'skip_transpilation': False, 'optimization_settings': {'level': 1}, 'coupling_map': None, 'basis_gates': None}, 'resilience': {'level': 0}, 'execution': {'shots': 4000, 'init_qubits': True, 'noise_model': None, 'seed_simulator': None}, 'environment': {'log_level': 'WARNING', 'job_tags': []}, 'simulator': {}}\n",
      "/opt/conda/lib/python3.10/site-packages/qiskit/qpy/binary_io/circuits.py:1191: UserWarning: The ParameterVector: 'phi' is not fully identical to its pre-serialization state. Elements 0, 2, 3, 4, 5, 6, 7, 10, 11, 15 in the ParameterVector will be not equal to the pre-serialized ParameterVector as they weren't used in the circuit: circuit-152\n",
      "  warnings.warn(\n",
      "base_primitive._run_primitive:INFO:2024-01-01 21:16:48,276: Submitting job using options {'optimization_level': 1, 'resilience_level': 0, 'transpilation': {'skip_transpilation': False, 'optimization_settings': {'level': 1}, 'coupling_map': None, 'basis_gates': None}, 'resilience': {'level': 0}, 'execution': {'shots': 4000, 'init_qubits': True, 'noise_model': None, 'seed_simulator': None}, 'environment': {'log_level': 'WARNING', 'job_tags': []}, 'simulator': {}}\n",
      "base_primitive._run_primitive:INFO:2024-01-01 21:16:51,210: Submitting job using options {'optimization_level': 1, 'resilience_level': 0, 'transpilation': {'skip_transpilation': False, 'optimization_settings': {'level': 1}, 'coupling_map': None, 'basis_gates': None}, 'resilience': {'level': 0}, 'execution': {'shots': 4000, 'init_qubits': True, 'noise_model': None, 'seed_simulator': None}, 'environment': {'log_level': 'WARNING', 'job_tags': []}, 'simulator': {}}\n",
      "base_primitive._run_primitive:INFO:2024-01-01 21:16:54,738: Submitting job using options {'optimization_level': 1, 'resilience_level': 0, 'transpilation': {'skip_transpilation': False, 'optimization_settings': {'level': 1}, 'coupling_map': None, 'basis_gates': None}, 'resilience': {'level': 0}, 'execution': {'shots': 4000, 'init_qubits': True, 'noise_model': None, 'seed_simulator': None}, 'environment': {'log_level': 'WARNING', 'job_tags': []}, 'simulator': {}}\n",
      "base_primitive._run_primitive:INFO:2024-01-01 21:16:57,451: Submitting job using options {'optimization_level': 1, 'resilience_level': 0, 'transpilation': {'skip_transpilation': False, 'optimization_settings': {'level': 1}, 'coupling_map': None, 'basis_gates': None}, 'resilience': {'level': 0}, 'execution': {'shots': 4000, 'init_qubits': True, 'noise_model': None, 'seed_simulator': None}, 'environment': {'log_level': 'WARNING', 'job_tags': []}, 'simulator': {}}\n",
      "base_primitive._run_primitive:INFO:2024-01-01 21:17:00,584: Submitting job using options {'optimization_level': 1, 'resilience_level': 0, 'transpilation': {'skip_transpilation': False, 'optimization_settings': {'level': 1}, 'coupling_map': None, 'basis_gates': None}, 'resilience': {'level': 0}, 'execution': {'shots': 4000, 'init_qubits': True, 'noise_model': None, 'seed_simulator': None}, 'environment': {'log_level': 'WARNING', 'job_tags': []}, 'simulator': {}}\n",
      "base_primitive._run_primitive:INFO:2024-01-01 21:17:03,800: Submitting job using options {'optimization_level': 1, 'resilience_level': 0, 'transpilation': {'skip_transpilation': False, 'optimization_settings': {'level': 1}, 'coupling_map': None, 'basis_gates': None}, 'resilience': {'level': 0}, 'execution': {'shots': 4000, 'init_qubits': True, 'noise_model': None, 'seed_simulator': None}, 'environment': {'log_level': 'WARNING', 'job_tags': []}, 'simulator': {}}\n",
      "base_primitive._run_primitive:INFO:2024-01-01 21:17:06,589: Submitting job using options {'optimization_level': 1, 'resilience_level': 0, 'transpilation': {'skip_transpilation': False, 'optimization_settings': {'level': 1}, 'coupling_map': None, 'basis_gates': None}, 'resilience': {'level': 0}, 'execution': {'shots': 4000, 'init_qubits': True, 'noise_model': None, 'seed_simulator': None}, 'environment': {'log_level': 'WARNING', 'job_tags': []}, 'simulator': {}}\n",
      "base_primitive._run_primitive:INFO:2024-01-01 21:17:09,407: Submitting job using options {'optimization_level': 1, 'resilience_level': 0, 'transpilation': {'skip_transpilation': False, 'optimization_settings': {'level': 1}, 'coupling_map': None, 'basis_gates': None}, 'resilience': {'level': 0}, 'execution': {'shots': 4000, 'init_qubits': True, 'noise_model': None, 'seed_simulator': None}, 'environment': {'log_level': 'WARNING', 'job_tags': []}, 'simulator': {}}\n",
      "base_primitive._run_primitive:INFO:2024-01-01 21:17:12,048: Submitting job using options {'optimization_level': 1, 'resilience_level': 0, 'transpilation': {'skip_transpilation': False, 'optimization_settings': {'level': 1}, 'coupling_map': None, 'basis_gates': None}, 'resilience': {'level': 0}, 'execution': {'shots': 4000, 'init_qubits': True, 'noise_model': None, 'seed_simulator': None}, 'environment': {'log_level': 'WARNING', 'job_tags': []}, 'simulator': {}}\n",
      "base_primitive._run_primitive:INFO:2024-01-01 21:17:15,671: Submitting job using options {'optimization_level': 1, 'resilience_level': 0, 'transpilation': {'skip_transpilation': False, 'optimization_settings': {'level': 1}, 'coupling_map': None, 'basis_gates': None}, 'resilience': {'level': 0}, 'execution': {'shots': 4000, 'init_qubits': True, 'noise_model': None, 'seed_simulator': None}, 'environment': {'log_level': 'WARNING', 'job_tags': []}, 'simulator': {}}\n",
      "base_primitive._run_primitive:INFO:2024-01-01 21:17:18,415: Submitting job using options {'optimization_level': 1, 'resilience_level': 0, 'transpilation': {'skip_transpilation': False, 'optimization_settings': {'level': 1}, 'coupling_map': None, 'basis_gates': None}, 'resilience': {'level': 0}, 'execution': {'shots': 4000, 'init_qubits': True, 'noise_model': None, 'seed_simulator': None}, 'environment': {'log_level': 'WARNING', 'job_tags': []}, 'simulator': {}}\n",
      "base_primitive._run_primitive:INFO:2024-01-01 21:17:21,251: Submitting job using options {'optimization_level': 1, 'resilience_level': 0, 'transpilation': {'skip_transpilation': False, 'optimization_settings': {'level': 1}, 'coupling_map': None, 'basis_gates': None}, 'resilience': {'level': 0}, 'execution': {'shots': 4000, 'init_qubits': True, 'noise_model': None, 'seed_simulator': None}, 'environment': {'log_level': 'WARNING', 'job_tags': []}, 'simulator': {}}\n",
      "base_primitive._run_primitive:INFO:2024-01-01 21:17:23,958: Submitting job using options {'optimization_level': 1, 'resilience_level': 0, 'transpilation': {'skip_transpilation': False, 'optimization_settings': {'level': 1}, 'coupling_map': None, 'basis_gates': None}, 'resilience': {'level': 0}, 'execution': {'shots': 4000, 'init_qubits': True, 'noise_model': None, 'seed_simulator': None}, 'environment': {'log_level': 'WARNING', 'job_tags': []}, 'simulator': {}}\n",
      "base_primitive._run_primitive:INFO:2024-01-01 21:17:26,982: Submitting job using options {'optimization_level': 1, 'resilience_level': 0, 'transpilation': {'skip_transpilation': False, 'optimization_settings': {'level': 1}, 'coupling_map': None, 'basis_gates': None}, 'resilience': {'level': 0}, 'execution': {'shots': 4000, 'init_qubits': True, 'noise_model': None, 'seed_simulator': None}, 'environment': {'log_level': 'WARNING', 'job_tags': []}, 'simulator': {}}\n",
      "base_primitive._run_primitive:INFO:2024-01-01 21:17:29,917: Submitting job using options {'optimization_level': 1, 'resilience_level': 0, 'transpilation': {'skip_transpilation': False, 'optimization_settings': {'level': 1}, 'coupling_map': None, 'basis_gates': None}, 'resilience': {'level': 0}, 'execution': {'shots': 4000, 'init_qubits': True, 'noise_model': None, 'seed_simulator': None}, 'environment': {'log_level': 'WARNING', 'job_tags': []}, 'simulator': {}}\n",
      "base_primitive._run_primitive:INFO:2024-01-01 21:17:33,077: Submitting job using options {'optimization_level': 1, 'resilience_level': 0, 'transpilation': {'skip_transpilation': False, 'optimization_settings': {'level': 1}, 'coupling_map': None, 'basis_gates': None}, 'resilience': {'level': 0}, 'execution': {'shots': 4000, 'init_qubits': True, 'noise_model': None, 'seed_simulator': None}, 'environment': {'log_level': 'WARNING', 'job_tags': []}, 'simulator': {}}\n",
      "base_primitive._run_primitive:INFO:2024-01-01 21:17:36,255: Submitting job using options {'optimization_level': 1, 'resilience_level': 0, 'transpilation': {'skip_transpilation': False, 'optimization_settings': {'level': 1}, 'coupling_map': None, 'basis_gates': None}, 'resilience': {'level': 0}, 'execution': {'shots': 4000, 'init_qubits': True, 'noise_model': None, 'seed_simulator': None}, 'environment': {'log_level': 'WARNING', 'job_tags': []}, 'simulator': {}}\n",
      "base_primitive._run_primitive:INFO:2024-01-01 21:17:39,624: Submitting job using options {'optimization_level': 1, 'resilience_level': 0, 'transpilation': {'skip_transpilation': False, 'optimization_settings': {'level': 1}, 'coupling_map': None, 'basis_gates': None}, 'resilience': {'level': 0}, 'execution': {'shots': 4000, 'init_qubits': True, 'noise_model': None, 'seed_simulator': None}, 'environment': {'log_level': 'WARNING', 'job_tags': []}, 'simulator': {}}\n",
      "base_primitive._run_primitive:INFO:2024-01-01 21:17:42,325: Submitting job using options {'optimization_level': 1, 'resilience_level': 0, 'transpilation': {'skip_transpilation': False, 'optimization_settings': {'level': 1}, 'coupling_map': None, 'basis_gates': None}, 'resilience': {'level': 0}, 'execution': {'shots': 4000, 'init_qubits': True, 'noise_model': None, 'seed_simulator': None}, 'environment': {'log_level': 'WARNING', 'job_tags': []}, 'simulator': {}}\n",
      "base_primitive._run_primitive:INFO:2024-01-01 21:17:45,775: Submitting job using options {'optimization_level': 1, 'resilience_level': 0, 'transpilation': {'skip_transpilation': False, 'optimization_settings': {'level': 1}, 'coupling_map': None, 'basis_gates': None}, 'resilience': {'level': 0}, 'execution': {'shots': 4000, 'init_qubits': True, 'noise_model': None, 'seed_simulator': None}, 'environment': {'log_level': 'WARNING', 'job_tags': []}, 'simulator': {}}\n",
      "base_primitive._run_primitive:INFO:2024-01-01 21:17:48,549: Submitting job using options {'optimization_level': 1, 'resilience_level': 0, 'transpilation': {'skip_transpilation': False, 'optimization_settings': {'level': 1}, 'coupling_map': None, 'basis_gates': None}, 'resilience': {'level': 0}, 'execution': {'shots': 4000, 'init_qubits': True, 'noise_model': None, 'seed_simulator': None}, 'environment': {'log_level': 'WARNING', 'job_tags': []}, 'simulator': {}}\n",
      "base_primitive._run_primitive:INFO:2024-01-01 21:17:52,382: Submitting job using options {'optimization_level': 1, 'resilience_level': 0, 'transpilation': {'skip_transpilation': False, 'optimization_settings': {'level': 1}, 'coupling_map': None, 'basis_gates': None}, 'resilience': {'level': 0}, 'execution': {'shots': 4000, 'init_qubits': True, 'noise_model': None, 'seed_simulator': None}, 'environment': {'log_level': 'WARNING', 'job_tags': []}, 'simulator': {}}\n",
      "base_primitive._run_primitive:INFO:2024-01-01 21:17:55,608: Submitting job using options {'optimization_level': 1, 'resilience_level': 0, 'transpilation': {'skip_transpilation': False, 'optimization_settings': {'level': 1}, 'coupling_map': None, 'basis_gates': None}, 'resilience': {'level': 0}, 'execution': {'shots': 4000, 'init_qubits': True, 'noise_model': None, 'seed_simulator': None}, 'environment': {'log_level': 'WARNING', 'job_tags': []}, 'simulator': {}}\n",
      "base_primitive._run_primitive:INFO:2024-01-01 21:17:59,042: Submitting job using options {'optimization_level': 1, 'resilience_level': 0, 'transpilation': {'skip_transpilation': False, 'optimization_settings': {'level': 1}, 'coupling_map': None, 'basis_gates': None}, 'resilience': {'level': 0}, 'execution': {'shots': 4000, 'init_qubits': True, 'noise_model': None, 'seed_simulator': None}, 'environment': {'log_level': 'WARNING', 'job_tags': []}, 'simulator': {}}\n",
      "base_primitive._run_primitive:INFO:2024-01-01 21:18:02,011: Submitting job using options {'optimization_level': 1, 'resilience_level': 0, 'transpilation': {'skip_transpilation': False, 'optimization_settings': {'level': 1}, 'coupling_map': None, 'basis_gates': None}, 'resilience': {'level': 0}, 'execution': {'shots': 4000, 'init_qubits': True, 'noise_model': None, 'seed_simulator': None}, 'environment': {'log_level': 'WARNING', 'job_tags': []}, 'simulator': {}}\n",
      "base_primitive._run_primitive:INFO:2024-01-01 21:18:04,925: Submitting job using options {'optimization_level': 1, 'resilience_level': 0, 'transpilation': {'skip_transpilation': False, 'optimization_settings': {'level': 1}, 'coupling_map': None, 'basis_gates': None}, 'resilience': {'level': 0}, 'execution': {'shots': 4000, 'init_qubits': True, 'noise_model': None, 'seed_simulator': None}, 'environment': {'log_level': 'WARNING', 'job_tags': []}, 'simulator': {}}\n",
      "base_primitive._run_primitive:INFO:2024-01-01 21:18:08,398: Submitting job using options {'optimization_level': 1, 'resilience_level': 0, 'transpilation': {'skip_transpilation': False, 'optimization_settings': {'level': 1}, 'coupling_map': None, 'basis_gates': None}, 'resilience': {'level': 0}, 'execution': {'shots': 4000, 'init_qubits': True, 'noise_model': None, 'seed_simulator': None}, 'environment': {'log_level': 'WARNING', 'job_tags': []}, 'simulator': {}}\n",
      "base_primitive._run_primitive:INFO:2024-01-01 21:18:11,668: Submitting job using options {'optimization_level': 1, 'resilience_level': 0, 'transpilation': {'skip_transpilation': False, 'optimization_settings': {'level': 1}, 'coupling_map': None, 'basis_gates': None}, 'resilience': {'level': 0}, 'execution': {'shots': 4000, 'init_qubits': True, 'noise_model': None, 'seed_simulator': None}, 'environment': {'log_level': 'WARNING', 'job_tags': []}, 'simulator': {}}\n",
      "base_primitive._run_primitive:INFO:2024-01-01 21:18:14,663: Submitting job using options {'optimization_level': 1, 'resilience_level': 0, 'transpilation': {'skip_transpilation': False, 'optimization_settings': {'level': 1}, 'coupling_map': None, 'basis_gates': None}, 'resilience': {'level': 0}, 'execution': {'shots': 4000, 'init_qubits': True, 'noise_model': None, 'seed_simulator': None}, 'environment': {'log_level': 'WARNING', 'job_tags': []}, 'simulator': {}}\n",
      "base_primitive._run_primitive:INFO:2024-01-01 21:18:17,403: Submitting job using options {'optimization_level': 1, 'resilience_level': 0, 'transpilation': {'skip_transpilation': False, 'optimization_settings': {'level': 1}, 'coupling_map': None, 'basis_gates': None}, 'resilience': {'level': 0}, 'execution': {'shots': 4000, 'init_qubits': True, 'noise_model': None, 'seed_simulator': None}, 'environment': {'log_level': 'WARNING', 'job_tags': []}, 'simulator': {}}\n",
      "base_primitive._run_primitive:INFO:2024-01-01 21:18:20,771: Submitting job using options {'optimization_level': 1, 'resilience_level': 0, 'transpilation': {'skip_transpilation': False, 'optimization_settings': {'level': 1}, 'coupling_map': None, 'basis_gates': None}, 'resilience': {'level': 0}, 'execution': {'shots': 4000, 'init_qubits': True, 'noise_model': None, 'seed_simulator': None}, 'environment': {'log_level': 'WARNING', 'job_tags': []}, 'simulator': {}}\n",
      "base_primitive._run_primitive:INFO:2024-01-01 21:18:24,572: Submitting job using options {'optimization_level': 1, 'resilience_level': 0, 'transpilation': {'skip_transpilation': False, 'optimization_settings': {'level': 1}, 'coupling_map': None, 'basis_gates': None}, 'resilience': {'level': 0}, 'execution': {'shots': 4000, 'init_qubits': True, 'noise_model': None, 'seed_simulator': None}, 'environment': {'log_level': 'WARNING', 'job_tags': []}, 'simulator': {}}\n",
      "base_primitive._run_primitive:INFO:2024-01-01 21:18:27,539: Submitting job using options {'optimization_level': 1, 'resilience_level': 0, 'transpilation': {'skip_transpilation': False, 'optimization_settings': {'level': 1}, 'coupling_map': None, 'basis_gates': None}, 'resilience': {'level': 0}, 'execution': {'shots': 4000, 'init_qubits': True, 'noise_model': None, 'seed_simulator': None}, 'environment': {'log_level': 'WARNING', 'job_tags': []}, 'simulator': {}}\n",
      "base_primitive._run_primitive:INFO:2024-01-01 21:18:30,605: Submitting job using options {'optimization_level': 1, 'resilience_level': 0, 'transpilation': {'skip_transpilation': False, 'optimization_settings': {'level': 1}, 'coupling_map': None, 'basis_gates': None}, 'resilience': {'level': 0}, 'execution': {'shots': 4000, 'init_qubits': True, 'noise_model': None, 'seed_simulator': None}, 'environment': {'log_level': 'WARNING', 'job_tags': []}, 'simulator': {}}\n",
      "base_primitive._run_primitive:INFO:2024-01-01 21:18:33,357: Submitting job using options {'optimization_level': 1, 'resilience_level': 0, 'transpilation': {'skip_transpilation': False, 'optimization_settings': {'level': 1}, 'coupling_map': None, 'basis_gates': None}, 'resilience': {'level': 0}, 'execution': {'shots': 4000, 'init_qubits': True, 'noise_model': None, 'seed_simulator': None}, 'environment': {'log_level': 'WARNING', 'job_tags': []}, 'simulator': {}}\n"
     ]
    }
   ],
   "source": [
    "optimizer = COBYLA(maxiter=35) #define the optimizer\n",
    "backend=service.backend(\"ibmq_qasm_simulator\") #scegli backend\n",
    "with Session (backend=backend) as s:\n",
    "    vqe_mes= SamplingVQE(sampler=Sampler(backend=backend, session=s), ansatz=ansatz, optimizer=optimizer) #define the SamplingVqe\n",
    "    # run SamplingVQE\n",
    "    vqe = MinimumEigenOptimizer ( vqe_mes )\n",
    "    result = vqe . solve (qp)\n",
    "s.close()"
   ]
  },
  {
   "cell_type": "code",
   "execution_count": 23,
   "id": "00b05acf-b422-45dd-8755-ae77b5d04f40",
   "metadata": {
    "colab": {
     "base_uri": "https://localhost:8080/",
     "height": 515
    },
    "executionInfo": {
     "elapsed": 640,
     "status": "ok",
     "timestamp": 1703358696235,
     "user": {
      "displayName": "valeria prevete",
      "userId": "11323486858887833035"
     },
     "user_tz": -60
    },
    "id": "00b05acf-b422-45dd-8755-ae77b5d04f40",
    "outputId": "94ee3d72-d71e-4310-f368-fee85e685d2e",
    "tags": []
   },
   "outputs": [
    {
     "name": "stdout",
     "output_type": "stream",
     "text": [
      "fval=138.0, x_0_0=0.0, x_0_1=1.0, x_0_2=0.0, x_0_3=0.0, x_1_0=0.0, x_1_1=0.0, x_1_2=0.0, x_1_3=1.0, x_2_0=0.0, x_2_1=0.0, x_2_2=1.0, x_2_3=0.0, x_3_0=1.0, x_3_1=0.0, x_3_2=0.0, x_3_3=0.0, status=SUCCESS\n",
      "objective function value: 138.0\n",
      "variable values: x_0_0=0.0, x_0_1=1.0, x_0_2=0.0, x_0_3=0.0, x_1_0=0.0, x_1_1=0.0, x_1_2=0.0, x_1_3=1.0, x_2_0=0.0, x_2_1=0.0, x_2_2=1.0, x_2_3=0.0, x_3_0=1.0, x_3_1=0.0, x_3_2=0.0, x_3_3=0.0\n",
      "status: SUCCESS\n",
      "solution: [3, 0, 2, 1]\n",
      "solution objective: 138.0\n"
     ]
    },
    {
     "data": {
      "image/png": "[encoded data removed]",
      "text/plain": [
       "<Figure size 640x480 with 1 Axes>"
      ]
     },
     "metadata": {},
     "output_type": "display_data"
    }
   ],
   "source": [
    "print(result)\n",
    "print(result.prettyprint())\n",
    "z=tsp.interpret(result)\n",
    "print(\"solution:\", z)\n",
    "print(\"solution objective:\", tsp.tsp_value(z, adj_matrix))\n",
    "draw_tsp_solution(tsp.graph, z, colors, pos)"
   ]
  },
  {
   "cell_type": "code",
   "execution_count": 24,
   "id": "1IY-S7mrhEU_",
   "metadata": {
    "executionInfo": {
     "elapsed": 98016,
     "status": "ok",
     "timestamp": 1703358999599,
     "user": {
      "displayName": "valeria prevete",
      "userId": "11323486858887833035"
     },
     "user_tz": -60
    },
    "id": "1IY-S7mrhEU_",
    "tags": []
   },
   "outputs": [
    {
     "name": "stderr",
     "output_type": "stream",
     "text": [
      "base_primitive._run_primitive:INFO:2024-01-01 21:18:37,518: Submitting job using options {'optimization_level': 1, 'resilience_level': 0, 'transpilation': {'skip_transpilation': False, 'optimization_settings': {'level': 1}, 'coupling_map': None, 'basis_gates': None}, 'resilience': {'level': 0}, 'execution': {'shots': 4000, 'init_qubits': True, 'noise_model': None, 'seed_simulator': None}, 'environment': {'log_level': 'WARNING', 'job_tags': []}, 'simulator': {}}\n",
      "base_primitive._run_primitive:INFO:2024-01-01 21:18:40,088: Submitting job using options {'optimization_level': 1, 'resilience_level': 0, 'transpilation': {'skip_transpilation': False, 'optimization_settings': {'level': 1}, 'coupling_map': None, 'basis_gates': None}, 'resilience': {'level': 0}, 'execution': {'shots': 4000, 'init_qubits': True, 'noise_model': None, 'seed_simulator': None}, 'environment': {'log_level': 'WARNING', 'job_tags': []}, 'simulator': {}}\n",
      "base_primitive._run_primitive:INFO:2024-01-01 21:18:43,356: Submitting job using options {'optimization_level': 1, 'resilience_level': 0, 'transpilation': {'skip_transpilation': False, 'optimization_settings': {'level': 1}, 'coupling_map': None, 'basis_gates': None}, 'resilience': {'level': 0}, 'execution': {'shots': 4000, 'init_qubits': True, 'noise_model': None, 'seed_simulator': None}, 'environment': {'log_level': 'WARNING', 'job_tags': []}, 'simulator': {}}\n",
      "base_primitive._run_primitive:INFO:2024-01-01 21:18:46,285: Submitting job using options {'optimization_level': 1, 'resilience_level': 0, 'transpilation': {'skip_transpilation': False, 'optimization_settings': {'level': 1}, 'coupling_map': None, 'basis_gates': None}, 'resilience': {'level': 0}, 'execution': {'shots': 4000, 'init_qubits': True, 'noise_model': None, 'seed_simulator': None}, 'environment': {'log_level': 'WARNING', 'job_tags': []}, 'simulator': {}}\n",
      "base_primitive._run_primitive:INFO:2024-01-01 21:18:49,279: Submitting job using options {'optimization_level': 1, 'resilience_level': 0, 'transpilation': {'skip_transpilation': False, 'optimization_settings': {'level': 1}, 'coupling_map': None, 'basis_gates': None}, 'resilience': {'level': 0}, 'execution': {'shots': 4000, 'init_qubits': True, 'noise_model': None, 'seed_simulator': None}, 'environment': {'log_level': 'WARNING', 'job_tags': []}, 'simulator': {}}\n",
      "base_primitive._run_primitive:INFO:2024-01-01 21:18:52,999: Submitting job using options {'optimization_level': 1, 'resilience_level': 0, 'transpilation': {'skip_transpilation': False, 'optimization_settings': {'level': 1}, 'coupling_map': None, 'basis_gates': None}, 'resilience': {'level': 0}, 'execution': {'shots': 4000, 'init_qubits': True, 'noise_model': None, 'seed_simulator': None}, 'environment': {'log_level': 'WARNING', 'job_tags': []}, 'simulator': {}}\n",
      "base_primitive._run_primitive:INFO:2024-01-01 21:18:55,649: Submitting job using options {'optimization_level': 1, 'resilience_level': 0, 'transpilation': {'skip_transpilation': False, 'optimization_settings': {'level': 1}, 'coupling_map': None, 'basis_gates': None}, 'resilience': {'level': 0}, 'execution': {'shots': 4000, 'init_qubits': True, 'noise_model': None, 'seed_simulator': None}, 'environment': {'log_level': 'WARNING', 'job_tags': []}, 'simulator': {}}\n",
      "base_primitive._run_primitive:INFO:2024-01-01 21:18:58,515: Submitting job using options {'optimization_level': 1, 'resilience_level': 0, 'transpilation': {'skip_transpilation': False, 'optimization_settings': {'level': 1}, 'coupling_map': None, 'basis_gates': None}, 'resilience': {'level': 0}, 'execution': {'shots': 4000, 'init_qubits': True, 'noise_model': None, 'seed_simulator': None}, 'environment': {'log_level': 'WARNING', 'job_tags': []}, 'simulator': {}}\n",
      "base_primitive._run_primitive:INFO:2024-01-01 21:19:02,001: Submitting job using options {'optimization_level': 1, 'resilience_level': 0, 'transpilation': {'skip_transpilation': False, 'optimization_settings': {'level': 1}, 'coupling_map': None, 'basis_gates': None}, 'resilience': {'level': 0}, 'execution': {'shots': 4000, 'init_qubits': True, 'noise_model': None, 'seed_simulator': None}, 'environment': {'log_level': 'WARNING', 'job_tags': []}, 'simulator': {}}\n",
      "base_primitive._run_primitive:INFO:2024-01-01 21:19:06,007: Submitting job using options {'optimization_level': 1, 'resilience_level': 0, 'transpilation': {'skip_transpilation': False, 'optimization_settings': {'level': 1}, 'coupling_map': None, 'basis_gates': None}, 'resilience': {'level': 0}, 'execution': {'shots': 4000, 'init_qubits': True, 'noise_model': None, 'seed_simulator': None}, 'environment': {'log_level': 'WARNING', 'job_tags': []}, 'simulator': {}}\n",
      "base_primitive._run_primitive:INFO:2024-01-01 21:19:09,255: Submitting job using options {'optimization_level': 1, 'resilience_level': 0, 'transpilation': {'skip_transpilation': False, 'optimization_settings': {'level': 1}, 'coupling_map': None, 'basis_gates': None}, 'resilience': {'level': 0}, 'execution': {'shots': 4000, 'init_qubits': True, 'noise_model': None, 'seed_simulator': None}, 'environment': {'log_level': 'WARNING', 'job_tags': []}, 'simulator': {}}\n",
      "base_primitive._run_primitive:INFO:2024-01-01 21:19:13,284: Submitting job using options {'optimization_level': 1, 'resilience_level': 0, 'transpilation': {'skip_transpilation': False, 'optimization_settings': {'level': 1}, 'coupling_map': None, 'basis_gates': None}, 'resilience': {'level': 0}, 'execution': {'shots': 4000, 'init_qubits': True, 'noise_model': None, 'seed_simulator': None}, 'environment': {'log_level': 'WARNING', 'job_tags': []}, 'simulator': {}}\n",
      "base_primitive._run_primitive:INFO:2024-01-01 21:19:16,773: Submitting job using options {'optimization_level': 1, 'resilience_level': 0, 'transpilation': {'skip_transpilation': False, 'optimization_settings': {'level': 1}, 'coupling_map': None, 'basis_gates': None}, 'resilience': {'level': 0}, 'execution': {'shots': 4000, 'init_qubits': True, 'noise_model': None, 'seed_simulator': None}, 'environment': {'log_level': 'WARNING', 'job_tags': []}, 'simulator': {}}\n",
      "base_primitive._run_primitive:INFO:2024-01-01 21:19:19,266: Submitting job using options {'optimization_level': 1, 'resilience_level': 0, 'transpilation': {'skip_transpilation': False, 'optimization_settings': {'level': 1}, 'coupling_map': None, 'basis_gates': None}, 'resilience': {'level': 0}, 'execution': {'shots': 4000, 'init_qubits': True, 'noise_model': None, 'seed_simulator': None}, 'environment': {'log_level': 'WARNING', 'job_tags': []}, 'simulator': {}}\n",
      "base_primitive._run_primitive:INFO:2024-01-01 21:19:22,528: Submitting job using options {'optimization_level': 1, 'resilience_level': 0, 'transpilation': {'skip_transpilation': False, 'optimization_settings': {'level': 1}, 'coupling_map': None, 'basis_gates': None}, 'resilience': {'level': 0}, 'execution': {'shots': 4000, 'init_qubits': True, 'noise_model': None, 'seed_simulator': None}, 'environment': {'log_level': 'WARNING', 'job_tags': []}, 'simulator': {}}\n",
      "base_primitive._run_primitive:INFO:2024-01-01 21:19:25,157: Submitting job using options {'optimization_level': 1, 'resilience_level': 0, 'transpilation': {'skip_transpilation': False, 'optimization_settings': {'level': 1}, 'coupling_map': None, 'basis_gates': None}, 'resilience': {'level': 0}, 'execution': {'shots': 4000, 'init_qubits': True, 'noise_model': None, 'seed_simulator': None}, 'environment': {'log_level': 'WARNING', 'job_tags': []}, 'simulator': {}}\n",
      "base_primitive._run_primitive:INFO:2024-01-01 21:19:27,807: Submitting job using options {'optimization_level': 1, 'resilience_level': 0, 'transpilation': {'skip_transpilation': False, 'optimization_settings': {'level': 1}, 'coupling_map': None, 'basis_gates': None}, 'resilience': {'level': 0}, 'execution': {'shots': 4000, 'init_qubits': True, 'noise_model': None, 'seed_simulator': None}, 'environment': {'log_level': 'WARNING', 'job_tags': []}, 'simulator': {}}\n",
      "base_primitive._run_primitive:INFO:2024-01-01 21:19:30,606: Submitting job using options {'optimization_level': 1, 'resilience_level': 0, 'transpilation': {'skip_transpilation': False, 'optimization_settings': {'level': 1}, 'coupling_map': None, 'basis_gates': None}, 'resilience': {'level': 0}, 'execution': {'shots': 4000, 'init_qubits': True, 'noise_model': None, 'seed_simulator': None}, 'environment': {'log_level': 'WARNING', 'job_tags': []}, 'simulator': {}}\n",
      "base_primitive._run_primitive:INFO:2024-01-01 21:19:33,806: Submitting job using options {'optimization_level': 1, 'resilience_level': 0, 'transpilation': {'skip_transpilation': False, 'optimization_settings': {'level': 1}, 'coupling_map': None, 'basis_gates': None}, 'resilience': {'level': 0}, 'execution': {'shots': 4000, 'init_qubits': True, 'noise_model': None, 'seed_simulator': None}, 'environment': {'log_level': 'WARNING', 'job_tags': []}, 'simulator': {}}\n",
      "base_primitive._run_primitive:INFO:2024-01-01 21:19:36,571: Submitting job using options {'optimization_level': 1, 'resilience_level': 0, 'transpilation': {'skip_transpilation': False, 'optimization_settings': {'level': 1}, 'coupling_map': None, 'basis_gates': None}, 'resilience': {'level': 0}, 'execution': {'shots': 4000, 'init_qubits': True, 'noise_model': None, 'seed_simulator': None}, 'environment': {'log_level': 'WARNING', 'job_tags': []}, 'simulator': {}}\n",
      "base_primitive._run_primitive:INFO:2024-01-01 21:19:39,551: Submitting job using options {'optimization_level': 1, 'resilience_level': 0, 'transpilation': {'skip_transpilation': False, 'optimization_settings': {'level': 1}, 'coupling_map': None, 'basis_gates': None}, 'resilience': {'level': 0}, 'execution': {'shots': 4000, 'init_qubits': True, 'noise_model': None, 'seed_simulator': None}, 'environment': {'log_level': 'WARNING', 'job_tags': []}, 'simulator': {}}\n",
      "base_primitive._run_primitive:INFO:2024-01-01 21:19:42,362: Submitting job using options {'optimization_level': 1, 'resilience_level': 0, 'transpilation': {'skip_transpilation': False, 'optimization_settings': {'level': 1}, 'coupling_map': None, 'basis_gates': None}, 'resilience': {'level': 0}, 'execution': {'shots': 4000, 'init_qubits': True, 'noise_model': None, 'seed_simulator': None}, 'environment': {'log_level': 'WARNING', 'job_tags': []}, 'simulator': {}}\n",
      "base_primitive._run_primitive:INFO:2024-01-01 21:19:45,328: Submitting job using options {'optimization_level': 1, 'resilience_level': 0, 'transpilation': {'skip_transpilation': False, 'optimization_settings': {'level': 1}, 'coupling_map': None, 'basis_gates': None}, 'resilience': {'level': 0}, 'execution': {'shots': 4000, 'init_qubits': True, 'noise_model': None, 'seed_simulator': None}, 'environment': {'log_level': 'WARNING', 'job_tags': []}, 'simulator': {}}\n",
      "base_primitive._run_primitive:INFO:2024-01-01 21:19:48,516: Submitting job using options {'optimization_level': 1, 'resilience_level': 0, 'transpilation': {'skip_transpilation': False, 'optimization_settings': {'level': 1}, 'coupling_map': None, 'basis_gates': None}, 'resilience': {'level': 0}, 'execution': {'shots': 4000, 'init_qubits': True, 'noise_model': None, 'seed_simulator': None}, 'environment': {'log_level': 'WARNING', 'job_tags': []}, 'simulator': {}}\n",
      "base_primitive._run_primitive:INFO:2024-01-01 21:19:51,621: Submitting job using options {'optimization_level': 1, 'resilience_level': 0, 'transpilation': {'skip_transpilation': False, 'optimization_settings': {'level': 1}, 'coupling_map': None, 'basis_gates': None}, 'resilience': {'level': 0}, 'execution': {'shots': 4000, 'init_qubits': True, 'noise_model': None, 'seed_simulator': None}, 'environment': {'log_level': 'WARNING', 'job_tags': []}, 'simulator': {}}\n",
      "base_primitive._run_primitive:INFO:2024-01-01 21:19:54,682: Submitting job using options {'optimization_level': 1, 'resilience_level': 0, 'transpilation': {'skip_transpilation': False, 'optimization_settings': {'level': 1}, 'coupling_map': None, 'basis_gates': None}, 'resilience': {'level': 0}, 'execution': {'shots': 4000, 'init_qubits': True, 'noise_model': None, 'seed_simulator': None}, 'environment': {'log_level': 'WARNING', 'job_tags': []}, 'simulator': {}}\n",
      "base_primitive._run_primitive:INFO:2024-01-01 21:19:57,770: Submitting job using options {'optimization_level': 1, 'resilience_level': 0, 'transpilation': {'skip_transpilation': False, 'optimization_settings': {'level': 1}, 'coupling_map': None, 'basis_gates': None}, 'resilience': {'level': 0}, 'execution': {'shots': 4000, 'init_qubits': True, 'noise_model': None, 'seed_simulator': None}, 'environment': {'log_level': 'WARNING', 'job_tags': []}, 'simulator': {}}\n",
      "base_primitive._run_primitive:INFO:2024-01-01 21:20:00,652: Submitting job using options {'optimization_level': 1, 'resilience_level': 0, 'transpilation': {'skip_transpilation': False, 'optimization_settings': {'level': 1}, 'coupling_map': None, 'basis_gates': None}, 'resilience': {'level': 0}, 'execution': {'shots': 4000, 'init_qubits': True, 'noise_model': None, 'seed_simulator': None}, 'environment': {'log_level': 'WARNING', 'job_tags': []}, 'simulator': {}}\n",
      "base_primitive._run_primitive:INFO:2024-01-01 21:20:03,624: Submitting job using options {'optimization_level': 1, 'resilience_level': 0, 'transpilation': {'skip_transpilation': False, 'optimization_settings': {'level': 1}, 'coupling_map': None, 'basis_gates': None}, 'resilience': {'level': 0}, 'execution': {'shots': 4000, 'init_qubits': True, 'noise_model': None, 'seed_simulator': None}, 'environment': {'log_level': 'WARNING', 'job_tags': []}, 'simulator': {}}\n",
      "base_primitive._run_primitive:INFO:2024-01-01 21:20:06,920: Submitting job using options {'optimization_level': 1, 'resilience_level': 0, 'transpilation': {'skip_transpilation': False, 'optimization_settings': {'level': 1}, 'coupling_map': None, 'basis_gates': None}, 'resilience': {'level': 0}, 'execution': {'shots': 4000, 'init_qubits': True, 'noise_model': None, 'seed_simulator': None}, 'environment': {'log_level': 'WARNING', 'job_tags': []}, 'simulator': {}}\n",
      "base_primitive._run_primitive:INFO:2024-01-01 21:20:10,001: Submitting job using options {'optimization_level': 1, 'resilience_level': 0, 'transpilation': {'skip_transpilation': False, 'optimization_settings': {'level': 1}, 'coupling_map': None, 'basis_gates': None}, 'resilience': {'level': 0}, 'execution': {'shots': 4000, 'init_qubits': True, 'noise_model': None, 'seed_simulator': None}, 'environment': {'log_level': 'WARNING', 'job_tags': []}, 'simulator': {}}\n",
      "base_primitive._run_primitive:INFO:2024-01-01 21:20:13,094: Submitting job using options {'optimization_level': 1, 'resilience_level': 0, 'transpilation': {'skip_transpilation': False, 'optimization_settings': {'level': 1}, 'coupling_map': None, 'basis_gates': None}, 'resilience': {'level': 0}, 'execution': {'shots': 4000, 'init_qubits': True, 'noise_model': None, 'seed_simulator': None}, 'environment': {'log_level': 'WARNING', 'job_tags': []}, 'simulator': {}}\n",
      "base_primitive._run_primitive:INFO:2024-01-01 21:20:16,300: Submitting job using options {'optimization_level': 1, 'resilience_level': 0, 'transpilation': {'skip_transpilation': False, 'optimization_settings': {'level': 1}, 'coupling_map': None, 'basis_gates': None}, 'resilience': {'level': 0}, 'execution': {'shots': 4000, 'init_qubits': True, 'noise_model': None, 'seed_simulator': None}, 'environment': {'log_level': 'WARNING', 'job_tags': []}, 'simulator': {}}\n",
      "base_primitive._run_primitive:INFO:2024-01-01 21:20:19,378: Submitting job using options {'optimization_level': 1, 'resilience_level': 0, 'transpilation': {'skip_transpilation': False, 'optimization_settings': {'level': 1}, 'coupling_map': None, 'basis_gates': None}, 'resilience': {'level': 0}, 'execution': {'shots': 4000, 'init_qubits': True, 'noise_model': None, 'seed_simulator': None}, 'environment': {'log_level': 'WARNING', 'job_tags': []}, 'simulator': {}}\n",
      "base_primitive._run_primitive:INFO:2024-01-01 21:20:22,687: Submitting job using options {'optimization_level': 1, 'resilience_level': 0, 'transpilation': {'skip_transpilation': False, 'optimization_settings': {'level': 1}, 'coupling_map': None, 'basis_gates': None}, 'resilience': {'level': 0}, 'execution': {'shots': 4000, 'init_qubits': True, 'noise_model': None, 'seed_simulator': None}, 'environment': {'log_level': 'WARNING', 'job_tags': []}, 'simulator': {}}\n",
      "base_primitive._run_primitive:INFO:2024-01-01 21:20:26,105: Submitting job using options {'optimization_level': 1, 'resilience_level': 0, 'transpilation': {'skip_transpilation': False, 'optimization_settings': {'level': 1}, 'coupling_map': None, 'basis_gates': None}, 'resilience': {'level': 0}, 'execution': {'shots': 4000, 'init_qubits': True, 'noise_model': None, 'seed_simulator': None}, 'environment': {'log_level': 'WARNING', 'job_tags': []}, 'simulator': {}}\n"
     ]
    }
   ],
   "source": [
    "optimizer = COBYLA(maxiter=35) #define the optimizer\n",
    "backend=service.backend(\"ibmq_qasm_simulator\") #scegli backend\n",
    "with Session (backend=backend) as s:\n",
    "    vqe= SamplingVQE(sampler=Sampler(backend=backend, session=s), ansatz=ansatz, optimizer=optimizer) #define the SamplingVqe\n",
    "    # run SamplingVQE\n",
    "    result = vqe.compute_minimum_eigenvalue(qubitOp)\n",
    "s.close()"
   ]
  },
  {
   "cell_type": "code",
   "execution_count": 25,
   "id": "253a1ec5-8dde-4b74-b30d-edc8ca55cc98",
   "metadata": {
    "colab": {
     "base_uri": "https://localhost:8080/",
     "height": 496
    },
    "executionInfo": {
     "elapsed": 431,
     "status": "ok",
     "timestamp": 1703359000027,
     "user": {
      "displayName": "valeria prevete",
      "userId": "11323486858887833035"
     },
     "user_tz": -60
    },
    "id": "253a1ec5-8dde-4b74-b30d-edc8ca55cc98",
    "outputId": "fc6e90a3-8c03-4676-d6ba-f258a8d6f617",
    "tags": []
   },
   "outputs": [
    {
     "name": "stdout",
     "output_type": "stream",
     "text": [
      "energy: -27697.12525\n",
      "time: 108.5899486541748\n",
      "feasible: True\n",
      "solution: [3, 1, 2, 0]\n",
      "solution objective: 138.0\n"
     ]
    },
    {
     "data": {
      "image/png": "[encoded data removed]",
      "text/plain": [
       "<Figure size 640x480 with 1 Axes>"
      ]
     },
     "metadata": {},
     "output_type": "display_data"
    }
   ],
   "source": [
    "#result\n",
    "\n",
    "print(\"energy:\", result.eigenvalue.real)\n",
    "print(\"time:\", result.optimizer_time)\n",
    "x= tsp.sample_most_likely(result.eigenstate)\n",
    "print(\"feasible:\", qp.is_feasible(x))\n",
    "z = tsp.interpret(x) #cammino\n",
    "print(\"solution:\", z)\n",
    "p=tsp.tsp_value(z, adj_matrix) # peso totale del cammino\n",
    "print(\"solution objective:\", p)\n",
    "draw_tsp_solution(tsp.graph, z, colors, pos) #plot della soluzioe"
   ]
  },
  {
   "cell_type": "code",
   "execution_count": null,
   "id": "ea90062d-023c-469d-bbfc-c618d1a9b98a",
   "metadata": {
    "id": "ea90062d-023c-469d-bbfc-c618d1a9b98a"
   },
   "outputs": [],
   "source": []
  }
 ],
 "metadata": {
  "colab": {
   "provenance": []
  },
  "kernelspec": {
   "display_name": "Python 3 (ipykernel)",
   "language": "python",
   "name": "python3"
  },
  "language_info": {
   "codemirror_mode": {
    "name": "ipython",
    "version": 3
   },
   "file_extension": ".py",
   "mimetype": "text/x-python",
   "name": "python",
   "nbconvert_exporter": "python",
   "pygments_lexer": "ipython3",
   "version": "3.10.8"
  },
  "widgets": {
   "application/vnd.jupyter.widget-state+json": {
    "state": {
     "013c388aa5264552ad738a8165ef63b9": {
      "model_module": "@jupyter-widgets/controls",
      "model_module_version": "2.0.0",
      "model_name": "HTMLStyleModel",
      "state": {
       "description_width": "",
       "font_size": null,
       "text_color": null
      }
     },
     "21b4a2aa7ebf45b6a21e31077fb9994d": {
      "model_module": "@jupyter-widgets/base",
      "model_module_version": "2.0.0",
      "model_name": "LayoutModel",
      "state": {
       "margin": "0px 0px 10px 0px"
      }
     },
     "235ffebd707a4ea48042a91a0733cbaa": {
      "model_module": "@jupyter-widgets/base",
      "model_module_version": "2.0.0",
      "model_name": "LayoutModel",
      "state": {}
     },
     "23bb3f6f5da246a2ad519c95a1fdc43f": {
      "model_module": "@jupyter-widgets/controls",
      "model_module_version": "2.0.0",
      "model_name": "ButtonModel",
      "state": {
       "button_style": "primary",
       "description": "Clear",
       "layout": "IPY_MODEL_4040b1b025e74d01b749eb964381c80b",
       "style": "IPY_MODEL_d84486bb4ab7400a90b7921f14c9f961",
       "tooltip": null
      }
     },
     "249e048e797b4535b414a8686ab1959d": {
      "model_module": "@jupyter-widgets/controls",
      "model_module_version": "2.0.0",
      "model_name": "HTMLStyleModel",
      "state": {
       "description_width": "",
       "font_size": null,
       "text_color": null
      }
     },
     "2f646d4da42f4eea97942fb37ec35eb7": {
      "model_module": "@jupyter-widgets/base",
      "model_module_version": "2.0.0",
      "model_name": "LayoutModel",
      "state": {
       "width": "145px"
      }
     },
     "3701e13f27354c77bedde7f886633867": {
      "model_module": "@jupyter-widgets/controls",
      "model_module_version": "2.0.0",
      "model_name": "HBoxModel",
      "state": {
       "children": [
        "IPY_MODEL_bff5c31710c444b6b024f8dc0c483499",
        "IPY_MODEL_be404ffa9f1c419ab63b687cf92f6aa7",
        "IPY_MODEL_53a19c4466364291ab178383981941e4",
        "IPY_MODEL_46ad552f8a9f4ef788915cbc721e9f32",
        "IPY_MODEL_49815cbe219d48dc93642e65442d4841"
       ],
       "layout": "IPY_MODEL_9b36ec2e8f4e43d8914a8777cc2cf50e"
      }
     },
     "4040b1b025e74d01b749eb964381c80b": {
      "model_module": "@jupyter-widgets/base",
      "model_module_version": "2.0.0",
      "model_name": "LayoutModel",
      "state": {
       "grid_area": "right",
       "padding": "0px 0px 0px 0px",
       "width": "70px"
      }
     },
     "46ad552f8a9f4ef788915cbc721e9f32": {
      "model_module": "@jupyter-widgets/controls",
      "model_module_version": "2.0.0",
      "model_name": "HTMLModel",
      "state": {
       "layout": "IPY_MODEL_bf95458661b84efb89da618766669ec7",
       "style": "IPY_MODEL_249e048e797b4535b414a8686ab1959d",
       "value": "<h5>Queue</h5>"
      }
     },
     "49815cbe219d48dc93642e65442d4841": {
      "model_module": "@jupyter-widgets/controls",
      "model_module_version": "2.0.0",
      "model_name": "HTMLModel",
      "state": {
       "layout": "IPY_MODEL_235ffebd707a4ea48042a91a0733cbaa",
       "style": "IPY_MODEL_91b9346780ed41cbaec0196a62b7a3b7",
       "value": "<h5>Message</h5>"
      }
     },
     "53a19c4466364291ab178383981941e4": {
      "model_module": "@jupyter-widgets/controls",
      "model_module_version": "2.0.0",
      "model_name": "HTMLModel",
      "state": {
       "layout": "IPY_MODEL_adbc7d4c28b540cb810358ba42103cba",
       "style": "IPY_MODEL_91c7fcbe43234177a4125e5c7891b3b4",
       "value": "<h5>Status</h5>"
      }
     },
     "5faa9eee60be44f9b90321415d286ae4": {
      "model_module": "@jupyter-widgets/base",
      "model_module_version": "2.0.0",
      "model_name": "LayoutModel",
      "state": {
       "grid_template_areas": "\n                                       \". . . . right \"\n                                        ",
       "grid_template_columns": "20% 20% 20% 20% 20%",
       "width": "100%"
      }
     },
     "6d6b3221771243858fdf61ea5fde4b5e": {
      "model_module": "@jupyter-widgets/controls",
      "model_module_version": "2.0.0",
      "model_name": "HTMLModel",
      "state": {
       "layout": "IPY_MODEL_21b4a2aa7ebf45b6a21e31077fb9994d",
       "style": "IPY_MODEL_8f02e54561e74d00a82de2562f1baf86",
       "value": "<p style='font-family: IBM Plex Sans, Arial, Helvetica, sans-serif; font-size: 20px; font-weight: medium;'>Circuit Properties</p>"
      }
     },
     "7f041dd65f5f44c1894068e80655416f": {
      "model_module": "@jupyter-widgets/controls",
      "model_module_version": "2.0.0",
      "model_name": "GridBoxModel",
      "state": {
       "children": [
        "IPY_MODEL_23bb3f6f5da246a2ad519c95a1fdc43f"
       ],
       "layout": "IPY_MODEL_5faa9eee60be44f9b90321415d286ae4"
      }
     },
     "8f02e54561e74d00a82de2562f1baf86": {
      "model_module": "@jupyter-widgets/controls",
      "model_module_version": "2.0.0",
      "model_name": "HTMLStyleModel",
      "state": {
       "description_width": "",
       "font_size": null,
       "text_color": null
      }
     },
     "91b9346780ed41cbaec0196a62b7a3b7": {
      "model_module": "@jupyter-widgets/controls",
      "model_module_version": "2.0.0",
      "model_name": "HTMLStyleModel",
      "state": {
       "description_width": "",
       "font_size": null,
       "text_color": null
      }
     },
     "91c7fcbe43234177a4125e5c7891b3b4": {
      "model_module": "@jupyter-widgets/controls",
      "model_module_version": "2.0.0",
      "model_name": "HTMLStyleModel",
      "state": {
       "description_width": "",
       "font_size": null,
       "text_color": null
      }
     },
     "9b36ec2e8f4e43d8914a8777cc2cf50e": {
      "model_module": "@jupyter-widgets/base",
      "model_module_version": "2.0.0",
      "model_name": "LayoutModel",
      "state": {
       "margin": "0px 0px 0px 37px",
       "width": "600px"
      }
     },
     "adbc7d4c28b540cb810358ba42103cba": {
      "model_module": "@jupyter-widgets/base",
      "model_module_version": "2.0.0",
      "model_name": "LayoutModel",
      "state": {
       "width": "95px"
      }
     },
     "be404ffa9f1c419ab63b687cf92f6aa7": {
      "model_module": "@jupyter-widgets/controls",
      "model_module_version": "2.0.0",
      "model_name": "HTMLModel",
      "state": {
       "layout": "IPY_MODEL_2f646d4da42f4eea97942fb37ec35eb7",
       "style": "IPY_MODEL_cd72d70ea1a1401c8651cc1ce3d24819",
       "value": "<h5>Backend</h5>"
      }
     },
     "bf95458661b84efb89da618766669ec7": {
      "model_module": "@jupyter-widgets/base",
      "model_module_version": "2.0.0",
      "model_name": "LayoutModel",
      "state": {
       "width": "70px"
      }
     },
     "bff5c31710c444b6b024f8dc0c483499": {
      "model_module": "@jupyter-widgets/controls",
      "model_module_version": "2.0.0",
      "model_name": "HTMLModel",
      "state": {
       "layout": "IPY_MODEL_d837b2153447463881f40a5cf861b9fe",
       "style": "IPY_MODEL_013c388aa5264552ad738a8165ef63b9",
       "value": "<h5>Job ID</h5>"
      }
     },
     "cd72d70ea1a1401c8651cc1ce3d24819": {
      "model_module": "@jupyter-widgets/controls",
      "model_module_version": "2.0.0",
      "model_name": "HTMLStyleModel",
      "state": {
       "description_width": "",
       "font_size": null,
       "text_color": null
      }
     },
     "d837b2153447463881f40a5cf861b9fe": {
      "model_module": "@jupyter-widgets/base",
      "model_module_version": "2.0.0",
      "model_name": "LayoutModel",
      "state": {
       "width": "190px"
      }
     },
     "d84486bb4ab7400a90b7921f14c9f961": {
      "model_module": "@jupyter-widgets/controls",
      "model_module_version": "2.0.0",
      "model_name": "ButtonStyleModel",
      "state": {
       "font_family": null,
       "font_size": null,
       "font_style": null,
       "font_variant": null,
       "font_weight": null,
       "text_color": null,
       "text_decoration": null
      }
     }
    },
    "version_major": 2,
    "version_minor": 0
   }
  }
 },
 "nbformat": 4,
 "nbformat_minor": 5
}
