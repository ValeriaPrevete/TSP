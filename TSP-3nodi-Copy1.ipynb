{
 "cells": [
  {
   "cell_type": "code",
   "execution_count": 1,
   "id": "7e40439a-5d17-4b76-a6ec-2d0e0f9bbc2f",
   "metadata": {
    "tags": []
   },
   "outputs": [
    {
     "name": "stderr",
     "output_type": "stream",
     "text": [
      "qiskit_runtime_service.__init__:INFO:2023-12-22 08:06:01,789: Default instance: ibm-q/open/main\n"
     ]
    }
   ],
   "source": [
    "# Importing standard Qiskit libraries\n",
    "from qiskit import QuantumCircuit, transpile\n",
    "from qiskit.tools.jupyter import *\n",
    "from qiskit.visualization import *\n",
    "from ibm_quantum_widgets import *\n",
    "\n",
    "# qiskit-ibmq-provider has been deprecated.\n",
    "# Please see the Migration Guides in https://ibm.biz/provider_migration_guide for more detail.\n",
    "from qiskit_ibm_runtime import QiskitRuntimeService, Sampler, Estimator, Session, Options\n",
    "\n",
    "# Loading your IBM Quantum account(s)\n",
    "service = QiskitRuntimeService(channel=\"ibm_quantum\")\n",
    "\n",
    "# Invoke a primitive. For more details see https://qiskit.org/documentation/partners/qiskit_ibm_runtime/tutorials.html\n",
    "# result = Sampler(\"ibmq_qasm_simulator\").run(circuits).result()"
   ]
  },
  {
   "cell_type": "code",
   "execution_count": 2,
   "id": "4796e288-b72e-4a0f-b8b8-a9476b07bb0b",
   "metadata": {
    "tags": []
   },
   "outputs": [
    {
     "data": {
      "text/html": [
       "<h3>Version Information</h3><table><tr><th>Software</th><th>Version</th></tr><tr><td><code>qiskit</code></td><td>0.45.0</td></tr><tr><td><code>qiskit_ibm_provider</code></td><td>0.7.3</td></tr><tr><td><code>qiskit_ibm_runtime</code></td><td>0.14.0</td></tr><tr><td><code>qiskit_aer</code></td><td>0.12.2</td></tr><tr><th colspan='2'>System information</th></tr><tr><td>Python version</td><td>3.10.8</td></tr><tr><td>Python compiler</td><td>GCC 10.4.0</td></tr><tr><td>Python build</td><td>main, Nov 22 2022 08:26:04</td></tr><tr><td>OS</td><td>Linux</td></tr><tr><td>CPUs</td><td>8</td></tr><tr><td>Memory (Gb)</td><td>31.142555236816406</td></tr><tr><td colspan='2'>Fri Dec 22 08:06:06 2023 UTC</td></tr></table>"
      ],
      "text/plain": [
       "<IPython.core.display.HTML object>"
      ]
     },
     "metadata": {},
     "output_type": "display_data"
    }
   ],
   "source": [
    "import qiskit.tools.jupyter\n",
    "\n",
    "%qiskit_version_table"
   ]
  },
  {
   "cell_type": "code",
   "execution_count": 3,
   "id": "cc5e176e-27a6-4772-9faa-0255a56de6e2",
   "metadata": {
    "tags": []
   },
   "outputs": [],
   "source": [
    "# useful additional packages\n",
    "import matplotlib.pyplot as plt\n",
    "import numpy as np\n",
    "import pylab\n",
    "\n",
    "import networkx as nx\n",
    "\n",
    "from qiskit.tools.visualization import plot_histogram\n",
    "from qiskit.circuit.library import TwoLocal\n",
    "from qiskit_optimization.applications import Maxcut, Tsp\n",
    "from qiskit_algorithms import SamplingVQE, NumPyMinimumEigensolver\n",
    "from qiskit_algorithms.optimizers import SPSA, COBYLA\n",
    "from qiskit_algorithms.utils import algorithm_globals\n",
    "from qiskit.primitives import Sampler\n",
    "from qiskit_optimization.algorithms import MinimumEigenOptimizer\n",
    "\n",
    "from qiskit_optimization.converters import QuadraticProgramToQubo\n",
    "\n",
    "from qiskit.circuit import QuantumCircuit, Parameter, ParameterVector\n",
    "\n",
    "from itertools import permutations #per brutal approches TSP"
   ]
  },
  {
   "cell_type": "code",
   "execution_count": 4,
   "id": "27542a9f-2a47-42dd-98e8-65eb3c951cb4",
   "metadata": {
    "tags": []
   },
   "outputs": [],
   "source": [
    "#draw a graph by coloring the nodes \n",
    "def draw_graph(G, colors, pos):\n",
    "    default_axes = plt.axes(frameon=True)\n",
    "    nx.draw_networkx(G, node_color=colors, node_size=600, alpha=0.8, ax=default_axes, pos=pos)\n",
    "    edge_labels = nx.get_edge_attributes(G, \"weight\")\n",
    "    nx.draw_networkx_edge_labels(G, pos=pos, edge_labels=edge_labels)\n",
    "    \n",
    "def draw_tsp_solution(G, order, colors, pos):\n",
    "    G2 = nx.DiGraph()\n",
    "    G2.add_nodes_from(G)\n",
    "    n = len(order)\n",
    "    for i in range(n):\n",
    "        j = (i + 1) % n\n",
    "        G2.add_edge(order[i], order[j], weight=G[order[i]][order[j]][\"weight\"])\n",
    "    default_axes = plt.axes(frameon=True)\n",
    "    nx.draw_networkx(\n",
    "        G2, node_color=colors, edge_color=\"b\", node_size=600, alpha=0.8, ax=default_axes, pos=pos\n",
    "    )\n",
    "    edge_labels = nx.get_edge_attributes(G2, \"weight\")\n",
    "    nx.draw_networkx_edge_labels(G2, pos, font_color=\"b\", edge_labels=edge_labels)"
   ]
  },
  {
   "cell_type": "markdown",
   "id": "0f0119be-2001-4514-906b-9b0c66d4dcc8",
   "metadata": {},
   "source": [
    "### TSP "
   ]
  },
  {
   "cell_type": "code",
   "execution_count": 5,
   "id": "46b5c2e7-0d00-42f7-a980-991f69547833",
   "metadata": {
    "tags": []
   },
   "outputs": [
    {
     "name": "stdout",
     "output_type": "stream",
     "text": [
      "distance\n",
      " [[ 0. 90. 87.]\n",
      " [90.  0. 17.]\n",
      " [87. 17.  0.]]\n"
     ]
    },
    {
     "data": {
      "image/png": "[encoded data removed]",
      "text/plain": [
       "<Figure size 640x480 with 1 Axes>"
      ]
     },
     "metadata": {},
     "output_type": "display_data"
    }
   ],
   "source": [
    "# Generating a graph of 3 nodes\n",
    "n = 3\n",
    "num_qubits = n**2\n",
    "tsp = Tsp.create_random_instance(n) \n",
    "#G=tsp.graph\n",
    "#tsp = Tsp(G)\n",
    "adj_matrix = nx.to_numpy_array(tsp.graph)\n",
    "print(\"distance\\n\", adj_matrix)\n",
    "colors = [\"r\" for node in tsp.graph.nodes]\n",
    "pos = [tsp.graph.nodes[node][\"pos\"] for node in tsp.graph.nodes]\n",
    "draw_graph(tsp.graph, colors, pos)\n"
   ]
  },
  {
   "cell_type": "markdown",
   "id": "e6e59207-ddd8-46ec-ac23-09ba365550e2",
   "metadata": {},
   "source": [
    "Define the Ising model"
   ]
  },
  {
   "cell_type": "code",
   "execution_count": 6,
   "id": "f5a39350-7797-4fce-b6b4-66a0d69ef114",
   "metadata": {
    "tags": []
   },
   "outputs": [],
   "source": [
    "qp_tsp = tsp.to_quadratic_program()\n",
    "qp2qubo_tsp = QuadraticProgramToQubo()\n",
    "qubo_tsp = qp2qubo_tsp.convert(qp_tsp)\n",
    "qubitOp_tsp, offset = qubo_tsp.to_ising()"
   ]
  },
  {
   "cell_type": "code",
   "execution_count": 7,
   "id": "61f07f3f-69de-435b-b5b4-24458980a413",
   "metadata": {
    "tags": []
   },
   "outputs": [
    {
     "name": "stdout",
     "output_type": "stream",
     "text": [
      "energy: -7087.0\n",
      "tsp objective: 194.0\n",
      "feasible: True\n",
      "solution: [0, 1, 2]\n",
      "solution objective: 194.0\n"
     ]
    }
   ],
   "source": [
    "# EXACT SOLUTION\n",
    "#Making the Hamiltonian in its full form and getting the lowest eigenvalue and eigenvector\n",
    "ee = NumPyMinimumEigensolver()\n",
    "result_tsp_1 = ee.compute_minimum_eigenvalue(qubitOp_tsp)\n",
    "\n",
    "print(\"energy:\", result_tsp_1.eigenvalue.real)\n",
    "print(\"tsp objective:\", result_tsp_1.eigenvalue.real + offset)\n",
    "x_tsp = tsp.sample_most_likely(result_tsp_1.eigenstate)\n",
    "print(\"feasible:\", qubo_tsp.is_feasible(x_tsp))\n",
    "z_tsp = tsp.interpret(x_tsp)\n",
    "print(\"solution:\", z_tsp)\n",
    "print(\"solution objective:\", tsp.tsp_value(z_tsp, adj_matrix))"
   ]
  },
  {
   "cell_type": "code",
   "execution_count": 8,
   "id": "0c4046ca-47b6-41c7-bd8d-7c4a84d5c7a7",
   "metadata": {
    "tags": []
   },
   "outputs": [],
   "source": [
    "#algorithm_globals.random_seed = 123\n",
    "#seed = 10598"
   ]
  },
  {
   "cell_type": "code",
   "execution_count": 9,
   "id": "dbea3b12-e89b-473b-b4d6-59c79cf76266",
   "metadata": {
    "tags": []
   },
   "outputs": [],
   "source": [
    "optimizer = COBYLA(maxiter=300, tol=0.5)\n",
    "ry= TwoLocal(qubitOp_tsp.num_qubits, \"ry\", \"cz\", reps=2, entanglement=\"linear\")\n",
    "vqe= SamplingVQE(sampler=Sampler(), ansatz=ry, optimizer=optimizer)\n",
    "# run SamplingVQE \n",
    "while True:\n",
    "    result=vqe.compute_minimum_eigenvalue(qubitOp_tsp)\n",
    "    if qp_tsp.is_feasible(tsp.sample_most_likely(result.eigenstate)) == True:\n",
    "        break"
   ]
  },
  {
   "cell_type": "code",
   "execution_count": 10,
   "id": "253a1ec5-8dde-4b74-b30d-edc8ca55cc98",
   "metadata": {
    "tags": []
   },
   "outputs": [
    {
     "name": "stdout",
     "output_type": "stream",
     "text": [
      "energy: -6672.322246647088\n",
      "time: 13.404187202453613\n",
      "feasible: True\n",
      "solution: [0, 2, 1]\n",
      "solution objective: 194.0\n"
     ]
    },
    {
     "data": {
      "image/png": "[encoded data removed]",
      "text/plain": [
       "<Figure size 640x480 with 1 Axes>"
      ]
     },
     "metadata": {},
     "output_type": "display_data"
    }
   ],
   "source": [
    "print(\"energy:\", result.eigenvalue.real)\n",
    "print(\"time:\", result.optimizer_time)\n",
    "x= tsp.sample_most_likely(result.eigenstate)\n",
    "print(\"feasible:\", qp_tsp.is_feasible(x))\n",
    "z = tsp.interpret(x)\n",
    "print(\"solution:\", z)\n",
    "print(\"solution objective:\", tsp.tsp_value(z, adj_matrix))\n",
    "draw_tsp_solution(tsp.graph, z, colors, pos)\n",
    "#tsp.draw(x_cz, pos=pos_3)"
   ]
  },
  {
   "cell_type": "code",
   "execution_count": 11,
   "id": "eabfa113-82f7-47ff-af64-58ef6f866acf",
   "metadata": {},
   "outputs": [],
   "source": [
    "# create the ANSATZ\n",
    "theta = ParameterVector('theta', qubitOp_tsp.num_qubits)\n",
    "ansatz = QuantumCircuit(qubitOp_tsp.num_qubits)\n",
    "for i in range (0,qubitOp_tsp.num_qubits, tsp.graph.number_of_nodes()):\n",
    "    ansatz.x(i)\n",
    "    for j in range(i+1,i+tsp.graph.number_of_nodes(),1):\n",
    "        ansatz.ry(theta[j-1], j)\n",
    "        ansatz.cz(j-1,j)\n",
    "        ansatz.ry(-theta[j-1], j)\n",
    "    for j in range(i+1,i+tsp.graph.number_of_nodes(),1):\n",
    "        ansatz.cx(j,j-1)"
   ]
  },
  {
   "cell_type": "code",
   "execution_count": 12,
   "id": "955a5e68-1663-44f0-a40e-6fb96b2d03c5",
   "metadata": {
    "tags": []
   },
   "outputs": [],
   "source": [
    "optimizer = COBYLA(maxiter=300, tol=0.5)\n",
    "vqe= SamplingVQE(sampler=Sampler(), ansatz=ansatz, optimizer=optimizer)\n",
    "# run SamplingVQE \n",
    "while True:\n",
    "    result=vqe.compute_minimum_eigenvalue(qubitOp_tsp)\n",
    "    if qp_tsp.is_feasible(tsp.sample_most_likely(result.eigenstate)) == True:\n",
    "        break"
   ]
  },
  {
   "cell_type": "code",
   "execution_count": 13,
   "id": "4b2879dc-bdc8-4759-b5ab-691b9a01c91e",
   "metadata": {
    "tags": []
   },
   "outputs": [
    {
     "name": "stdout",
     "output_type": "stream",
     "text": [
      "energy: -6571.587826412914\n",
      "time: 0.7345790863037109\n",
      "feasible: True\n",
      "solution: [0, 1, 2]\n",
      "solution objective: 194.0\n"
     ]
    },
    {
     "data": {
      "image/png": "[encoded data removed]",
      "text/plain": [
       "<Figure size 640x480 with 1 Axes>"
      ]
     },
     "metadata": {},
     "output_type": "display_data"
    }
   ],
   "source": [
    "print(\"energy:\", result.eigenvalue.real)\n",
    "print(\"time:\", result.optimizer_time)\n",
    "x= tsp.sample_most_likely(result.eigenstate)\n",
    "print(\"feasible:\", qp_tsp.is_feasible(x))\n",
    "z = tsp.interpret(x)\n",
    "print(\"solution:\", z)\n",
    "print(\"solution objective:\", tsp.tsp_value(z, adj_matrix))\n",
    "draw_tsp_solution(tsp.graph, z, colors, pos)\n",
    "#tsp.draw(x_cz, pos=pos_3)"
   ]
  },
  {
   "cell_type": "code",
   "execution_count": null,
   "id": "00071522-f1d4-4c67-ab60-383f5447c49d",
   "metadata": {},
   "outputs": [],
   "source": []
  },
  {
   "cell_type": "code",
   "execution_count": 14,
   "id": "19f6dc9c-13f7-4de2-bd49-643325779d9d",
   "metadata": {
    "tags": []
   },
   "outputs": [
    {
     "name": "stdout",
     "output_type": "stream",
     "text": [
      "distance\n",
      " [[ 0. 81. 63. 42.]\n",
      " [81.  0. 71. 44.]\n",
      " [63. 71.  0. 39.]\n",
      " [42. 44. 39.  0.]]\n"
     ]
    },
    {
     "data": {
      "image/png": "[encoded data removed]",
      "text/plain": [
       "<Figure size 640x480 with 1 Axes>"
      ]
     },
     "metadata": {},
     "output_type": "display_data"
    }
   ],
   "source": [
    "# Generating a graph of 3 nodes\n",
    "n = 4\n",
    "num_qubits = n**2\n",
    "tsp = Tsp.create_random_instance(n) \n",
    "#G=tsp.graph\n",
    "#tsp = Tsp(G)\n",
    "adj_matrix = nx.to_numpy_array(tsp.graph)\n",
    "print(\"distance\\n\", adj_matrix)\n",
    "colors = [\"r\" for node in tsp.graph.nodes]\n",
    "pos = [tsp.graph.nodes[node][\"pos\"] for node in tsp.graph.nodes]\n",
    "draw_graph(tsp.graph, colors, pos)"
   ]
  },
  {
   "cell_type": "code",
   "execution_count": 15,
   "id": "b62c9d9a-2120-461e-91d1-ef41918ab000",
   "metadata": {
    "tags": []
   },
   "outputs": [],
   "source": [
    "qp_tsp = tsp.to_quadratic_program()\n",
    "qp2qubo_tsp = QuadraticProgramToQubo()\n",
    "qubo_tsp = qp2qubo_tsp.convert(qp_tsp)\n",
    "qubitOp_tsp, offset = qubo_tsp.to_ising()"
   ]
  },
  {
   "cell_type": "code",
   "execution_count": 16,
   "id": "24dbb598-60b7-44a9-9d81-ab0e83f40eb0",
   "metadata": {
    "tags": []
   },
   "outputs": [
    {
     "name": "stdout",
     "output_type": "stream",
     "text": [
      "energy: -43996.0\n",
      "tsp objective: 220.0\n",
      "feasible: True\n",
      "solution: [0, 3, 1, 2]\n",
      "solution objective: 220.0\n"
     ]
    }
   ],
   "source": [
    "# EXACT SOLUTION\n",
    "#Making the Hamiltonian in its full form and getting the lowest eigenvalue and eigenvector\n",
    "ee = NumPyMinimumEigensolver()\n",
    "result_tsp_1 = ee.compute_minimum_eigenvalue(qubitOp_tsp)\n",
    "\n",
    "print(\"energy:\", result_tsp_1.eigenvalue.real)\n",
    "print(\"tsp objective:\", result_tsp_1.eigenvalue.real + offset)\n",
    "x_tsp = tsp.sample_most_likely(result_tsp_1.eigenstate)\n",
    "print(\"feasible:\", qubo_tsp.is_feasible(x_tsp))\n",
    "z_tsp = tsp.interpret(x_tsp)\n",
    "print(\"solution:\", z_tsp)\n",
    "print(\"solution objective:\", tsp.tsp_value(z_tsp, adj_matrix))"
   ]
  },
  {
   "cell_type": "code",
   "execution_count": 19,
   "id": "e6b8fa55-e685-4ced-940d-1ae303ade2ff",
   "metadata": {
    "tags": []
   },
   "outputs": [],
   "source": [
    "# create the ANSATZ\n",
    "theta = ParameterVector('theta', qubitOp_tsp.num_qubits)\n",
    "ansatz = QuantumCircuit(qubitOp_tsp.num_qubits)\n",
    "for i in range (0,qubitOp_tsp.num_qubits, tsp.graph.number_of_nodes()):\n",
    "    ansatz.x(i)\n",
    "    for j in range(i+1,i+tsp.graph.number_of_nodes(),1):\n",
    "        ansatz.ry(theta[j-1], j)\n",
    "        ansatz.cz(j-1,j)\n",
    "        ansatz.ry(-theta[j-1], j)\n",
    "    for j in range(i+1,i+tsp.graph.number_of_nodes(),1):\n",
    "        ansatz.cx(j,j-1)"
   ]
  },
  {
   "cell_type": "code",
   "execution_count": 21,
   "id": "b757104a-3e1f-4e07-b32f-83fa7bea026a",
   "metadata": {
    "tags": []
   },
   "outputs": [],
   "source": [
    "optimizer = COBYLA(maxiter=100)\n",
    "vqe= SamplingVQE(sampler=Sampler(), ansatz=ansatz, optimizer=optimizer)\n",
    "# run SamplingVQE \n",
    "while True:\n",
    "    result=vqe.compute_minimum_eigenvalue(qubitOp_tsp)\n",
    "    if qp_tsp.is_feasible(tsp.sample_most_likely(result.eigenstate)) == True:\n",
    "        break"
   ]
  },
  {
   "cell_type": "code",
   "execution_count": 22,
   "id": "98910746-2a44-4e52-96a9-99d5dad85e4a",
   "metadata": {
    "tags": []
   },
   "outputs": [
    {
     "name": "stdout",
     "output_type": "stream",
     "text": [
      "energy: -43985.87496303683\n",
      "time: 32.48316550254822\n",
      "feasible: True\n",
      "solution: [0, 1, 3, 2]\n",
      "solution objective: 227.0\n"
     ]
    },
    {
     "data": {
      "image/png": "[encoded data removed]",
      "text/plain": [
       "<Figure size 640x480 with 1 Axes>"
      ]
     },
     "metadata": {},
     "output_type": "display_data"
    }
   ],
   "source": [
    "print(\"energy:\", result.eigenvalue.real)\n",
    "print(\"time:\", result.optimizer_time)\n",
    "x= tsp.sample_most_likely(result.eigenstate)\n",
    "print(\"feasible:\", qp_tsp.is_feasible(x))\n",
    "z = tsp.interpret(x)\n",
    "print(\"solution:\", z)\n",
    "print(\"solution objective:\", tsp.tsp_value(z, adj_matrix))\n",
    "draw_tsp_solution(tsp.graph, z, colors, pos)\n",
    "#tsp.draw(x_cz, pos=pos_3)"
   ]
  },
  {
   "cell_type": "code",
   "execution_count": null,
   "id": "626884b2-387b-4959-a55d-3b7d82b0a634",
   "metadata": {},
   "outputs": [],
   "source": []
  }
 ],
 "metadata": {
  "kernelspec": {
   "display_name": "Python 3 (ipykernel)",
   "language": "python",
   "name": "python3"
  },
  "language_info": {
   "codemirror_mode": {
    "name": "ipython",
    "version": 3
   },
   "file_extension": ".py",
   "mimetype": "text/x-python",
   "name": "python",
   "nbconvert_exporter": "python",
   "pygments_lexer": "ipython3",
   "version": "3.10.8"
  },
  "widgets": {
   "application/vnd.jupyter.widget-state+json": {
    "state": {
     "063e143d5bde4747bed5c0823e0da1b6": {
      "model_module": "@jupyter-widgets/controls",
      "model_module_version": "2.0.0",
      "model_name": "HTMLModel",
      "state": {
       "layout": "IPY_MODEL_8484865ae8d64171b80a49c86ae8841c",
       "style": "IPY_MODEL_e52bc1ac170e4e87ba527830d0f9786a",
       "value": "<h5>Queue</h5>"
      }
     },
     "06a48290ad664340bc21c6028910cdb3": {
      "model_module": "@jupyter-widgets/controls",
      "model_module_version": "2.0.0",
      "model_name": "ButtonModel",
      "state": {
       "button_style": "primary",
       "description": "Clear",
       "layout": "IPY_MODEL_60a78f58d71943dc8a3d0fdb960c9576",
       "style": "IPY_MODEL_83530bffa4c049b9b84ec959ede80f82",
       "tooltip": null
      }
     },
     "0d71e82c792b456ebe8ac1624ef86692": {
      "model_module": "@jupyter-widgets/base",
      "model_module_version": "2.0.0",
      "model_name": "LayoutModel",
      "state": {
       "margin": "0px 0px 10px 0px"
      }
     },
     "4d6c21e7f0b846fbb600c4549fce2f6a": {
      "model_module": "@jupyter-widgets/controls",
      "model_module_version": "2.0.0",
      "model_name": "HTMLStyleModel",
      "state": {
       "description_width": "",
       "font_size": null,
       "text_color": null
      }
     },
     "4de89ba572794709836fbb60f23bf8c8": {
      "model_module": "@jupyter-widgets/controls",
      "model_module_version": "2.0.0",
      "model_name": "HTMLStyleModel",
      "state": {
       "description_width": "",
       "font_size": null,
       "text_color": null
      }
     },
     "50f43b3c359e4abdb931dd515287f566": {
      "model_module": "@jupyter-widgets/controls",
      "model_module_version": "2.0.0",
      "model_name": "HTMLModel",
      "state": {
       "layout": "IPY_MODEL_b3e3e11bd05946138eaa3c932ad96000",
       "style": "IPY_MODEL_762e1a0c28b746669eb6b311627e7fc4",
       "value": "<h5>Job ID</h5>"
      }
     },
     "544cea49cbdb49bdb6babdd5be7a7800": {
      "model_module": "@jupyter-widgets/controls",
      "model_module_version": "2.0.0",
      "model_name": "HTMLStyleModel",
      "state": {
       "description_width": "",
       "font_size": null,
       "text_color": null
      }
     },
     "60a78f58d71943dc8a3d0fdb960c9576": {
      "model_module": "@jupyter-widgets/base",
      "model_module_version": "2.0.0",
      "model_name": "LayoutModel",
      "state": {
       "grid_area": "right",
       "padding": "0px 0px 0px 0px",
       "width": "70px"
      }
     },
     "615c7afcd0504adea23df3b8eb637810": {
      "model_module": "@jupyter-widgets/base",
      "model_module_version": "2.0.0",
      "model_name": "LayoutModel",
      "state": {
       "grid_template_areas": "\n                                       \". . . . right \"\n                                        ",
       "grid_template_columns": "20% 20% 20% 20% 20%",
       "width": "100%"
      }
     },
     "6bf334532b83460ebec949a9353cf1ec": {
      "model_module": "@jupyter-widgets/base",
      "model_module_version": "2.0.0",
      "model_name": "LayoutModel",
      "state": {
       "width": "145px"
      }
     },
     "762e1a0c28b746669eb6b311627e7fc4": {
      "model_module": "@jupyter-widgets/controls",
      "model_module_version": "2.0.0",
      "model_name": "HTMLStyleModel",
      "state": {
       "description_width": "",
       "font_size": null,
       "text_color": null
      }
     },
     "83530bffa4c049b9b84ec959ede80f82": {
      "model_module": "@jupyter-widgets/controls",
      "model_module_version": "2.0.0",
      "model_name": "ButtonStyleModel",
      "state": {
       "font_family": null,
       "font_size": null,
       "font_style": null,
       "font_variant": null,
       "font_weight": null,
       "text_color": null,
       "text_decoration": null
      }
     },
     "8484865ae8d64171b80a49c86ae8841c": {
      "model_module": "@jupyter-widgets/base",
      "model_module_version": "2.0.0",
      "model_name": "LayoutModel",
      "state": {
       "width": "70px"
      }
     },
     "95b0589736bb4da59994377c3425534b": {
      "model_module": "@jupyter-widgets/base",
      "model_module_version": "2.0.0",
      "model_name": "LayoutModel",
      "state": {}
     },
     "b0746928df134a15b2737881f56a9b22": {
      "model_module": "@jupyter-widgets/controls",
      "model_module_version": "2.0.0",
      "model_name": "HBoxModel",
      "state": {
       "children": [
        "IPY_MODEL_50f43b3c359e4abdb931dd515287f566",
        "IPY_MODEL_be0267856dc544fab0a537e29e7487ba",
        "IPY_MODEL_f24f18c2c589407f9803d46a12ba6aaa",
        "IPY_MODEL_063e143d5bde4747bed5c0823e0da1b6",
        "IPY_MODEL_b2b4229486484430945a350f1d5bbbc7"
       ],
       "layout": "IPY_MODEL_cdbbe15f13ba410bbc47008b4310a0ea"
      }
     },
     "b2b4229486484430945a350f1d5bbbc7": {
      "model_module": "@jupyter-widgets/controls",
      "model_module_version": "2.0.0",
      "model_name": "HTMLModel",
      "state": {
       "layout": "IPY_MODEL_95b0589736bb4da59994377c3425534b",
       "style": "IPY_MODEL_4d6c21e7f0b846fbb600c4549fce2f6a",
       "value": "<h5>Message</h5>"
      }
     },
     "b3e3e11bd05946138eaa3c932ad96000": {
      "model_module": "@jupyter-widgets/base",
      "model_module_version": "2.0.0",
      "model_name": "LayoutModel",
      "state": {
       "width": "190px"
      }
     },
     "b511533d7c954746a4d0e6a4774ca240": {
      "model_module": "@jupyter-widgets/base",
      "model_module_version": "2.0.0",
      "model_name": "LayoutModel",
      "state": {
       "width": "95px"
      }
     },
     "be0267856dc544fab0a537e29e7487ba": {
      "model_module": "@jupyter-widgets/controls",
      "model_module_version": "2.0.0",
      "model_name": "HTMLModel",
      "state": {
       "layout": "IPY_MODEL_6bf334532b83460ebec949a9353cf1ec",
       "style": "IPY_MODEL_544cea49cbdb49bdb6babdd5be7a7800",
       "value": "<h5>Backend</h5>"
      }
     },
     "c727a38856af4c94b26aa1ebf7ad2348": {
      "model_module": "@jupyter-widgets/controls",
      "model_module_version": "2.0.0",
      "model_name": "HTMLModel",
      "state": {
       "layout": "IPY_MODEL_0d71e82c792b456ebe8ac1624ef86692",
       "style": "IPY_MODEL_dd0e840b7e06405fbf01b15bcf68e161",
       "value": "<p style='font-family: IBM Plex Sans, Arial, Helvetica, sans-serif; font-size: 20px; font-weight: medium;'>Circuit Properties</p>"
      }
     },
     "cdbbe15f13ba410bbc47008b4310a0ea": {
      "model_module": "@jupyter-widgets/base",
      "model_module_version": "2.0.0",
      "model_name": "LayoutModel",
      "state": {
       "margin": "0px 0px 0px 37px",
       "width": "600px"
      }
     },
     "da98c03972fe4afbb01f0d5b2fdb31a0": {
      "model_module": "@jupyter-widgets/controls",
      "model_module_version": "2.0.0",
      "model_name": "GridBoxModel",
      "state": {
       "children": [
        "IPY_MODEL_06a48290ad664340bc21c6028910cdb3"
       ],
       "layout": "IPY_MODEL_615c7afcd0504adea23df3b8eb637810"
      }
     },
     "dd0e840b7e06405fbf01b15bcf68e161": {
      "model_module": "@jupyter-widgets/controls",
      "model_module_version": "2.0.0",
      "model_name": "HTMLStyleModel",
      "state": {
       "description_width": "",
       "font_size": null,
       "text_color": null
      }
     },
     "e52bc1ac170e4e87ba527830d0f9786a": {
      "model_module": "@jupyter-widgets/controls",
      "model_module_version": "2.0.0",
      "model_name": "HTMLStyleModel",
      "state": {
       "description_width": "",
       "font_size": null,
       "text_color": null
      }
     },
     "f24f18c2c589407f9803d46a12ba6aaa": {
      "model_module": "@jupyter-widgets/controls",
      "model_module_version": "2.0.0",
      "model_name": "HTMLModel",
      "state": {
       "layout": "IPY_MODEL_b511533d7c954746a4d0e6a4774ca240",
       "style": "IPY_MODEL_4de89ba572794709836fbb60f23bf8c8",
       "value": "<h5>Status</h5>"
      }
     }
    },
    "version_major": 2,
    "version_minor": 0
   }
  }
 },
 "nbformat": 4,
 "nbformat_minor": 5
}
