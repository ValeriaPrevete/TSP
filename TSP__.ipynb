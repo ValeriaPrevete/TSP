{
 "cells": [
  {
   "cell_type": "code",
   "execution_count": 1,
   "id": "7e40439a-5d17-4b76-a6ec-2d0e0f9bbc2f",
   "metadata": {
    "tags": []
   },
   "outputs": [
    {
     "name": "stderr",
     "output_type": "stream",
     "text": [
      "qiskit_runtime_service.__init__:INFO:2023-12-22 11:17:00,449: Default instance: ibm-q/open/main\n"
     ]
    }
   ],
   "source": [
    "# Importing standard Qiskit libraries\n",
    "from qiskit import QuantumCircuit, transpile\n",
    "from qiskit.tools.jupyter import *\n",
    "from qiskit.visualization import *\n",
    "from ibm_quantum_widgets import *\n",
    "\n",
    "# qiskit-ibmq-provider has been deprecated.\n",
    "# Please see the Migration Guides in https://ibm.biz/provider_migration_guide for more detail.\n",
    "from qiskit_ibm_runtime import QiskitRuntimeService, Sampler, Estimator, Session, Options\n",
    "\n",
    "# Loading your IBM Quantum account(s)\n",
    "service = QiskitRuntimeService(channel=\"ibm_quantum\")\n",
    "\n",
    "# Invoke a primitive. For more details see https://qiskit.org/documentation/partners/qiskit_ibm_runtime/tutorials.html\n",
    "# result = Sampler(\"ibmq_qasm_simulator\").run(circuits).result()"
   ]
  },
  {
   "cell_type": "code",
   "execution_count": 2,
   "id": "4796e288-b72e-4a0f-b8b8-a9476b07bb0b",
   "metadata": {
    "tags": []
   },
   "outputs": [
    {
     "data": {
      "text/html": [
       "<h3>Version Information</h3><table><tr><th>Software</th><th>Version</th></tr><tr><td><code>qiskit</code></td><td>0.45.0</td></tr><tr><td><code>qiskit_ibm_provider</code></td><td>0.7.3</td></tr><tr><td><code>qiskit_aer</code></td><td>0.12.2</td></tr><tr><td><code>qiskit_ibm_runtime</code></td><td>0.14.0</td></tr><tr><th colspan='2'>System information</th></tr><tr><td>Python version</td><td>3.10.8</td></tr><tr><td>Python compiler</td><td>GCC 10.4.0</td></tr><tr><td>Python build</td><td>main, Nov 22 2022 08:26:04</td></tr><tr><td>OS</td><td>Linux</td></tr><tr><td>CPUs</td><td>8</td></tr><tr><td>Memory (Gb)</td><td>31.142555236816406</td></tr><tr><td colspan='2'>Fri Dec 22 11:17:00 2023 UTC</td></tr></table>"
      ],
      "text/plain": [
       "<IPython.core.display.HTML object>"
      ]
     },
     "metadata": {},
     "output_type": "display_data"
    }
   ],
   "source": [
    "import qiskit.tools.jupyter\n",
    "\n",
    "%qiskit_version_table"
   ]
  },
  {
   "cell_type": "code",
   "execution_count": 3,
   "id": "cc5e176e-27a6-4772-9faa-0255a56de6e2",
   "metadata": {
    "tags": []
   },
   "outputs": [],
   "source": [
    "# useful additional packages\n",
    "import matplotlib.pyplot as plt\n",
    "import numpy as np\n",
    "import pylab\n",
    "\n",
    "import networkx as nx\n",
    "\n",
    "from qiskit.tools.visualization import plot_histogram\n",
    "from qiskit.circuit.library import TwoLocal\n",
    "from qiskit_optimization.applications import Maxcut, Tsp\n",
    "from qiskit_algorithms import SamplingVQE, NumPyMinimumEigensolver\n",
    "from qiskit_algorithms.optimizers import SPSA, COBYLA\n",
    "from qiskit_algorithms.utils import algorithm_globals\n",
    "from qiskit.primitives import Sampler \n",
    "from qiskit_optimization.algorithms import MinimumEigenOptimizer\n",
    "\n",
    "from qiskit_optimization.converters import QuadraticProgramToQubo\n",
    "\n",
    "from qiskit.circuit import QuantumCircuit, Parameter, ParameterVector\n",
    "\n",
    "from itertools import permutations #per brutal approches TSP"
   ]
  },
  {
   "cell_type": "code",
   "execution_count": 4,
   "id": "27542a9f-2a47-42dd-98e8-65eb3c951cb4",
   "metadata": {
    "tags": []
   },
   "outputs": [],
   "source": [
    "#draw a graph coloring the nodes \n",
    "\n",
    "#funzione per disegnare un grafo con nodi colorati\n",
    "def draw_graph(G, colors, pos):\n",
    "    default_axes = plt.axes(frameon=True)\n",
    "    nx.draw_networkx(G, node_color=colors, node_size=600, alpha=0.8, ax=default_axes, pos=pos)\n",
    "    edge_labels = nx.get_edge_attributes(G, \"weight\")\n",
    "    nx.draw_networkx_edge_labels(G, pos=pos, edge_labels=edge_labels)\n",
    "    \n",
    "#funzione per disegnare un cammino su un grafo \n",
    "def draw_tsp_solution(G, order, colors, pos):\n",
    "    G2 = nx.DiGraph()\n",
    "    G2.add_nodes_from(G)\n",
    "    n = len(order)\n",
    "    for i in range(n):\n",
    "        j = (i + 1) % n\n",
    "        G2.add_edge(order[i], order[j], weight=G[order[i]][order[j]][\"weight\"])\n",
    "    default_axes = plt.axes(frameon=True)\n",
    "    nx.draw_networkx(\n",
    "        G2, node_color=colors, edge_color=\"b\", node_size=600, alpha=0.8, ax=default_axes, pos=pos\n",
    "    )\n",
    "    edge_labels = nx.get_edge_attributes(G2, \"weight\")\n",
    "    nx.draw_networkx_edge_labels(G2, pos, font_color=\"b\", edge_labels=edge_labels)"
   ]
  },
  {
   "cell_type": "markdown",
   "id": "0f0119be-2001-4514-906b-9b0c66d4dcc8",
   "metadata": {},
   "source": [
    "### TSP "
   ]
  },
  {
   "cell_type": "code",
   "execution_count": 5,
   "id": "46b5c2e7-0d00-42f7-a980-991f69547833",
   "metadata": {
    "tags": []
   },
   "outputs": [
    {
     "name": "stdout",
     "output_type": "stream",
     "text": [
      "distance\n",
      " [[0. 1. 1.]\n",
      " [1. 0. 3.]\n",
      " [1. 3. 0.]]\n"
     ]
    },
    {
     "data": {
      "image/png": "[encoded data removed]",
      "text/plain": [
       "<Figure size 640x480 with 1 Axes>"
      ]
     },
     "metadata": {},
     "output_type": "display_data"
    }
   ],
   "source": [
    "# Generating a random graph \n",
    "#n = 3 # num\n",
    "#num_qubits = n**2\n",
    "#tsp = Tsp.create_random_instance(n) \n",
    "#G=tsp.graph\n",
    "\n",
    "\n",
    "# Creating a specific graph\n",
    "\n",
    "n=3 #numero di nodi \n",
    "G= nx.Graph() # definizione del grafo\n",
    "G.add_nodes_from(np.arange(0, n, 1)) # aggiungo i vertici \n",
    "elist = [(0, 1, 1), (0, 2, 1), (1, 2, 3)] # definisco la lista degli archi [(i,j,peso)]\n",
    "## tuple is (i,j,weight) where (i,j) is the edge\n",
    "G.add_weighted_edges_from(elist)# aggiungo gli archi al grafo\n",
    "\n",
    "tsp=Tsp(G)\n",
    "\n",
    "# grafico\n",
    "adj_matrix = nx.to_numpy_array(G)\n",
    "print(\"distance\\n\", adj_matrix)\n",
    "colors = [\"r\" for node in G.nodes]\n",
    "pos = nx.spring_layout(G)\n",
    "draw_graph(tsp.graph, colors, pos)\n"
   ]
  },
  {
   "cell_type": "code",
   "execution_count": 6,
   "id": "f5a39350-7797-4fce-b6b4-66a0d69ef114",
   "metadata": {
    "tags": []
   },
   "outputs": [],
   "source": [
    "## define the ising model\n",
    "\n",
    "qp = tsp.to_quadratic_program()\n",
    "qp2qubo= QuadraticProgramToQubo()\n",
    "qubo = qp2qubo.convert(qp)\n",
    "qubitOp, offset = qubo.to_ising()"
   ]
  },
  {
   "cell_type": "code",
   "execution_count": 7,
   "id": "61f07f3f-69de-435b-b5b4-24458980a413",
   "metadata": {
    "tags": []
   },
   "outputs": [],
   "source": [
    "###EXACT SOLUTION\n",
    "###Making the Hamiltonian in its full form and getting the lowest eigenvalue and eigenvector\n",
    "#ee = NumPyMinimumEigensolver()\n",
    "#result = ee.compute_minimum_eigenvalue(qubitOp)\n",
    "\n",
    "#print(\"energy:\", result.eigenvalue.real)\n",
    "#print(\"tsp objective:\", result.eigenvalue.real + offset)\n",
    "#x = tsp.sample_most_likely(result.eigenstate)\n",
    "#print(\"feasible:\", qubo.is_feasible(x))\n",
    "#z= tsp.interpret(x)\n",
    "#print(\"solution:\", z)\n",
    "#print(\"solution objective:\", tsp.tsp_value(z, adj_matrix))"
   ]
  },
  {
   "cell_type": "code",
   "execution_count": 9,
   "id": "6a03a58f-d780-4178-bd60-70a07123ff10",
   "metadata": {
    "tags": []
   },
   "outputs": [],
   "source": [
    "# create the ANSATZ\n",
    "\n",
    "###standard ansatz\n",
    "#ansatz= TwoLocal(qubitOp.num_qubits, \"ry\", \"cz\", reps=2, entanglement=\"linear\") \n",
    "\n",
    "###specific ansatz\n",
    "theta = ParameterVector('theta', qubitOp.num_qubits)\n",
    "ansatz = QuantumCircuit(qubitOp.num_qubits)\n",
    "for i in range (0,qubitOp.num_qubits, tsp.graph.number_of_nodes()):\n",
    "    ansatz.x(i)\n",
    "    for j in range(i+1,i+tsp.graph.number_of_nodes(),1):\n",
    "        ansatz.ry(theta[j-1], j)\n",
    "        ansatz.cz(j-1,j)\n",
    "        ansatz.ry(-theta[j-1], j)\n",
    "    for j in range(i+1,i+tsp.graph.number_of_nodes(),1):\n",
    "        ansatz.cx(j,j-1)"
   ]
  },
  {
   "cell_type": "code",
   "execution_count": 38,
   "id": "71b5e4b0-6fd7-46b1-a949-72eb70aacbf7",
   "metadata": {
    "tags": []
   },
   "outputs": [],
   "source": [
    "from qiskit_ibm_runtime import QiskitRuntimeService, Session, Sampler #solo per eseguire il cicuito in runtime"
   ]
  },
  {
   "cell_type": "code",
   "execution_count": 12,
   "id": "dbea3b12-e89b-473b-b4d6-59c79cf76266",
   "metadata": {
    "tags": []
   },
   "outputs": [],
   "source": [
    "optimizer = COBYLA(maxiter=50, tol=0.5) #define the optimizer\n",
    "\n",
    "vqe= SamplingVQE(sampler=Sampler(backend=\"ibm_brisbane\"), ansatz=ansatz, optimizer=optimizer) #define the SamplingVqe\n",
    "# run SamplingVQE \n",
    "while True:\n",
    "    result=vqe.compute_minimum_eigenvalue(qubitOp)\n",
    "    if qp.is_feasible(tsp.sample_most_likely(result.eigenstate)) == True:\n",
    "        break\n"
   ]
  },
  {
   "cell_type": "code",
   "execution_count": 13,
   "id": "253a1ec5-8dde-4b74-b30d-edc8ca55cc98",
   "metadata": {
    "tags": []
   },
   "outputs": [
    {
     "name": "stdout",
     "output_type": "stream",
     "text": [
      "energy: -174.33623191646495\n",
      "time: 0.6551878452301025\n",
      "feasible: True\n",
      "solution: [2, 1, 0]\n",
      "solution objective: 5.0\n"
     ]
    },
    {
     "data": {
      "image/png": "[encoded data removed]",
      "text/plain": [
       "<Figure size 640x480 with 1 Axes>"
      ]
     },
     "metadata": {},
     "output_type": "display_data"
    }
   ],
   "source": [
    "#result\n",
    "\n",
    "print(\"energy:\", result.eigenvalue.real)\n",
    "print(\"time:\", result.optimizer_time)\n",
    "x= tsp.sample_most_likely(result.eigenstate)\n",
    "print(\"feasible:\", qp.is_feasible(x))\n",
    "z = tsp.interpret(x) #cammino \n",
    "print(\"solution:\", z)\n",
    "p=tsp.tsp_value(z, adj_matrix) # peso totale del cammino\n",
    "print(\"solution objective:\", p) \n",
    "draw_tsp_solution(tsp.graph, z, colors, pos) #plot della soluzioe"
   ]
  },
  {
   "cell_type": "code",
   "execution_count": null,
   "id": "626884b2-387b-4959-a55d-3b7d82b0a634",
   "metadata": {},
   "outputs": [],
   "source": []
  }
 ],
 "metadata": {
  "kernelspec": {
   "display_name": "Python 3 (ipykernel)",
   "language": "python",
   "name": "python3"
  },
  "language_info": {
   "codemirror_mode": {
    "name": "ipython",
    "version": 3
   },
   "file_extension": ".py",
   "mimetype": "text/x-python",
   "name": "python",
   "nbconvert_exporter": "python",
   "pygments_lexer": "ipython3",
   "version": "3.10.8"
  },
  "widgets": {
   "application/vnd.jupyter.widget-state+json": {
    "state": {
     "0021a16cd415493db336455291fc40a2": {
      "model_module": "@jupyter-widgets/base",
      "model_module_version": "2.0.0",
      "model_name": "LayoutModel",
      "state": {
       "width": "190px"
      }
     },
     "030afb455fe740e3aed4c1f0dff192f3": {
      "model_module": "@jupyter-widgets/controls",
      "model_module_version": "2.0.0",
      "model_name": "HTMLModel",
      "state": {
       "layout": "IPY_MODEL_b0d641c1849b487f9651448354b38b4c",
       "style": "IPY_MODEL_30038ebda58e46aeaf02cc83abd565f7",
       "value": "<p style='font-family: IBM Plex Sans, Arial, Helvetica, sans-serif; font-size: 20px; font-weight: medium;'>Circuit Properties</p>"
      }
     },
     "0c0e73c791a84bd595cf8b01e1d3ddcb": {
      "model_module": "@jupyter-widgets/controls",
      "model_module_version": "2.0.0",
      "model_name": "HTMLModel",
      "state": {
       "layout": "IPY_MODEL_c2d93478e34f44bb8e999533001189f7",
       "style": "IPY_MODEL_80c02ddc9608446e86daaa35e9afe119",
       "value": "<h5>Queue</h5>"
      }
     },
     "30038ebda58e46aeaf02cc83abd565f7": {
      "model_module": "@jupyter-widgets/controls",
      "model_module_version": "2.0.0",
      "model_name": "HTMLStyleModel",
      "state": {
       "description_width": "",
       "font_size": null,
       "text_color": null
      }
     },
     "35db7fb0e7ef4456b667b7f873098f07": {
      "model_module": "@jupyter-widgets/controls",
      "model_module_version": "2.0.0",
      "model_name": "HTMLModel",
      "state": {
       "layout": "IPY_MODEL_895ac1807dcf4d04b2d72cbae689e490",
       "style": "IPY_MODEL_b9e608e88f8e4bebb88125f5ced1f934",
       "value": "<h5>Message</h5>"
      }
     },
     "3c31e7f7254344a99cb19f487e45f3b7": {
      "model_module": "@jupyter-widgets/controls",
      "model_module_version": "2.0.0",
      "model_name": "HBoxModel",
      "state": {
       "children": [
        "IPY_MODEL_601911a05a814a57890ec69f76607b73",
        "IPY_MODEL_4d4d0686a9414f3e98ee6af327075ab1",
        "IPY_MODEL_e69cfa31ecea404cafd5ee2111394af8",
        "IPY_MODEL_0c0e73c791a84bd595cf8b01e1d3ddcb",
        "IPY_MODEL_35db7fb0e7ef4456b667b7f873098f07"
       ],
       "layout": "IPY_MODEL_a21059c273cb47c4bca0b58fb0518afe"
      }
     },
     "46c32092d99a4eb2bed4d4ebd4bacfcf": {
      "model_module": "@jupyter-widgets/controls",
      "model_module_version": "2.0.0",
      "model_name": "ButtonStyleModel",
      "state": {
       "font_family": null,
       "font_size": null,
       "font_style": null,
       "font_variant": null,
       "font_weight": null,
       "text_color": null,
       "text_decoration": null
      }
     },
     "497561c184474283ab7ed42b218973f2": {
      "model_module": "@jupyter-widgets/controls",
      "model_module_version": "2.0.0",
      "model_name": "HTMLStyleModel",
      "state": {
       "description_width": "",
       "font_size": null,
       "text_color": null
      }
     },
     "4d4d0686a9414f3e98ee6af327075ab1": {
      "model_module": "@jupyter-widgets/controls",
      "model_module_version": "2.0.0",
      "model_name": "HTMLModel",
      "state": {
       "layout": "IPY_MODEL_8294ab3f1e694508bc8036233aa0d58f",
       "style": "IPY_MODEL_6ca01a8cf32e40aba7bf917215865c4c",
       "value": "<h5>Backend</h5>"
      }
     },
     "4f10c3ef12b645e7a403eb5403ce9854": {
      "model_module": "@jupyter-widgets/base",
      "model_module_version": "2.0.0",
      "model_name": "LayoutModel",
      "state": {
       "width": "95px"
      }
     },
     "5ab9abb09c874ac3858275a5b7d9a18c": {
      "model_module": "@jupyter-widgets/controls",
      "model_module_version": "2.0.0",
      "model_name": "GridBoxModel",
      "state": {
       "children": [
        "IPY_MODEL_bc06f8ed877148d8ad11f178ae30827f"
       ],
       "layout": "IPY_MODEL_c79ea508577c46d2a7ee08d5ca848bee"
      }
     },
     "601911a05a814a57890ec69f76607b73": {
      "model_module": "@jupyter-widgets/controls",
      "model_module_version": "2.0.0",
      "model_name": "HTMLModel",
      "state": {
       "layout": "IPY_MODEL_0021a16cd415493db336455291fc40a2",
       "style": "IPY_MODEL_b16061631caa4ab0867f303917691517",
       "value": "<h5>Job ID</h5>"
      }
     },
     "6ca01a8cf32e40aba7bf917215865c4c": {
      "model_module": "@jupyter-widgets/controls",
      "model_module_version": "2.0.0",
      "model_name": "HTMLStyleModel",
      "state": {
       "description_width": "",
       "font_size": null,
       "text_color": null
      }
     },
     "80c02ddc9608446e86daaa35e9afe119": {
      "model_module": "@jupyter-widgets/controls",
      "model_module_version": "2.0.0",
      "model_name": "HTMLStyleModel",
      "state": {
       "description_width": "",
       "font_size": null,
       "text_color": null
      }
     },
     "8294ab3f1e694508bc8036233aa0d58f": {
      "model_module": "@jupyter-widgets/base",
      "model_module_version": "2.0.0",
      "model_name": "LayoutModel",
      "state": {
       "width": "145px"
      }
     },
     "895ac1807dcf4d04b2d72cbae689e490": {
      "model_module": "@jupyter-widgets/base",
      "model_module_version": "2.0.0",
      "model_name": "LayoutModel",
      "state": {}
     },
     "a21059c273cb47c4bca0b58fb0518afe": {
      "model_module": "@jupyter-widgets/base",
      "model_module_version": "2.0.0",
      "model_name": "LayoutModel",
      "state": {
       "margin": "0px 0px 0px 37px",
       "width": "600px"
      }
     },
     "b0d641c1849b487f9651448354b38b4c": {
      "model_module": "@jupyter-widgets/base",
      "model_module_version": "2.0.0",
      "model_name": "LayoutModel",
      "state": {
       "margin": "0px 0px 10px 0px"
      }
     },
     "b16061631caa4ab0867f303917691517": {
      "model_module": "@jupyter-widgets/controls",
      "model_module_version": "2.0.0",
      "model_name": "HTMLStyleModel",
      "state": {
       "description_width": "",
       "font_size": null,
       "text_color": null
      }
     },
     "b9e608e88f8e4bebb88125f5ced1f934": {
      "model_module": "@jupyter-widgets/controls",
      "model_module_version": "2.0.0",
      "model_name": "HTMLStyleModel",
      "state": {
       "description_width": "",
       "font_size": null,
       "text_color": null
      }
     },
     "bc06f8ed877148d8ad11f178ae30827f": {
      "model_module": "@jupyter-widgets/controls",
      "model_module_version": "2.0.0",
      "model_name": "ButtonModel",
      "state": {
       "button_style": "primary",
       "description": "Clear",
       "layout": "IPY_MODEL_e783e565263648bfbccc19609cde8613",
       "style": "IPY_MODEL_46c32092d99a4eb2bed4d4ebd4bacfcf",
       "tooltip": null
      }
     },
     "c2d93478e34f44bb8e999533001189f7": {
      "model_module": "@jupyter-widgets/base",
      "model_module_version": "2.0.0",
      "model_name": "LayoutModel",
      "state": {
       "width": "70px"
      }
     },
     "c79ea508577c46d2a7ee08d5ca848bee": {
      "model_module": "@jupyter-widgets/base",
      "model_module_version": "2.0.0",
      "model_name": "LayoutModel",
      "state": {
       "grid_template_areas": "\n                                       \". . . . right \"\n                                        ",
       "grid_template_columns": "20% 20% 20% 20% 20%",
       "width": "100%"
      }
     },
     "e69cfa31ecea404cafd5ee2111394af8": {
      "model_module": "@jupyter-widgets/controls",
      "model_module_version": "2.0.0",
      "model_name": "HTMLModel",
      "state": {
       "layout": "IPY_MODEL_4f10c3ef12b645e7a403eb5403ce9854",
       "style": "IPY_MODEL_497561c184474283ab7ed42b218973f2",
       "value": "<h5>Status</h5>"
      }
     },
     "e783e565263648bfbccc19609cde8613": {
      "model_module": "@jupyter-widgets/base",
      "model_module_version": "2.0.0",
      "model_name": "LayoutModel",
      "state": {
       "grid_area": "right",
       "padding": "0px 0px 0px 0px",
       "width": "70px"
      }
     }
    },
    "version_major": 2,
    "version_minor": 0
   }
  }
 },
 "nbformat": 4,
 "nbformat_minor": 5
}
