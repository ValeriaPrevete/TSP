{
 "cells": [
  {
   "cell_type": "code",
   "execution_count": 12,
   "id": "e2b2f20c-861e-4a78-b95a-a644f327c1c6",
   "metadata": {
    "tags": []
   },
   "outputs": [
    {
     "name": "stderr",
     "output_type": "stream",
     "text": [
      "qiskit_runtime_service.__init__:INFO:2024-01-14 15:04:54,176: Default instance: ibm-q/open/main\n"
     ]
    }
   ],
   "source": [
    "# Importing standard Qiskit libraries\n",
    "from qiskit import QuantumCircuit, transpile\n",
    "from qiskit.tools.jupyter import *\n",
    "from qiskit.visualization import *\n",
    "from ibm_quantum_widgets import *\n",
    "\n",
    "# qiskit-ibmq-provider has been deprecated.\n",
    "# Please see the Migration Guides in https://ibm.biz/provider_migration_guide for more detail.\n",
    "from qiskit_ibm_runtime import QiskitRuntimeService, Sampler, Estimator, Session, Options\n",
    "\n",
    "# Loading your IBM Quantum account(s)\n",
    "service = QiskitRuntimeService(channel=\"ibm_quantum\")\n",
    "\n",
    "# Invoke a primitive. For more details see https://docs.quantum-computing.ibm.com/run/primitives\n",
    "# result = Sampler().run(circuits).result()"
   ]
  },
  {
   "cell_type": "code",
   "execution_count": 61,
   "id": "832dbe55-1f5f-4eaa-b63b-086af6b2a278",
   "metadata": {
    "tags": []
   },
   "outputs": [],
   "source": [
    "import matplotlib.pyplot as plt\n",
    "import numpy as np\n",
    "import pylab\n",
    "\n",
    "import networkx as nx\n",
    "\n",
    "from qiskit.tools.visualization import plot_histogram\n",
    "from qiskit.circuit.library import TwoLocal\n",
    "from qiskit_optimization.applications import Maxcut, Tsp\n",
    "from qiskit_algorithms import SamplingVQE, NumPyMinimumEigensolver\n",
    "from qiskit_algorithms.optimizers import SPSA, COBYLA\n",
    "from qiskit_algorithms.utils import algorithm_globals\n",
    "from qiskit.primitives import Sampler\n",
    "from qiskit_optimization.algorithms import MinimumEigenOptimizer\n",
    "\n",
    "from qiskit_optimization.converters import QuadraticProgramToQubo\n",
    "\n",
    "from qiskit.circuit import QuantumCircuit, Parameter, ParameterVector\n",
    "\n",
    "from itertools import permutations #per brutal approches TSP"
   ]
  },
  {
   "cell_type": "code",
   "execution_count": 14,
   "id": "c97dae75-9edd-4da2-9df9-bc8025d97622",
   "metadata": {
    "tags": []
   },
   "outputs": [],
   "source": [
    "#draw a graph coloring the nodes\n",
    "\n",
    "#funzione per disegnare un grafo con nodi colorati\n",
    "def draw_graph(G, colors, pos):\n",
    "    default_axes = plt.axes(frameon=True)\n",
    "    nx.draw_networkx(G, node_color=colors, node_size=600, alpha=0.8, ax=default_axes, pos=pos)\n",
    "    edge_labels = nx.get_edge_attributes(G, \"weight\")\n",
    "    nx.draw_networkx_edge_labels(G, pos=pos, edge_labels=edge_labels)\n",
    "\n",
    "#funzione per disegnare un cammino su un grafo\n",
    "def draw_tsp_solution(G, order, colors, pos):\n",
    "    G2 = nx.DiGraph()\n",
    "    G2.add_nodes_from(G)\n",
    "    n = len(order)\n",
    "    for i in range(n):\n",
    "        j = (i + 1) % n\n",
    "        G2.add_edge(order[i], order[j], weight=G[order[i]][order[j]][\"weight\"])\n",
    "    default_axes = plt.axes(frameon=True)\n",
    "    nx.draw_networkx(\n",
    "        G2, node_color=colors, edge_color=\"b\", node_size=600, alpha=0.8, ax=default_axes, pos=pos\n",
    "    )\n",
    "    edge_labels = nx.get_edge_attributes(G2, \"weight\")\n",
    "    nx.draw_networkx_edge_labels(G2, pos, font_color=\"b\", edge_labels=edge_labels)"
   ]
  },
  {
   "cell_type": "markdown",
   "id": "996288c7-5f20-4b37-9e0e-c5a53d4e0e35",
   "metadata": {},
   "source": [
    "# TIME and FEASIBILITY"
   ]
  },
  {
   "cell_type": "markdown",
   "id": "2e1ab542-27fe-45f1-ab8f-1a9176385711",
   "metadata": {
    "tags": []
   },
   "source": [
    "### COBYLA"
   ]
  },
  {
   "cell_type": "markdown",
   "id": "0a361773-046e-4273-a0ca-30498344f1ba",
   "metadata": {},
   "source": [
    "Several runs of the SamplingVQE  are conducted with the optimizer set to COBYLA (maxiter=300), while varying the depth of twolocal reps=1, 2, 3, 4, and the control gate (CZ or CX). Each combination is executed on 100 different random graphs with 3 nodes to compute the average time and feasibility solution attainment"
   ]
  },
  {
   "cell_type": "code",
   "execution_count": 15,
   "id": "5108eada-9356-4dc8-9204-ee78a01f5841",
   "metadata": {
    "tags": []
   },
   "outputs": [],
   "source": [
    "exact_result=[]\n",
    "result=[]\n",
    "energy=[]  \n",
    "time=[]\n",
    "feasible=[]\n",
    "for i in range (0,100,1):\n",
    "    #generate graph:\n",
    "    n = 3\n",
    "    num_qubits = n**2\n",
    "    tsp = Tsp.create_random_instance(n) \n",
    "    adj_matrix = nx.to_numpy_array(tsp.graph)\n",
    "    #define ising model \n",
    "    qp = tsp.to_quadratic_program()\n",
    "    qp2qubo = QuadraticProgramToQubo()\n",
    "    qubo = qp2qubo.convert(qp)\n",
    "    qubitOp, offset = qubo.to_ising()\n",
    "    ###EXACT SOLUTION\n",
    "    ###Making the Hamiltonian in its full form and getting the lowest eigenvalue and eigenvector\n",
    "    #ee = NumPyMinimumEigensolver()\n",
    "    #exact_result.append(ee.compute_minimum_eigenvalue(qubitOp))\n",
    "    #ansatz\n",
    "    ansatz= TwoLocal(qubitOp.num_qubits, \"ry\", \"cz\", reps=1, entanglement=\"linear\")\n",
    "    #optimizer\n",
    "    optimizer = COBYLA(maxiter=300)\n",
    "    vqe= SamplingVQE(sampler=Sampler(), ansatz=ansatz, optimizer=optimizer) #define the SamplingVqe\n",
    "    # run SamplingVQE\n",
    "    result.append(vqe.compute_minimum_eigenvalue(qubitOp)) \n",
    "    #resut\n",
    "    energy.append(result[i].eigenvalue.real)\n",
    "    time.append(result[i].optimizer_time)\n",
    "    x= tsp.sample_most_likely(result[i].eigenstate)\n",
    "    feasible.append(qp.is_feasible(x))\n",
    "    x = tsp.sample_most_likely(result[i].eigenstate)\n",
    "    z= tsp.interpret(x)\n",
    "  "
   ]
  },
  {
   "cell_type": "code",
   "execution_count": 16,
   "id": "6f5f588d-8421-4f4d-8ed9-592a8625f7d2",
   "metadata": {
    "tags": []
   },
   "outputs": [
    {
     "name": "stdout",
     "output_type": "stream",
     "text": [
      "6.63638162612915\n",
      "4.515286684036255\n",
      "5.4463987326622005\n"
     ]
    },
    {
     "data": {
      "text/plain": [
       "100"
      ]
     },
     "execution_count": 16,
     "metadata": {},
     "output_type": "execute_result"
    }
   ],
   "source": [
    "print(max(time))\n",
    "print(min(time))\n",
    "print(sum(time)/len(time))\n",
    "#print(max(energy))\n",
    "#print(min(energy))\n",
    "#print(sum(energy)/len(energy))\n",
    "sum(1 for n in feasible if n == True)"
   ]
  },
  {
   "cell_type": "code",
   "execution_count": 17,
   "id": "f3a1516c-e75c-4e38-9dc9-45d49a26ea03",
   "metadata": {
    "tags": []
   },
   "outputs": [],
   "source": [
    "exact_result=[]\n",
    "result=[]\n",
    "energy=[]  \n",
    "time=[]\n",
    "feasible=[]\n",
    "for i in range (0,100,1):\n",
    "    #generate graph:\n",
    "    n = 3\n",
    "    num_qubits = n**2\n",
    "    tsp = Tsp.create_random_instance(n) \n",
    "    adj_matrix = nx.to_numpy_array(tsp.graph)\n",
    "    #define ising model \n",
    "    qp = tsp.to_quadratic_program()\n",
    "    qp2qubo = QuadraticProgramToQubo()\n",
    "    qubo = qp2qubo.convert(qp)\n",
    "    qubitOp, offset = qubo.to_ising()\n",
    "    #ansatz\n",
    "    ansatz= TwoLocal(qubitOp.num_qubits, \"ry\", \"cz\", reps=2, entanglement=\"linear\")\n",
    "    #optimizer\n",
    "    optimizer = COBYLA(maxiter=300)\n",
    "    vqe= SamplingVQE(sampler=Sampler(), ansatz=ansatz, optimizer=optimizer) #define the SamplingVqe\n",
    "    # run SamplingVQE\n",
    "    result.append(vqe.compute_minimum_eigenvalue(qubitOp)) \n",
    "    #resut\n",
    "    energy.append(result[i].eigenvalue.real)\n",
    "    time.append(result[i].optimizer_time)\n",
    "    x= tsp.sample_most_likely(result[i].eigenstate)\n",
    "    feasible.append(qp.is_feasible(x))\n",
    "    x = tsp.sample_most_likely(result[i].eigenstate)\n",
    "    z= tsp.interpret(x)\n",
    "    "
   ]
  },
  {
   "cell_type": "code",
   "execution_count": 18,
   "id": "568d64ab-27b8-481e-9e68-fe8b29aa5b5b",
   "metadata": {
    "tags": []
   },
   "outputs": [
    {
     "name": "stdout",
     "output_type": "stream",
     "text": [
      "7.473645210266113\n",
      "6.744727611541748\n",
      "7.056289758682251\n"
     ]
    },
    {
     "data": {
      "text/plain": [
       "99"
      ]
     },
     "execution_count": 18,
     "metadata": {},
     "output_type": "execute_result"
    }
   ],
   "source": [
    "print(max(time))\n",
    "print(min(time))\n",
    "print(sum(time)/len(time))\n",
    "#print(max(energy))\n",
    "#print(min(energy))\n",
    "#print(sum(energy)/len(energy))\n",
    "sum(1 for n in feasible if n == True)"
   ]
  },
  {
   "cell_type": "code",
   "execution_count": 19,
   "id": "a01e73cc-5884-43ce-ba06-fcc20424fed8",
   "metadata": {
    "tags": []
   },
   "outputs": [],
   "source": [
    "exact_result=[]\n",
    "result=[]\n",
    "energy=[]  \n",
    "time=[]\n",
    "feasible=[]\n",
    "for i in range (0,100,1):\n",
    "    #generate graph:\n",
    "    n = 3\n",
    "    num_qubits = n**2\n",
    "    tsp = Tsp.create_random_instance(n) \n",
    "    adj_matrix = nx.to_numpy_array(tsp.graph)\n",
    "    #define ising model \n",
    "    qp = tsp.to_quadratic_program()\n",
    "    qp2qubo = QuadraticProgramToQubo()\n",
    "    qubo = qp2qubo.convert(qp)\n",
    "    qubitOp, offset = qubo.to_ising()\n",
    "    #ansatz\n",
    "    ansatz= TwoLocal(qubitOp.num_qubits, \"ry\", \"cz\", reps=3, entanglement=\"linear\")\n",
    "    #optimizer\n",
    "    optimizer = COBYLA(maxiter=300)\n",
    "    vqe= SamplingVQE(sampler=Sampler(), ansatz=ansatz, optimizer=optimizer) #define the SamplingVqe\n",
    "    # run SamplingVQE\n",
    "    result.append(vqe.compute_minimum_eigenvalue(qubitOp)) \n",
    "        #resut\n",
    "    energy.append(result[i].eigenvalue.real)\n",
    "    time.append(result[i].optimizer_time)\n",
    "    x= tsp.sample_most_likely(result[i].eigenstate)\n",
    "    feasible.append(qp.is_feasible(x))\n",
    "    x = tsp.sample_most_likely(result[i].eigenstate)\n",
    "    z= tsp.interpret(x)"
   ]
  },
  {
   "cell_type": "code",
   "execution_count": 20,
   "id": "64fa2a29-ff37-4c46-b467-3102e2abbfec",
   "metadata": {
    "tags": []
   },
   "outputs": [
    {
     "name": "stdout",
     "output_type": "stream",
     "text": [
      "8.04468297958374\n",
      "7.2698633670806885\n",
      "7.573961346149445\n"
     ]
    },
    {
     "data": {
      "text/plain": [
       "98"
      ]
     },
     "execution_count": 20,
     "metadata": {},
     "output_type": "execute_result"
    }
   ],
   "source": [
    "print(max(time))\n",
    "print(min(time))\n",
    "print(sum(time)/len(time))\n",
    "#print(max(energy))\n",
    "#print(min(energy))\n",
    "#print(sum(energy)/len(energy))\n",
    "sum(1 for n in feasible if n == True)"
   ]
  },
  {
   "cell_type": "code",
   "execution_count": 21,
   "id": "6fc2e43e-d820-46fb-9935-2b90f72d8f25",
   "metadata": {
    "tags": []
   },
   "outputs": [],
   "source": [
    "exact_result=[]\n",
    "result=[]\n",
    "energy=[]  \n",
    "time=[]\n",
    "feasible=[]\n",
    "for i in range (0,100,1):\n",
    "    #generate graph:\n",
    "    n = 3\n",
    "    num_qubits = n**2\n",
    "    tsp = Tsp.create_random_instance(n) \n",
    "    adj_matrix = nx.to_numpy_array(tsp.graph)\n",
    "    #define ising model \n",
    "    qp = tsp.to_quadratic_program()\n",
    "    qp2qubo = QuadraticProgramToQubo()\n",
    "    qubo = qp2qubo.convert(qp)\n",
    "    qubitOp, offset = qubo.to_ising()\n",
    "    #ansatz\n",
    "    ansatz= TwoLocal(qubitOp.num_qubits, \"ry\", \"cz\", reps=4, entanglement=\"linear\")\n",
    "    #optimizer\n",
    "    optimizer = COBYLA(maxiter=300)\n",
    "    vqe= SamplingVQE(sampler=Sampler(), ansatz=ansatz, optimizer=optimizer) #define the SamplingVqe\n",
    "    # run SamplingVQE\n",
    "    result.append(vqe.compute_minimum_eigenvalue(qubitOp)) \n",
    "        #resut\n",
    "    energy.append(result[i].eigenvalue.real)\n",
    "    time.append(result[i].optimizer_time)\n",
    "    x= tsp.sample_most_likely(result[i].eigenstate)\n",
    "    feasible.append(qp.is_feasible(x))\n",
    "    x = tsp.sample_most_likely(result[i].eigenstate)\n",
    "    z= tsp.interpret(x)"
   ]
  },
  {
   "cell_type": "code",
   "execution_count": 22,
   "id": "a0db8f6e-402f-4c79-bd05-aa2414dcdf91",
   "metadata": {
    "tags": []
   },
   "outputs": [
    {
     "name": "stdout",
     "output_type": "stream",
     "text": [
      "8.481897830963135\n",
      "8.000140905380249\n",
      "8.197649405002593\n"
     ]
    },
    {
     "data": {
      "text/plain": [
       "100"
      ]
     },
     "execution_count": 22,
     "metadata": {},
     "output_type": "execute_result"
    }
   ],
   "source": [
    "print(max(time))\n",
    "print(min(time))\n",
    "print(sum(time)/len(time))\n",
    "#print(max(energy))\n",
    "#print(min(energy))\n",
    "#print(sum(energy)/len(energy))\n",
    "sum(1 for n in feasible if n == True)"
   ]
  },
  {
   "cell_type": "code",
   "execution_count": 23,
   "id": "714b6392-43a8-4931-bb4b-15529763453c",
   "metadata": {
    "tags": []
   },
   "outputs": [],
   "source": [
    "exact_result=[]\n",
    "result=[]\n",
    "energy=[]  \n",
    "time=[]\n",
    "feasible=[]\n",
    "for i in range (0,100,1):\n",
    "    #generate graph:\n",
    "    n = 3\n",
    "    num_qubits = n**2\n",
    "    tsp = Tsp.create_random_instance(n) \n",
    "    adj_matrix = nx.to_numpy_array(tsp.graph)\n",
    "    #define ising model \n",
    "    qp = tsp.to_quadratic_program()\n",
    "    qp2qubo = QuadraticProgramToQubo()\n",
    "    qubo = qp2qubo.convert(qp)\n",
    "    qubitOp, offset = qubo.to_ising()\n",
    "    #ansatz\n",
    "    ansatz= TwoLocal(qubitOp.num_qubits, \"ry\", \"cx\", reps=1, entanglement=\"linear\")\n",
    "    #optimizer\n",
    "    optimizer = COBYLA(maxiter=300)\n",
    "    vqe= SamplingVQE(sampler=Sampler(), ansatz=ansatz, optimizer=optimizer) #define the SamplingVqe\n",
    "    # run SamplingVQE\n",
    "    result.append(vqe.compute_minimum_eigenvalue(qubitOp)) \n",
    "        #resut\n",
    "    energy.append(result[i].eigenvalue.real)\n",
    "    time.append(result[i].optimizer_time)\n",
    "    x= tsp.sample_most_likely(result[i].eigenstate)\n",
    "    feasible.append(qp.is_feasible(x))\n",
    "    x = tsp.sample_most_likely(result[i].eigenstate)\n",
    "    z= tsp.interpret(x)"
   ]
  },
  {
   "cell_type": "code",
   "execution_count": 24,
   "id": "4645af41-5ecb-49e7-a899-22d749a3b100",
   "metadata": {
    "tags": []
   },
   "outputs": [
    {
     "name": "stdout",
     "output_type": "stream",
     "text": [
      "6.6846513748168945\n",
      "5.072940826416016\n",
      "5.976113767623901\n"
     ]
    },
    {
     "data": {
      "text/plain": [
       "97"
      ]
     },
     "execution_count": 24,
     "metadata": {},
     "output_type": "execute_result"
    }
   ],
   "source": [
    "print(max(time))\n",
    "print(min(time))\n",
    "print(sum(time)/len(time))\n",
    "#print(max(energy))\n",
    "#print(min(energy))\n",
    "#print(sum(energy)/len(energy))\n",
    "sum(1 for n in feasible if n == True)"
   ]
  },
  {
   "cell_type": "code",
   "execution_count": 25,
   "id": "ae0e3b46-44df-4d57-9883-e221f2f6a989",
   "metadata": {
    "tags": []
   },
   "outputs": [],
   "source": [
    "exact_result=[]\n",
    "result=[]\n",
    "energy=[]  \n",
    "time=[]\n",
    "feasible=[]\n",
    "for i in range (0,100,1):\n",
    "    #generate graph:\n",
    "    n = 3\n",
    "    num_qubits = n**2\n",
    "    tsp = Tsp.create_random_instance(n) \n",
    "    adj_matrix = nx.to_numpy_array(tsp.graph)\n",
    "    #define ising model \n",
    "    qp = tsp.to_quadratic_program()\n",
    "    qp2qubo = QuadraticProgramToQubo()\n",
    "    qubo = qp2qubo.convert(qp)\n",
    "    qubitOp, offset = qubo.to_ising()\n",
    "    #ansatz\n",
    "    ansatz= TwoLocal(qubitOp.num_qubits, \"ry\", \"cx\", reps=2, entanglement=\"linear\")\n",
    "    #optimizer\n",
    "    optimizer = COBYLA(maxiter=300)\n",
    "    vqe= SamplingVQE(sampler=Sampler(), ansatz=ansatz, optimizer=optimizer) #define the SamplingVqe\n",
    "    # run SamplingVQE\n",
    "    result.append(vqe.compute_minimum_eigenvalue(qubitOp)) \n",
    "        #resut\n",
    "    energy.append(result[i].eigenvalue.real)\n",
    "    time.append(result[i].optimizer_time)\n",
    "    x= tsp.sample_most_likely(result[i].eigenstate)\n",
    "    feasible.append(qp.is_feasible(x))\n",
    "    x = tsp.sample_most_likely(result[i].eigenstate)\n",
    "    z= tsp.interpret(x)"
   ]
  },
  {
   "cell_type": "code",
   "execution_count": 26,
   "id": "e05ac9f1-ed57-4d77-8b5e-865f210d0e83",
   "metadata": {
    "tags": []
   },
   "outputs": [
    {
     "name": "stdout",
     "output_type": "stream",
     "text": [
      "7.45468544960022\n",
      "6.977764844894409\n",
      "7.162758402824402\n"
     ]
    },
    {
     "data": {
      "text/plain": [
       "99"
      ]
     },
     "execution_count": 26,
     "metadata": {},
     "output_type": "execute_result"
    }
   ],
   "source": [
    "print(max(time))\n",
    "print(min(time))\n",
    "print(sum(time)/len(time))\n",
    "#print(max(energy))\n",
    "#print(min(energy))\n",
    "#print(sum(energy)/len(energy))\n",
    "sum(1 for n in feasible if n == True)"
   ]
  },
  {
   "cell_type": "code",
   "execution_count": 27,
   "id": "4f184dbb-a7e4-4f03-aee8-d78e3bd445c1",
   "metadata": {
    "tags": []
   },
   "outputs": [],
   "source": [
    "exact_result=[]\n",
    "result=[]\n",
    "energy=[]  \n",
    "time=[]\n",
    "feasible=[]\n",
    "for i in range (0,100,1):\n",
    "    #generate graph:\n",
    "    n = 3\n",
    "    num_qubits = n**2\n",
    "    tsp = Tsp.create_random_instance(n) \n",
    "    adj_matrix = nx.to_numpy_array(tsp.graph)\n",
    "    #define ising model \n",
    "    qp = tsp.to_quadratic_program()\n",
    "    qp2qubo = QuadraticProgramToQubo()\n",
    "    qubo = qp2qubo.convert(qp)\n",
    "    qubitOp, offset = qubo.to_ising()\n",
    "    #ansatz\n",
    "    ansatz= TwoLocal(qubitOp.num_qubits, \"ry\", \"cx\", reps=3, entanglement=\"linear\")\n",
    "    #optimizer\n",
    "    optimizer = COBYLA(maxiter=300)\n",
    "    vqe= SamplingVQE(sampler=Sampler(), ansatz=ansatz, optimizer=optimizer) #define the SamplingVqe\n",
    "    # run SamplingVQE\n",
    "    result.append(vqe.compute_minimum_eigenvalue(qubitOp)) \n",
    "        #resut\n",
    "    energy.append(result[i].eigenvalue.real)\n",
    "    time.append(result[i].optimizer_time)\n",
    "    x= tsp.sample_most_likely(result[i].eigenstate)\n",
    "    feasible.append(qp.is_feasible(x))\n",
    "    x = tsp.sample_most_likely(result[i].eigenstate)\n",
    "    z= tsp.interpret(x)"
   ]
  },
  {
   "cell_type": "code",
   "execution_count": 28,
   "id": "e2342f54-bd34-4c0f-82e0-d8928a1cf799",
   "metadata": {
    "tags": []
   },
   "outputs": [
    {
     "name": "stdout",
     "output_type": "stream",
     "text": [
      "8.088916063308716\n",
      "7.527175426483154\n",
      "7.680456056594848\n"
     ]
    },
    {
     "data": {
      "text/plain": [
       "96"
      ]
     },
     "execution_count": 28,
     "metadata": {},
     "output_type": "execute_result"
    }
   ],
   "source": [
    "print(max(time))\n",
    "print(min(time))\n",
    "print(sum(time)/len(time))\n",
    "#print(max(energy))\n",
    "#print(min(energy))\n",
    "#print(sum(energy)/len(energy))\n",
    "sum(1 for n in feasible if n == True)"
   ]
  },
  {
   "cell_type": "markdown",
   "id": "c4842ec5-5a18-41ea-956a-e4c2f9ad2d22",
   "metadata": {
    "tags": []
   },
   "source": [
    "### SPSA"
   ]
  },
  {
   "cell_type": "markdown",
   "id": "2ef420b1-353a-4163-abfd-f13b05ef67ec",
   "metadata": {},
   "source": [
    "Several runs of the VQE sampling are conducted with the optimizer set to SPSA (maxiter=300), while varying the depth of twolocal reps=1, 2, 3, 4. Each combination is executed on 100 different random graphs with 3 nodes to compute the average time and feasibility solution attainment"
   ]
  },
  {
   "cell_type": "code",
   "execution_count": 29,
   "id": "4b676b3d-f819-4d44-b0a3-c7526dfae9ea",
   "metadata": {
    "tags": []
   },
   "outputs": [],
   "source": [
    "exact_result=[]\n",
    "result=[]\n",
    "energy=[]  \n",
    "time=[]\n",
    "feasible=[]\n",
    "for i in range (0,100,1):\n",
    "    #generate graph:\n",
    "    n = 3\n",
    "    num_qubits = n**2\n",
    "    tsp = Tsp.create_random_instance(n) \n",
    "    adj_matrix = nx.to_numpy_array(tsp.graph)\n",
    "    #define ising model \n",
    "    qp = tsp.to_quadratic_program()\n",
    "    qp2qubo = QuadraticProgramToQubo()\n",
    "    qubo = qp2qubo.convert(qp)\n",
    "    qubitOp, offset = qubo.to_ising()\n",
    "    #ansatz\n",
    "    ansatz= TwoLocal(qubitOp.num_qubits, \"ry\", \"cz\", reps=1, entanglement=\"linear\")\n",
    "    #optimizer\n",
    "    optimizer = SPSA(maxiter=300)\n",
    "    vqe= SamplingVQE(sampler=Sampler(), ansatz=ansatz, optimizer=optimizer) #define the SamplingVqe\n",
    "    # run SamplingVQE\n",
    "    result.append(vqe.compute_minimum_eigenvalue(qubitOp)) \n",
    "        #resut\n",
    "    energy.append(result[i].eigenvalue.real)\n",
    "    time.append(result[i].optimizer_time)\n",
    "    x= tsp.sample_most_likely(result[i].eigenstate)\n",
    "    feasible.append(qp.is_feasible(x))\n",
    "    x = tsp.sample_most_likely(result[i].eigenstate)\n",
    "    z= tsp.interpret(x)"
   ]
  },
  {
   "cell_type": "code",
   "execution_count": 30,
   "id": "01b8e34d-5ca3-4d75-bd52-3abdba5aefd8",
   "metadata": {},
   "outputs": [
    {
     "name": "stdout",
     "output_type": "stream",
     "text": [
      "14.29700493812561\n",
      "13.404052257537842\n",
      "13.789933452606201\n"
     ]
    },
    {
     "data": {
      "text/plain": [
       "85"
      ]
     },
     "execution_count": 30,
     "metadata": {},
     "output_type": "execute_result"
    }
   ],
   "source": [
    "print(max(time))\n",
    "print(min(time))\n",
    "print(sum(time)/len(time))\n",
    "#print(max(energy))\n",
    "#print(min(energy))\n",
    "#print(sum(energy)/len(energy))\n",
    "sum(1 for n in feasible if n == True)"
   ]
  },
  {
   "cell_type": "code",
   "execution_count": 31,
   "id": "9d3ce47e-affe-45df-ab3a-b29843f36e85",
   "metadata": {
    "tags": []
   },
   "outputs": [],
   "source": [
    "exact_result=[]\n",
    "result=[]\n",
    "energy=[]  \n",
    "time=[]\n",
    "feasible=[]\n",
    "for i in range (0,100,1):\n",
    "    #generate graph:\n",
    "    n = 3\n",
    "    num_qubits = n**2\n",
    "    tsp = Tsp.create_random_instance(n) \n",
    "    adj_matrix = nx.to_numpy_array(tsp.graph)\n",
    "    #define ising model \n",
    "    qp = tsp.to_quadratic_program()\n",
    "    qp2qubo = QuadraticProgramToQubo()\n",
    "    qubo = qp2qubo.convert(qp)\n",
    "    qubitOp, offset = qubo.to_ising()\n",
    "    #ansatz\n",
    "    ansatz= TwoLocal(qubitOp.num_qubits, \"ry\", \"cz\", reps=2, entanglement=\"linear\")\n",
    "    #optimizer\n",
    "    optimizer = SPSA(maxiter=300)\n",
    "    vqe= SamplingVQE(sampler=Sampler(), ansatz=ansatz, optimizer=optimizer) #define the SamplingVqe\n",
    "    # run SamplingVQE\n",
    "    result.append(vqe.compute_minimum_eigenvalue(qubitOp))\n",
    "        #resut\n",
    "    energy.append(result[i].eigenvalue.real)\n",
    "    time.append(result[i].optimizer_time)\n",
    "    x= tsp.sample_most_likely(result[i].eigenstate)\n",
    "    feasible.append(qp.is_feasible(x))\n",
    "    x = tsp.sample_most_likely(result[i].eigenstate)\n",
    "    z= tsp.interpret(x)"
   ]
  },
  {
   "cell_type": "code",
   "execution_count": 32,
   "id": "96da2017-c6b8-4b00-a7e7-51c1f074add2",
   "metadata": {
    "tags": []
   },
   "outputs": [
    {
     "name": "stdout",
     "output_type": "stream",
     "text": [
      "15.427778244018555\n",
      "14.353211402893066\n",
      "14.822652716636657\n"
     ]
    },
    {
     "data": {
      "text/plain": [
       "87"
      ]
     },
     "execution_count": 32,
     "metadata": {},
     "output_type": "execute_result"
    }
   ],
   "source": [
    "print(max(time))\n",
    "print(min(time))\n",
    "print(sum(time)/len(time))\n",
    "#print(max(energy))\n",
    "#print(min(energy))\n",
    "#print(sum(energy)/len(energy))\n",
    "sum(1 for n in feasible if n == True)"
   ]
  },
  {
   "cell_type": "code",
   "execution_count": 33,
   "id": "0ccddb28-4ca0-409b-b6e8-90177a4b7453",
   "metadata": {
    "tags": []
   },
   "outputs": [],
   "source": [
    "exact_result=[]\n",
    "result=[]\n",
    "energy=[]  \n",
    "time=[]\n",
    "feasible=[]\n",
    "for i in range (0,100,1):\n",
    "    #generate graph:\n",
    "    n = 3\n",
    "    num_qubits = n**2\n",
    "    tsp = Tsp.create_random_instance(n) \n",
    "    adj_matrix = nx.to_numpy_array(tsp.graph)\n",
    "    #define ising model \n",
    "    qp = tsp.to_quadratic_program()\n",
    "    qp2qubo = QuadraticProgramToQubo()\n",
    "    qubo = qp2qubo.convert(qp)\n",
    "    qubitOp, offset = qubo.to_ising()\n",
    "    #ansatz\n",
    "    ansatz= TwoLocal(qubitOp.num_qubits, \"ry\", \"cz\", reps=3, entanglement=\"linear\")\n",
    "    #optimizer\n",
    "    optimizer = SPSA(maxiter=300)\n",
    "    vqe= SamplingVQE(sampler=Sampler(), ansatz=ansatz, optimizer=optimizer) #define the SamplingVqe\n",
    "    # run SamplingVQE\n",
    "    result.append(vqe.compute_minimum_eigenvalue(qubitOp))\n",
    "        #resut\n",
    "    energy.append(result[i].eigenvalue.real)\n",
    "    time.append(result[i].optimizer_time)\n",
    "    x= tsp.sample_most_likely(result[i].eigenstate)\n",
    "    feasible.append(qp.is_feasible(x))\n",
    "    x = tsp.sample_most_likely(result[i].eigenstate)\n",
    "    z= tsp.interpret(x)"
   ]
  },
  {
   "cell_type": "code",
   "execution_count": 34,
   "id": "767f94ec-b9ff-49a6-83d6-755165b0a2a6",
   "metadata": {
    "tags": []
   },
   "outputs": [
    {
     "name": "stdout",
     "output_type": "stream",
     "text": [
      "16.68466544151306\n",
      "15.612700462341309\n",
      "16.04867837905884\n"
     ]
    },
    {
     "data": {
      "text/plain": [
       "89"
      ]
     },
     "execution_count": 34,
     "metadata": {},
     "output_type": "execute_result"
    }
   ],
   "source": [
    "print(max(time))\n",
    "print(min(time))\n",
    "print(sum(time)/len(time))\n",
    "#print(max(energy))\n",
    "#print(min(energy))\n",
    "#print(sum(energy)/len(energy))\n",
    "sum(1 for n in feasible if n == True)"
   ]
  },
  {
   "cell_type": "code",
   "execution_count": 35,
   "id": "bab68984-cef2-4380-92d7-c8ba612a6bcc",
   "metadata": {
    "tags": []
   },
   "outputs": [],
   "source": [
    "exact_result=[]\n",
    "result=[]\n",
    "energy=[]  \n",
    "time=[]\n",
    "feasible=[]\n",
    "for i in range (0,100,1):\n",
    "    #generate graph:\n",
    "    n = 3\n",
    "    num_qubits = n**2\n",
    "    tsp = Tsp.create_random_instance(n) \n",
    "    adj_matrix = nx.to_numpy_array(tsp.graph)\n",
    "    #define ising model \n",
    "    qp = tsp.to_quadratic_program()\n",
    "    qp2qubo = QuadraticProgramToQubo()\n",
    "    qubo = qp2qubo.convert(qp)\n",
    "    qubitOp, offset = qubo.to_ising()\n",
    "    #ansatz\n",
    "    ansatz= TwoLocal(qubitOp.num_qubits, \"ry\", \"cx\", reps=1, entanglement=\"linear\")\n",
    "    #optimizer\n",
    "    optimizer = SPSA(maxiter=300)\n",
    "    vqe= SamplingVQE(sampler=Sampler(), ansatz=ansatz, optimizer=optimizer) #define the SamplingVqe\n",
    "    # run SamplingVQE\n",
    "    result.append(vqe.compute_minimum_eigenvalue(qubitOp))\n",
    "        #resut\n",
    "    energy.append(result[i].eigenvalue.real)\n",
    "    time.append(result[i].optimizer_time)\n",
    "    x= tsp.sample_most_likely(result[i].eigenstate)\n",
    "    feasible.append(qp.is_feasible(x))\n",
    "    x = tsp.sample_most_likely(result[i].eigenstate)\n",
    "    z= tsp.interpret(x)"
   ]
  },
  {
   "cell_type": "code",
   "execution_count": 36,
   "id": "65e45b7e-1b45-4bf5-998a-2a1174899f29",
   "metadata": {
    "tags": []
   },
   "outputs": [
    {
     "name": "stdout",
     "output_type": "stream",
     "text": [
      "14.526697635650635\n",
      "13.62152361869812\n",
      "14.051894328594209\n"
     ]
    },
    {
     "data": {
      "text/plain": [
       "82"
      ]
     },
     "execution_count": 36,
     "metadata": {},
     "output_type": "execute_result"
    }
   ],
   "source": [
    "print(max(time))\n",
    "print(min(time))\n",
    "print(sum(time)/len(time))\n",
    "#print(max(energy))\n",
    "#print(min(energy))\n",
    "#print(sum(energy)/len(energy))\n",
    "sum(1 for n in feasible if n == True)"
   ]
  },
  {
   "cell_type": "code",
   "execution_count": 37,
   "id": "2bc82bb5-0ef1-4d82-9d6e-624a3b25dd7a",
   "metadata": {
    "tags": []
   },
   "outputs": [],
   "source": [
    "exact_result=[]\n",
    "result=[]\n",
    "energy=[]  \n",
    "time=[]\n",
    "feasible=[]\n",
    "for i in range (0,100,1):\n",
    "    #generate graph:\n",
    "    n = 3\n",
    "    num_qubits = n**2\n",
    "    tsp = Tsp.create_random_instance(n) \n",
    "    adj_matrix = nx.to_numpy_array(tsp.graph)\n",
    "    #define ising model \n",
    "    qp = tsp.to_quadratic_program()\n",
    "    qp2qubo = QuadraticProgramToQubo()\n",
    "    qubo = qp2qubo.convert(qp)\n",
    "    qubitOp, offset = qubo.to_ising()\n",
    "    #ansatz\n",
    "    ansatz= TwoLocal(qubitOp.num_qubits, \"ry\", \"cx\", reps=2, entanglement=\"linear\")\n",
    "    #optimizer\n",
    "    optimizer = SPSA(maxiter=300)\n",
    "    vqe= SamplingVQE(sampler=Sampler(), ansatz=ansatz, optimizer=optimizer) #define the SamplingVqe\n",
    "    # run SamplingVQE\n",
    "    result.append(vqe.compute_minimum_eigenvalue(qubitOp))\n",
    "        #resut\n",
    "    energy.append(result[i].eigenvalue.real)\n",
    "    time.append(result[i].optimizer_time)\n",
    "    x= tsp.sample_most_likely(result[i].eigenstate)\n",
    "    feasible.append(qp.is_feasible(x))\n",
    "    x = tsp.sample_most_likely(result[i].eigenstate)\n",
    "    z= tsp.interpret(x)"
   ]
  },
  {
   "cell_type": "code",
   "execution_count": 38,
   "id": "f3b8318e-6b51-4a2a-975f-791f3776710e",
   "metadata": {
    "tags": []
   },
   "outputs": [
    {
     "name": "stdout",
     "output_type": "stream",
     "text": [
      "15.476263523101807\n",
      "14.654154777526855\n",
      "15.068197073936462\n"
     ]
    },
    {
     "data": {
      "text/plain": [
       "91"
      ]
     },
     "execution_count": 38,
     "metadata": {},
     "output_type": "execute_result"
    }
   ],
   "source": [
    "print(max(time))\n",
    "print(min(time))\n",
    "print(sum(time)/len(time))\n",
    "#print(max(energy))\n",
    "#print(min(energy))\n",
    "#print(sum(energy)/len(energy))\n",
    "sum(1 for n in feasible if n == True)"
   ]
  },
  {
   "cell_type": "code",
   "execution_count": 39,
   "id": "2326c47c-dba8-4963-8e05-c7b2eecada34",
   "metadata": {
    "tags": []
   },
   "outputs": [],
   "source": [
    "exact_result=[]\n",
    "result=[]\n",
    "energy=[]  \n",
    "time=[]\n",
    "feasible=[]\n",
    "for i in range (0,100,1):\n",
    "    #generate graph:\n",
    "    n = 3\n",
    "    num_qubits = n**2\n",
    "    tsp = Tsp.create_random_instance(n) \n",
    "    adj_matrix = nx.to_numpy_array(tsp.graph)\n",
    "    #define ising model \n",
    "    qp = tsp.to_quadratic_program()\n",
    "    qp2qubo = QuadraticProgramToQubo()\n",
    "    qubo = qp2qubo.convert(qp)\n",
    "    qubitOp, offset = qubo.to_ising()\n",
    "    #ansatz\n",
    "    ansatz= TwoLocal(qubitOp.num_qubits, \"ry\", \"cx\", reps=3, entanglement=\"linear\")\n",
    "    #optimizer\n",
    "    optimizer = SPSA(maxiter=300)\n",
    "    vqe= SamplingVQE(sampler=Sampler(), ansatz=ansatz, optimizer=optimizer) #define the SamplingVqe\n",
    "    # run SamplingVQE\n",
    "    result.append(vqe.compute_minimum_eigenvalue(qubitOp))\n",
    "        #resut\n",
    "    energy.append(result[i].eigenvalue.real)\n",
    "    time.append(result[i].optimizer_time)\n",
    "    x= tsp.sample_most_likely(result[i].eigenstate)\n",
    "    feasible.append(qp.is_feasible(x))\n",
    "    x = tsp.sample_most_likely(result[i].eigenstate)\n",
    "    z= tsp.interpret(x)"
   ]
  },
  {
   "cell_type": "code",
   "execution_count": 40,
   "id": "91a85521-96a7-4ac4-977f-32f8c344a885",
   "metadata": {
    "tags": []
   },
   "outputs": [
    {
     "name": "stdout",
     "output_type": "stream",
     "text": [
      "16.620526552200317\n",
      "15.368333101272583\n",
      "15.953186922073364\n"
     ]
    },
    {
     "data": {
      "text/plain": [
       "81"
      ]
     },
     "execution_count": 40,
     "metadata": {},
     "output_type": "execute_result"
    }
   ],
   "source": [
    "print(max(time))\n",
    "print(min(time))\n",
    "print(sum(time)/len(time))\n",
    "#print(max(energy))\n",
    "#print(min(energy))\n",
    "#print(sum(energy)/len(energy))\n",
    "sum(1 for n in feasible if n == True)"
   ]
  },
  {
   "cell_type": "markdown",
   "id": "715ab10b-1a34-4ec9-bbf4-aec9e45f33e9",
   "metadata": {
    "tags": []
   },
   "source": [
    "### TOLLERANCE"
   ]
  },
  {
   "cell_type": "code",
   "execution_count": 41,
   "id": "c666987a-3f69-456c-874f-c0020c2b5186",
   "metadata": {
    "tags": []
   },
   "outputs": [],
   "source": [
    "exact_result=[]\n",
    "result=[]\n",
    "energy=[]  \n",
    "time=[]\n",
    "feasible=[]\n",
    "for i in range (0,100,1):\n",
    "    #generate graph:\n",
    "    n = 3\n",
    "    num_qubits = n**2\n",
    "    tsp = Tsp.create_random_instance(n) \n",
    "    adj_matrix = nx.to_numpy_array(tsp.graph)\n",
    "    #define ising model \n",
    "    qp = tsp.to_quadratic_program()\n",
    "    qp2qubo = QuadraticProgramToQubo()\n",
    "    qubo = qp2qubo.convert(qp)\n",
    "    qubitOp, offset = qubo.to_ising()\n",
    "    ansatz= TwoLocal(qubitOp.num_qubits, \"ry\", \"cz\", reps=3, entanglement=\"linear\")\n",
    "    #optimizer\n",
    "    optimizer = COBYLA(maxiter=300,tol=0.1)\n",
    "    vqe= SamplingVQE(sampler=Sampler(), ansatz=ansatz, optimizer=optimizer) #define the SamplingVqe\n",
    "    # run SamplingVQE\n",
    "    result.append(vqe.compute_minimum_eigenvalue(qubitOp))\n",
    "        #resut\n",
    "    energy.append(result[i].eigenvalue.real)\n",
    "    time.append(result[i].optimizer_time)\n",
    "    x= tsp.sample_most_likely(result[i].eigenstate)\n",
    "    feasible.append(qp.is_feasible(x))\n",
    "    x = tsp.sample_most_likely(result[i].eigenstate)\n",
    "    z= tsp.interpret(x)"
   ]
  },
  {
   "cell_type": "code",
   "execution_count": 42,
   "id": "64e5564d-664d-4b26-9cc0-8656c7a63d07",
   "metadata": {
    "tags": []
   },
   "outputs": [
    {
     "name": "stdout",
     "output_type": "stream",
     "text": [
      "7.771281719207764\n",
      "6.165342807769775\n",
      "7.269524827003479\n"
     ]
    },
    {
     "data": {
      "text/plain": [
       "100"
      ]
     },
     "execution_count": 42,
     "metadata": {},
     "output_type": "execute_result"
    }
   ],
   "source": [
    "print(max(time))\n",
    "print(min(time))\n",
    "print(sum(time)/len(time))\n",
    "#print(max(energy))\n",
    "#print(min(energy))\n",
    "#print(sum(energy)/len(energy))\n",
    "sum(1 for n in feasible if n == True)"
   ]
  },
  {
   "cell_type": "code",
   "execution_count": 43,
   "id": "9f6b96b9-7f25-4249-ba14-0c2bda5df74f",
   "metadata": {
    "tags": []
   },
   "outputs": [],
   "source": [
    "exact_result=[]\n",
    "result=[]\n",
    "energy=[]  \n",
    "time=[]\n",
    "feasible=[]\n",
    "for i in range (0,100,1):\n",
    "    #generate graph:\n",
    "    n = 3\n",
    "    num_qubits = n**2\n",
    "    tsp = Tsp.create_random_instance(n) \n",
    "    adj_matrix = nx.to_numpy_array(tsp.graph)\n",
    "    #define ising model \n",
    "    qp = tsp.to_quadratic_program()\n",
    "    qp2qubo = QuadraticProgramToQubo()\n",
    "    qubo = qp2qubo.convert(qp)\n",
    "    qubitOp, offset = qubo.to_ising()\n",
    "    ansatz= TwoLocal(qubitOp.num_qubits, \"ry\", \"cz\", reps=3, entanglement=\"linear\")\n",
    "    #optimizer\n",
    "    optimizer = COBYLA(maxiter=300,tol=0.3)\n",
    "    vqe= SamplingVQE(sampler=Sampler(), ansatz=ansatz, optimizer=optimizer) #define the SamplingVqe\n",
    "    # run SamplingVQE\n",
    "    result.append(vqe.compute_minimum_eigenvalue(qubitOp))\n",
    "        #resut\n",
    "    energy.append(result[i].eigenvalue.real)\n",
    "    time.append(result[i].optimizer_time)\n",
    "    x= tsp.sample_most_likely(result[i].eigenstate)\n",
    "    feasible.append(qp.is_feasible(x))\n",
    "    x = tsp.sample_most_likely(result[i].eigenstate)\n",
    "    z= tsp.interpret(x)"
   ]
  },
  {
   "cell_type": "code",
   "execution_count": 44,
   "id": "beb3bdb3-bfc2-4ba7-b288-1e56120a96ad",
   "metadata": {
    "tags": []
   },
   "outputs": [
    {
     "name": "stdout",
     "output_type": "stream",
     "text": [
      "7.314487934112549\n",
      "3.7192745208740234\n",
      "5.516310524940491\n"
     ]
    },
    {
     "data": {
      "text/plain": [
       "99"
      ]
     },
     "execution_count": 44,
     "metadata": {},
     "output_type": "execute_result"
    }
   ],
   "source": [
    "print(max(time))\n",
    "print(min(time))\n",
    "print(sum(time)/len(time))\n",
    "#print(max(energy))\n",
    "#print(min(energy))\n",
    "#print(sum(energy)/len(energy))\n",
    "sum(1 for n in feasible if n == True)"
   ]
  },
  {
   "cell_type": "code",
   "execution_count": 45,
   "id": "a378deb8-fb46-428f-90a4-a64f12fb5e86",
   "metadata": {
    "tags": []
   },
   "outputs": [],
   "source": [
    "exact_result=[]\n",
    "result=[]\n",
    "energy=[]  \n",
    "time=[]\n",
    "feasible=[]\n",
    "for i in range (0,100,1):\n",
    "    #generate graph:\n",
    "    n = 3\n",
    "    num_qubits = n**2\n",
    "    tsp = Tsp.create_random_instance(n) \n",
    "    adj_matrix = nx.to_numpy_array(tsp.graph)\n",
    "    #define ising model \n",
    "    qp = tsp.to_quadratic_program()\n",
    "    qp2qubo = QuadraticProgramToQubo()\n",
    "    qubo = qp2qubo.convert(qp)\n",
    "    qubitOp, offset = qubo.to_ising()\n",
    "    ansatz= TwoLocal(qubitOp.num_qubits, \"ry\", \"cz\", reps=3, entanglement=\"linear\")\n",
    "    #optimizer\n",
    "    optimizer = COBYLA(maxiter=300,tol=0.5)\n",
    "    vqe= SamplingVQE(sampler=Sampler(), ansatz=ansatz, optimizer=optimizer) #define the SamplingVqe\n",
    "    # run SamplingVQE\n",
    "    result.append(vqe.compute_minimum_eigenvalue(qubitOp))\n",
    "        #resut\n",
    "    energy.append(result[i].eigenvalue.real)\n",
    "    time.append(result[i].optimizer_time)\n",
    "    x= tsp.sample_most_likely(result[i].eigenstate)\n",
    "    feasible.append(qp.is_feasible(x))\n",
    "    x = tsp.sample_most_likely(result[i].eigenstate)\n",
    "    z= tsp.interpret(x)"
   ]
  },
  {
   "cell_type": "code",
   "execution_count": 46,
   "id": "3a1296f0-bd40-44fe-9898-e2b51c01b7b1",
   "metadata": {
    "tags": []
   },
   "outputs": [
    {
     "name": "stdout",
     "output_type": "stream",
     "text": [
      "6.316447496414185\n",
      "2.3798770904541016\n",
      "4.32406194448471\n"
     ]
    },
    {
     "data": {
      "text/plain": [
       "97"
      ]
     },
     "execution_count": 46,
     "metadata": {},
     "output_type": "execute_result"
    }
   ],
   "source": [
    "print(max(time))\n",
    "print(min(time))\n",
    "print(sum(time)/len(time))\n",
    "#print(max(energy))\n",
    "#print(min(energy))\n",
    "#print(sum(energy)/len(energy))\n",
    "sum(1 for n in feasible if n == True)"
   ]
  },
  {
   "cell_type": "markdown",
   "id": "a252d494-1695-4e98-a2f1-00721438d023",
   "metadata": {
    "tags": []
   },
   "source": [
    "# TOLLERANCE and FEASIBILITY"
   ]
  },
  {
   "cell_type": "markdown",
   "id": "e05583f0-78ea-4034-a5a5-cb6f8efbf498",
   "metadata": {},
   "source": [
    "\n",
    "Now we perform the sampling VQE on the same 4-node graph with COBYLA (maxiter=300), adjusting tolerance values to reduce execution time while maintaining the feasibility percentage"
   ]
  },
  {
   "cell_type": "code",
   "execution_count": 48,
   "id": "19625a37-00a5-4ef3-aa96-b31d8f72cfc0",
   "metadata": {
    "tags": []
   },
   "outputs": [
    {
     "name": "stdout",
     "output_type": "stream",
     "text": [
      "distance\n",
      " [[ 0. 48. 91.]\n",
      " [48.  0. 63.]\n",
      " [91. 63.  0.]]\n"
     ]
    },
    {
     "data": {
      "image/png": "[encoded data removed]",
      "text/plain": [
       "<Figure size 640x480 with 1 Axes>"
      ]
     },
     "metadata": {},
     "output_type": "display_data"
    }
   ],
   "source": [
    "# Generating a graph of 3 nodes\n",
    "n = 3\n",
    "num_qubits = n**2\n",
    "tsp = Tsp.create_random_instance(n, seed=123) \n",
    "adj_matrix = nx.to_numpy_array(tsp.graph)\n",
    "print(\"distance\\n\", adj_matrix)\n",
    "\n",
    "colors_6 = [\"r\" for node in tsp.graph.nodes]\n",
    "pos_3 = [tsp.graph.nodes[node][\"pos\"] for node in tsp.graph.nodes]\n",
    "draw_graph(tsp.graph, colors_6, pos_3)"
   ]
  },
  {
   "cell_type": "code",
   "execution_count": 49,
   "id": "0a8dc533-b7ba-469c-902c-77da8b408a31",
   "metadata": {
    "tags": []
   },
   "outputs": [],
   "source": [
    "#define the Ising model\n",
    "qp_tsp = tsp.to_quadratic_program()\n",
    "qp2qubo_tsp = QuadraticProgramToQubo()\n",
    "qubo_tsp = qp2qubo_tsp.convert(qp_tsp)\n",
    "qubitOp_tsp, offset = qubo_tsp.to_ising()"
   ]
  },
  {
   "cell_type": "code",
   "execution_count": 50,
   "id": "bc0a93b1-e9bf-4d25-b396-fc0142c028be",
   "metadata": {
    "tags": []
   },
   "outputs": [
    {
     "name": "stdout",
     "output_type": "stream",
     "text": [
      "energy: -7379.0\n",
      "tsp objective: 202.0\n",
      "feasible: True\n",
      "solution: [0, 1, 2]\n",
      "solution objective: 202.0\n"
     ]
    }
   ],
   "source": [
    "ee = NumPyMinimumEigensolver()\n",
    "result=ee.compute_minimum_eigenvalue(qubitOp_tsp)\n",
    "print(\"energy:\", result.eigenvalue.real)\n",
    "print(\"tsp objective:\", result.eigenvalue.real + offset)\n",
    "x = tsp.sample_most_likely(result.eigenstate)\n",
    "print(\"feasible:\", qp_tsp.is_feasible(x))\n",
    "z= tsp.interpret(x)\n",
    "print(\"solution:\", z)\n",
    "print(\"solution objective:\", tsp.tsp_value(z, adj_matrix))"
   ]
  },
  {
   "cell_type": "code",
   "execution_count": 51,
   "id": "0d51a70c-9807-4fdf-82fd-118021f68a25",
   "metadata": {
    "tags": []
   },
   "outputs": [],
   "source": [
    "algorithm_globals.random_seed = 123\n",
    "seed = 10598"
   ]
  },
  {
   "cell_type": "code",
   "execution_count": 52,
   "id": "95443c3a-a5b5-45cd-ae7a-3bd013ad0810",
   "metadata": {
    "tags": []
   },
   "outputs": [],
   "source": [
    "counts=[]\n",
    "params=[]\n",
    "values=[]\n",
    "mddict=[]\n",
    "def store_intermediate_result(count, parameters, value, step):\n",
    "    counts.append(count)\n",
    "    params.append(parameters)\n",
    "    values.append(value)\n",
    "    mddict.append(step)"
   ]
  },
  {
   "cell_type": "code",
   "execution_count": 53,
   "id": "18ebd784-a94b-42da-8dff-54778db50222",
   "metadata": {
    "tags": []
   },
   "outputs": [
    {
     "name": "stdout",
     "output_type": "stream",
     "text": [
      "4.470832586288452\n",
      "1.9015147686004639\n",
      "2.998370690345764\n",
      "-4704.63214595649\n",
      "-7239.406733948992\n",
      "-6788.299936019965\n"
     ]
    },
    {
     "data": {
      "text/plain": [
       "9"
      ]
     },
     "execution_count": 53,
     "metadata": {},
     "output_type": "execute_result"
    }
   ],
   "source": [
    "result_clb=[]\n",
    "time=[]\n",
    "energy=[]\n",
    "for i in range (1,101,1):\n",
    "    counts=[]\n",
    "    params=[]\n",
    "    values=[]\n",
    "    mddict=[]\n",
    "    optimizer = COBYLA(maxiter=300, tol=0.5)\n",
    "    ry_clb = TwoLocal(qubitOp_tsp.num_qubits, \"ry\", \"cz\", reps=2, entanglement=\"linear\")\n",
    "    vqe_clb = SamplingVQE(sampler=Sampler(), ansatz=ry_clb, optimizer=optimizer, callback=store_intermediate_result)\n",
    "    # run SamplingVQE \n",
    "    result_clb. append(vqe_clb.compute_minimum_eigenvalue(qubitOp_tsp))\n",
    "    energy.append(result_clb[i-1].eigenvalue.real)\n",
    "    time.append(result_clb[i-1].optimizer_time)\n",
    "print(max(time))\n",
    "print(min(time))\n",
    "print(sum(time)/len(time))\n",
    "print(max(energy))\n",
    "print(min(energy))\n",
    "print(sum(energy)/len(energy))\n",
    "sum(1 for n in energy if n > -5000)"
   ]
  },
  {
   "cell_type": "code",
   "execution_count": 54,
   "id": "ed06b063-308b-4ce9-861a-a069764204c1",
   "metadata": {
    "tags": []
   },
   "outputs": [
    {
     "name": "stdout",
     "output_type": "stream",
     "text": [
      "5.7962327003479\n",
      "1.7557342052459717\n",
      "3.4725711080763073\n",
      "-4833.372824425202\n",
      "-7315.5065619282095\n",
      "-7066.941646384569\n"
     ]
    },
    {
     "data": {
      "text/plain": [
       "4"
      ]
     },
     "execution_count": 54,
     "metadata": {},
     "output_type": "execute_result"
    }
   ],
   "source": [
    "result_clb=[]\n",
    "time=[]\n",
    "energy=[]\n",
    "for i in range (1,100,1):\n",
    "    counts=[]\n",
    "    params=[]\n",
    "    values=[]\n",
    "    mddict=[]\n",
    "    optimizer = COBYLA(maxiter=300, tol=0.35)\n",
    "    ry_clb = TwoLocal(qubitOp_tsp.num_qubits, \"ry\", \"cz\", reps=2, entanglement=\"linear\")\n",
    "    vqe_clb = SamplingVQE(sampler=Sampler(), ansatz=ry_clb, optimizer=optimizer, callback=store_intermediate_result)\n",
    "    # run SamplingVQE \n",
    "    result_clb. append(vqe_clb.compute_minimum_eigenvalue(qubitOp_tsp))\n",
    "    energy.append(result_clb[i-1].eigenvalue.real)\n",
    "    time.append(result_clb[i-1].optimizer_time)\n",
    "print(max(time))\n",
    "print(min(time))\n",
    "print(sum(time)/len(time))\n",
    "print(max(energy))\n",
    "print(min(energy))\n",
    "print(sum(energy)/len(energy))\n",
    "sum(1 for n in energy if n > -5000)"
   ]
  },
  {
   "cell_type": "code",
   "execution_count": 55,
   "id": "53c522e7-feed-40e4-9ef2-ac1f43ad03b7",
   "metadata": {
    "tags": []
   },
   "outputs": [
    {
     "name": "stdout",
     "output_type": "stream",
     "text": [
      "3.9512150287628174\n",
      "0.9691543579101562\n",
      "2.2588644605694395\n",
      "-4154.995645748554\n",
      "-7028.710894380623\n",
      "-5949.12906076843\n"
     ]
    },
    {
     "data": {
      "text/plain": [
       "17"
      ]
     },
     "execution_count": 55,
     "metadata": {},
     "output_type": "execute_result"
    }
   ],
   "source": [
    "result_clb=[]\n",
    "time=[]\n",
    "energy=[]\n",
    "for i in range (1,100,1):\n",
    "    counts=[]\n",
    "    params=[]\n",
    "    values=[]\n",
    "    mddict=[]\n",
    "    optimizer = COBYLA(maxiter=300, tol=0.8)\n",
    "    ry_clb = TwoLocal(qubitOp_tsp.num_qubits, \"ry\", \"cz\", reps=2, entanglement=\"linear\")\n",
    "    vqe_clb = SamplingVQE(sampler=Sampler(), ansatz=ry_clb, optimizer=optimizer, callback=store_intermediate_result)\n",
    "    # run SamplingVQE \n",
    "    result_clb. append(vqe_clb.compute_minimum_eigenvalue(qubitOp_tsp))\n",
    "    energy.append(result_clb[i-1].eigenvalue.real)\n",
    "    time.append(result_clb[i-1].optimizer_time)\n",
    "print(max(time))\n",
    "print(min(time))\n",
    "print(sum(time)/len(time))\n",
    "print(max(energy))\n",
    "print(min(energy))\n",
    "print(sum(energy)/len(energy))\n",
    "sum(1 for n in energy if n > -5000)"
   ]
  },
  {
   "cell_type": "code",
   "execution_count": 56,
   "id": "fc75534a-c38d-40b9-abd6-8d57dfaa222b",
   "metadata": {
    "tags": []
   },
   "outputs": [
    {
     "name": "stdout",
     "output_type": "stream",
     "text": [
      "7.23901104927063\n",
      "3.137084484100342\n",
      "4.494517755026769\n",
      "-4858.526124289117\n",
      "-7353.154906083859\n",
      "-7231.891106405146\n"
     ]
    },
    {
     "data": {
      "text/plain": [
       "3"
      ]
     },
     "execution_count": 56,
     "metadata": {},
     "output_type": "execute_result"
    }
   ],
   "source": [
    "result_clb=[]\n",
    "time=[]\n",
    "energy=[]\n",
    "for i in range (1,100,1):\n",
    "    counts=[]\n",
    "    params=[]\n",
    "    values=[]\n",
    "    mddict=[]\n",
    "    optimizer = COBYLA(maxiter=300, tol=0.2)\n",
    "    ry_clb = TwoLocal(qubitOp_tsp.num_qubits, \"ry\", \"cz\", reps=2, entanglement=\"linear\")\n",
    "    vqe_clb = SamplingVQE(sampler=Sampler(), ansatz=ry_clb, optimizer=optimizer, callback=store_intermediate_result)\n",
    "    # run SamplingVQE \n",
    "    result_clb. append(vqe_clb.compute_minimum_eigenvalue(qubitOp_tsp))\n",
    "    energy.append(result_clb[i-1].eigenvalue.real)\n",
    "    time.append(result_clb[i-1].optimizer_time)\n",
    "print(max(time))\n",
    "print(min(time))\n",
    "print(sum(time)/len(time))\n",
    "print(max(energy))\n",
    "print(min(energy))\n",
    "print(sum(energy)/len(energy))\n",
    "sum(1 for n in energy if n > -5000)"
   ]
  },
  {
   "cell_type": "code",
   "execution_count": 57,
   "id": "f6ef9a2e-9f17-428e-93e6-ee8ab57ccf0a",
   "metadata": {
    "tags": []
   },
   "outputs": [
    {
     "name": "stdout",
     "output_type": "stream",
     "text": [
      "7.310377359390259\n",
      "4.343810558319092\n",
      "5.649076784499968\n",
      "-5001.402783456308\n",
      "-7370.8579926305465\n",
      "-7287.46468394155\n"
     ]
    },
    {
     "data": {
      "text/plain": [
       "0"
      ]
     },
     "execution_count": 57,
     "metadata": {},
     "output_type": "execute_result"
    }
   ],
   "source": [
    "result_clb=[]\n",
    "time=[]\n",
    "energy=[]\n",
    "for i in range (1,100,1):\n",
    "    counts=[]\n",
    "    params=[]\n",
    "    values=[]\n",
    "    mddict=[]\n",
    "    optimizer = COBYLA(maxiter=300, tol=0.1)\n",
    "    ry_clb = TwoLocal(qubitOp_tsp.num_qubits, \"ry\", \"cz\", reps=2, entanglement=\"linear\")\n",
    "    vqe_clb = SamplingVQE(sampler=Sampler(), ansatz=ry_clb, optimizer=optimizer, callback=store_intermediate_result)\n",
    "    # run SamplingVQE \n",
    "    result_clb. append(vqe_clb.compute_minimum_eigenvalue(qubitOp_tsp))\n",
    "    energy.append(result_clb[i-1].eigenvalue.real)\n",
    "    time.append(result_clb[i-1].optimizer_time)\n",
    "print(max(time))\n",
    "print(min(time))\n",
    "print(sum(time)/len(time))\n",
    "print(max(energy))\n",
    "print(min(energy))\n",
    "print(sum(energy)/len(energy))\n",
    "sum(1 for n in energy if n > -5000)"
   ]
  },
  {
   "cell_type": "code",
   "execution_count": 58,
   "id": "f499a2ee-3294-4913-9427-e5d27a90cb66",
   "metadata": {
    "tags": []
   },
   "outputs": [
    {
     "name": "stdout",
     "output_type": "stream",
     "text": [
      "2.979959011077881\n",
      "1.1245994567871094\n",
      "1.8272353904415863\n",
      "-3998.0151035779913\n",
      "-6895.7303887049575\n",
      "-5537.935440350253\n"
     ]
    },
    {
     "data": {
      "text/plain": [
       "29"
      ]
     },
     "execution_count": 58,
     "metadata": {},
     "output_type": "execute_result"
    }
   ],
   "source": [
    "result_clb=[]\n",
    "time=[]\n",
    "energy=[]\n",
    "for i in range (1,100,1):\n",
    "    counts=[]\n",
    "    params=[]\n",
    "    values=[]\n",
    "    mddict=[]\n",
    "    optimizer = COBYLA(maxiter=300, tol=1)\n",
    "    ry_clb = TwoLocal(qubitOp_tsp.num_qubits, \"ry\", \"cz\", reps=2, entanglement=\"linear\")\n",
    "    vqe_clb = SamplingVQE(sampler=Sampler(), ansatz=ry_clb, optimizer=optimizer, callback=store_intermediate_result)\n",
    "    # run SamplingVQE \n",
    "    result_clb. append(vqe_clb.compute_minimum_eigenvalue(qubitOp_tsp))\n",
    "    energy.append(result_clb[i-1].eigenvalue.real)\n",
    "    time.append(result_clb[i-1].optimizer_time)\n",
    "print(max(time))\n",
    "print(min(time))\n",
    "print(sum(time)/len(time))\n",
    "print(max(energy))\n",
    "print(min(energy))\n",
    "print(sum(energy)/len(energy))\n",
    "sum(1 for n in energy if n > -5000)"
   ]
  },
  {
   "cell_type": "markdown",
   "id": "ac6ee658-a490-4e6e-8ad2-82e3a41f1bc9",
   "metadata": {
    "tags": []
   },
   "source": [
    "# PLOT"
   ]
  },
  {
   "cell_type": "markdown",
   "id": "8d8cbd67-58d9-4e63-8894-3df504a8b873",
   "metadata": {},
   "source": [
    "\n",
    "We are studying the convergence of different depths of the TwoLocal circuit, with epsilon values of 1, 2, 3, both for Cz and Cx gates. Additionally, we are comparing the effectiveness of the two different classical optimizers used in this analysis"
   ]
  },
  {
   "cell_type": "code",
   "execution_count": 22,
   "id": "87423492-c7fc-4bc6-9f39-0993841474ff",
   "metadata": {},
   "outputs": [
    {
     "name": "stdout",
     "output_type": "stream",
     "text": [
      "1\n",
      "energy: -7378.999328962683\n",
      "time: 11.752514600753784\n",
      "feasible: True\n",
      "solution: [2, 0, 1]\n",
      "solution objective: 202.0\n",
      "2\n",
      "energy: -7376.4661386630905\n",
      "time: 15.725724220275879\n",
      "feasible: True\n",
      "solution: [1, 0, 2]\n",
      "solution objective: 202.0\n",
      "3\n",
      "energy: -7364.818683475441\n",
      "time: 14.721195220947266\n",
      "feasible: True\n",
      "solution: [2, 0, 1]\n",
      "solution objective: 202.0\n",
      "1\n",
      "energy: -7368.303659615423\n",
      "time: 28.17366623878479\n",
      "feasible: True\n",
      "solution: [2, 1, 0]\n",
      "solution objective: 202.0\n",
      "2\n",
      "energy: -7351.738933168748\n",
      "time: 28.43384552001953\n",
      "feasible: True\n",
      "solution: [1, 0, 2]\n",
      "solution objective: 202.0\n",
      "3\n",
      "energy: -7238.130782911616\n",
      "time: 32.29147291183472\n",
      "feasible: True\n",
      "solution: [2, 0, 1]\n",
      "solution objective: 202.0\n"
     ]
    },
    {
     "data": {
      "image/png": "[encoded data removed]",
      "text/plain": [
       "<Figure size 640x480 with 1 Axes>"
      ]
     },
     "metadata": {},
     "output_type": "display_data"
    }
   ],
   "source": [
    "plt.axhline(y=-7379, color='r', linestyle='--')\n",
    "counts=[]\n",
    "params=[]\n",
    "values=[]\n",
    "mddict=[]\n",
    "optimizer = COBYLA(maxiter=300)\n",
    "for i in range (1,4,1):\n",
    "    ry_clb = TwoLocal(qubitOp_tsp.num_qubits, \"ry\", \"cz\", reps=i, entanglement=\"linear\")\n",
    "    vqe_clb = SamplingVQE(sampler=Sampler(), ansatz=ry_clb, optimizer=optimizer, callback=store_intermediate_result)\n",
    "    # run SamplingVQE \n",
    "    result=vqe_clb.compute_minimum_eigenvalue(qubitOp_tsp)\n",
    "    print(i)\n",
    "    print(\"energy:\", result.eigenvalue.real)\n",
    "    print(\"time:\", result.optimizer_time)\n",
    "    x= tsp.sample_most_likely(result.eigenstate)\n",
    "    print(\"feasible:\", qubo_tsp.is_feasible(x))\n",
    "    z = tsp.interpret(x)\n",
    "    print(\"solution:\", z)\n",
    "    print(\"solution objective:\", tsp.tsp_value(z, adj_matrix))\n",
    "    pylab.plot(values, label= f'COBYLA, reps={i}')\n",
    "    counts=[]\n",
    "    params=[]\n",
    "    values=[]\n",
    "    mddict=[]\n",
    "optimizer = SPSA(maxiter=300)\n",
    "for i in range (1,4,1):\n",
    "    ry_clb = TwoLocal(qubitOp_tsp.num_qubits, \"ry\", \"cz\", reps=i, entanglement=\"linear\")\n",
    "    vqe_clb = SamplingVQE(sampler=Sampler(), ansatz=ry_clb, optimizer=optimizer, callback=store_intermediate_result)\n",
    "    # run SamplingVQE \n",
    "    result=vqe_clb.compute_minimum_eigenvalue(qubitOp_tsp)\n",
    "    print(i)\n",
    "    print(\"energy:\", result.eigenvalue.real)\n",
    "    print(\"time:\", result.optimizer_time)\n",
    "    x= tsp.sample_most_likely(result.eigenstate)\n",
    "    print(\"feasible:\", qubo_tsp.is_feasible(x))\n",
    "    z = tsp.interpret(x)\n",
    "    print(\"solution:\", z)\n",
    "    print(\"solution objective:\", tsp.tsp_value(z, adj_matrix))\n",
    "    pylab.plot(values, label= f'SPSA, reps={i}')\n",
    "    counts=[]\n",
    "    params=[]\n",
    "    values=[]\n",
    "    mddict=[]\n",
    "pylab.grid(True)\n",
    "plt.legend()\n",
    "plt.xlabel('Number of iterations')\n",
    "plt.ylabel('Expectation value')\n",
    "# Mostra il grafico\n",
    "pylab.show()\n"
   ]
  },
  {
   "cell_type": "code",
   "execution_count": 23,
   "id": "f60eb0bc-8d64-4374-9b85-8308d38107b7",
   "metadata": {
    "tags": []
   },
   "outputs": [
    {
     "name": "stdout",
     "output_type": "stream",
     "text": [
      "1\n",
      "energy: -7377.316401881209\n",
      "time: 10.634467363357544\n",
      "feasible: True\n",
      "solution: [2, 1, 0]\n",
      "solution objective: 202.0\n",
      "2\n",
      "energy: -7372.792600867249\n",
      "time: 15.681817770004272\n",
      "feasible: True\n",
      "solution: [1, 2, 0]\n",
      "solution objective: 202.0\n",
      "3\n",
      "energy: -7348.938834653172\n",
      "time: 17.467297077178955\n",
      "feasible: True\n",
      "solution: [0, 2, 1]\n",
      "solution objective: 202.0\n",
      "1\n",
      "energy: -7377.584231750142\n",
      "time: 26.232789754867554\n",
      "feasible: True\n",
      "solution: [0, 2, 1]\n",
      "solution objective: 202.0\n",
      "2\n",
      "energy: -7364.231559159532\n",
      "time: 30.483214139938354\n",
      "feasible: True\n",
      "solution: [1, 0, 2]\n",
      "solution objective: 202.0\n",
      "3\n",
      "energy: -6685.074565639122\n",
      "time: 31.28300142288208\n",
      "feasible: True\n",
      "solution: [2, 0, 1]\n",
      "solution objective: 202.0\n"
     ]
    },
    {
     "data": {
      "image/png": "[encoded data removed]",
      "text/plain": [
       "<Figure size 640x480 with 1 Axes>"
      ]
     },
     "metadata": {},
     "output_type": "display_data"
    }
   ],
   "source": [
    "plt.axhline(y=-7379, color='r', linestyle='--')\n",
    "counts=[]\n",
    "params=[]\n",
    "values=[]\n",
    "mddict=[]\n",
    "optimizer = COBYLA(maxiter=300)\n",
    "for i in range (1,4,1):\n",
    "    ry_clb = TwoLocal(qubitOp_tsp.num_qubits, \"ry\", \"cx\", reps=i, entanglement=\"linear\")\n",
    "    vqe_clb = SamplingVQE(sampler=Sampler(), ansatz=ry_clb, optimizer=optimizer, callback=store_intermediate_result)\n",
    "    # run SamplingVQE \n",
    "    result=vqe_clb.compute_minimum_eigenvalue(qubitOp_tsp)\n",
    "    print(i)\n",
    "    print(\"energy:\", result.eigenvalue.real)\n",
    "    print(\"time:\", result.optimizer_time)\n",
    "    x= tsp.sample_most_likely(result.eigenstate)\n",
    "    print(\"feasible:\", qubo_tsp.is_feasible(x))\n",
    "    z = tsp.interpret(x)\n",
    "    print(\"solution:\", z)\n",
    "    print(\"solution objective:\", tsp.tsp_value(z, adj_matrix))\n",
    "    pylab.plot(values, label= f'COBYLA, reps={i}')\n",
    "    counts=[]\n",
    "    params=[]\n",
    "    values=[]\n",
    "    mddict=[]\n",
    "optimizer = SPSA(maxiter=300)\n",
    "for i in range (1,4,1):\n",
    "    ry_clb = TwoLocal(qubitOp_tsp.num_qubits, \"ry\", \"cx\", reps=i, entanglement=\"linear\")\n",
    "    vqe_clb = SamplingVQE(sampler=Sampler(), ansatz=ry_clb, optimizer=optimizer, callback=store_intermediate_result)\n",
    "    # run SamplingVQE \n",
    "    result=vqe_clb.compute_minimum_eigenvalue(qubitOp_tsp)\n",
    "    print(i)\n",
    "    print(\"energy:\", result.eigenvalue.real)\n",
    "    print(\"time:\", result.optimizer_time)\n",
    "    x= tsp.sample_most_likely(result.eigenstate)\n",
    "    print(\"feasible:\", qubo_tsp.is_feasible(x))\n",
    "    z = tsp.interpret(x)\n",
    "    print(\"solution:\", z)\n",
    "    print(\"solution objective:\", tsp.tsp_value(z, adj_matrix))\n",
    "    pylab.plot(values, label= f'SPSA, reps={i}')\n",
    "    counts=[]\n",
    "    params=[]\n",
    "    values=[]\n",
    "    mddict=[]\n",
    "pylab.grid(True)\n",
    "plt.legend()\n",
    "plt.xlabel('Number of iterations')\n",
    "plt.ylabel('Expectation value')\n",
    "# Mostra il grafico\n",
    "pylab.show()"
   ]
  },
  {
   "cell_type": "markdown",
   "id": "d6bcfd05-c89a-42fa-930a-c9b6d5cd18d5",
   "metadata": {
    "tags": []
   },
   "source": [
    "# Proposed 1"
   ]
  },
  {
   "cell_type": "markdown",
   "id": "253fe77b-e9c2-4288-abcf-dedf22a47989",
   "metadata": {},
   "source": [
    "We construct the proposed parametric circuit \"Proposed 1\" and analyze its execution time and convergence"
   ]
  },
  {
   "cell_type": "code",
   "execution_count": 62,
   "id": "032b4d5c-b385-462b-8907-d8d942427fc9",
   "metadata": {
    "tags": []
   },
   "outputs": [],
   "source": [
    "#Anstatz 1\n",
    "theta = ParameterVector('theta', n**2)\n",
    "ansatz = QuantumCircuit(n**2)\n",
    "for i in range (0,n**2, n):\n",
    "    ansatz.x(i)\n",
    "    for j in range(i+1,i+n,1):\n",
    "        ansatz.ry(theta[j-1], j)\n",
    "        ansatz.cz(j-1,j)\n",
    "        ansatz.ry(-theta[j-1], j)\n",
    "    for j in range(i+1,i+n,1):\n",
    "        ansatz.cx(j,j-1)"
   ]
  },
  {
   "cell_type": "code",
   "execution_count": 66,
   "id": "59665118-6c03-4f00-8ec0-796eac82fda7",
   "metadata": {
    "tags": []
   },
   "outputs": [
    {
     "name": "stdout",
     "output_type": "stream",
     "text": [
      "0.35082173347473145\n",
      "0.2561800479888916\n",
      "0.27655231952667236\n"
     ]
    },
    {
     "data": {
      "text/plain": [
       "100"
      ]
     },
     "execution_count": 66,
     "metadata": {},
     "output_type": "execute_result"
    }
   ],
   "source": [
    "exact_result=[]\n",
    "result=[]\n",
    "energy=[]  \n",
    "time=[]\n",
    "feasible=[]\n",
    "for i in range (0,100,1):\n",
    "    #generate graph:\n",
    "    n = 3\n",
    "    num_qubits = n**2\n",
    "    tsp = Tsp.create_random_instance(n) \n",
    "    adj_matrix = nx.to_numpy_array(tsp.graph)\n",
    "   #define ising model \n",
    "    qp = tsp.to_quadratic_program()\n",
    "    qp2qubo = QuadraticProgramToQubo()\n",
    "    qubo = qp2qubo.convert(qp)\n",
    "    qubitOp, offset = qubo.to_ising()\n",
    "    #optimizer\n",
    "    optimizer = COBYLA(maxiter=50)\n",
    "    vqe= SamplingVQE(sampler=Sampler(), ansatz=ansatz, optimizer=optimizer) #define the SamplingVqe\n",
    "    # run SamplingVQE\n",
    "    result.append(vqe.compute_minimum_eigenvalue(qubitOp)) \n",
    "    energy.append(result[i].eigenvalue.real)\n",
    "    time.append(result[i].optimizer_time)\n",
    "    x= tsp.sample_most_likely(result[i].eigenstate)\n",
    "    feasible.append(qp.is_feasible(x))\n",
    "    x = tsp.sample_most_likely(result[i].eigenstate)\n",
    "    z= tsp.interpret(x)\n",
    "print(max(time))\n",
    "print(min(time))\n",
    "print(sum(time)/len(time))\n",
    "sum(1 for n in feasible if n == True)"
   ]
  },
  {
   "cell_type": "code",
   "execution_count": null,
   "id": "3f9f938d-6625-4f37-958b-255090eda158",
   "metadata": {
    "tags": []
   },
   "outputs": [
    {
     "name": "stdout",
     "output_type": "stream",
     "text": [
      "0.9302597045898438\n",
      "0.6106064319610596\n",
      "0.660065586566925\n"
     ]
    },
    {
     "data": {
      "text/plain": [
       "100"
      ]
     },
     "execution_count": 69,
     "metadata": {},
     "output_type": "execute_result"
    }
   ],
   "source": [
    "exact_result=[]\n",
    "result=[]\n",
    "energy=[]  \n",
    "time=[]\n",
    "feasible=[]\n",
    "for i in range (0,100,1):\n",
    "    #generate graph:\n",
    "    n = 3\n",
    "    num_qubits = n**2\n",
    "    tsp = Tsp.create_random_instance(n) \n",
    "    adj_matrix = nx.to_numpy_array(tsp.graph)\n",
    "   #define ising model \n",
    "    qp = tsp.to_quadratic_program()\n",
    "    qp2qubo = QuadraticProgramToQubo()\n",
    "    qubo = qp2qubo.convert(qp)\n",
    "    qubitOp, offset = qubo.to_ising()\n",
    "    #optimizer\n",
    "    optimizer = SPSA(maxiter=50)\n",
    "    vqe= SamplingVQE(sampler=Sampler(), ansatz=ansatz, optimizer=optimizer) #define the SamplingVqe\n",
    "    # run SamplingVQE\n",
    "    result.append(vqe.compute_minimum_eigenvalue(qubitOp)) \n",
    "    energy.append(result[i].eigenvalue.real)\n",
    "    time.append(result[i].optimizer_time)\n",
    "    x= tsp.sample_most_likely(result[i].eigenstate)\n",
    "    feasible.append(qp.is_feasible(x))\n",
    "    x = tsp.sample_most_likely(result[i].eigenstate)\n",
    "    z= tsp.interpret(x)\n",
    "print(max(time))\n",
    "print(min(time))\n",
    "print(sum(time)/len(time))\n",
    "sum(1 for n in feasible if n == True)"
   ]
  },
  {
   "cell_type": "code",
   "execution_count": 68,
   "id": "eab9819c-3023-414d-9874-fcba8de711fd",
   "metadata": {
    "tags": []
   },
   "outputs": [],
   "source": [
    "qc2=ansatz"
   ]
  },
  {
   "cell_type": "markdown",
   "id": "a9a58acd-dbd1-4fe7-90f0-ecf377890af0",
   "metadata": {
    "tags": []
   },
   "source": [
    "# Proposed 2"
   ]
  },
  {
   "cell_type": "code",
   "execution_count": 72,
   "id": "a9db3736-c2cc-4326-bd9e-30c3f4654b01",
   "metadata": {
    "tags": []
   },
   "outputs": [],
   "source": [
    "# create the Ansatz\n",
    "def W_circuit(QC, n, q1n, theta):\n",
    "    QC.x(q1n)\n",
    "    #QC.barrier(range(q1n,q1n+n))\n",
    "    for j in range(q1n+1,q1n+n,1):\n",
    "        QC.ry(theta[j-1], j)\n",
    "        QC.cz(j-1,j)\n",
    "        QC.ry(-theta[j-1], j)\n",
    "        #QC.barrier(range(q1n,q1n+n))\n",
    "    for j in range(q1n+1,q1n+n,1):\n",
    "        QC.cx(j,j-1)\n",
    "\n",
    "def base_circuit(QC, n, theta):\n",
    "    theta1 = ParameterVector('theta2', 1)\n",
    "    QC.x(0)\n",
    "    #QC.barrier(range(0,n-1))\n",
    "    QC.ry(theta[1], 1)\n",
    "    QC.cz(0,1)\n",
    "    QC.ry(-theta[1], 1)\n",
    "    QC.cx(1,0)\n",
    "    QC.cx(1,n)\n",
    "    QC.cx(0,n+1)\n"
   ]
  },
  {
   "cell_type": "code",
   "execution_count": 73,
   "id": "ad0286a6-06a4-40a1-8512-3b0f5576c225",
   "metadata": {
    "tags": []
   },
   "outputs": [],
   "source": [
    "qc = QuantumCircuit(n**2)\n",
    "phi=ParameterVector('phi', n**2)\n",
    "base_circuit(qc,n, phi)\n",
    "for i in range(3,n+1,1):\n",
    "    W_circuit(qc, i, n*(i-1), phi)\n",
    "    #qc.barrier()\n",
    "for v in range(1,n,1):\n",
    "    for p in range(1,n,1):\n",
    "        qc.cswap(n*(n-1)+v-1,n*(p-1)+n-1,n*(p-1)+v-1)\n",
    "ansatz=qc\n",
    "#qc.draw('mpl',plot_barriers=False)"
   ]
  },
  {
   "cell_type": "code",
   "execution_count": 75,
   "id": "5570509f-5952-4877-979b-fd5d00806464",
   "metadata": {
    "tags": []
   },
   "outputs": [
    {
     "name": "stdout",
     "output_type": "stream",
     "text": [
      "0.19800925254821777\n",
      "0.1285862922668457\n",
      "0.15064382791519165\n"
     ]
    },
    {
     "data": {
      "text/plain": [
       "100"
      ]
     },
     "execution_count": 75,
     "metadata": {},
     "output_type": "execute_result"
    }
   ],
   "source": [
    "exact_result=[]\n",
    "result=[]\n",
    "energy=[]  \n",
    "time=[]\n",
    "feasible=[]\n",
    "for i in range (0,100,1):\n",
    "    #generate graph:\n",
    "    n = 3\n",
    "    num_qubits = n**2\n",
    "    tsp = Tsp.create_random_instance(n) \n",
    "    adj_matrix = nx.to_numpy_array(tsp.graph)\n",
    "   #define ising model \n",
    "    qp = tsp.to_quadratic_program()\n",
    "    qp2qubo = QuadraticProgramToQubo()\n",
    "    qubo = qp2qubo.convert(qp)\n",
    "    qubitOp, offset = qubo.to_ising()\n",
    "    #optimizer\n",
    "    optimizer = COBYLA(maxiter=50)\n",
    "    vqe= SamplingVQE(sampler=Sampler(), ansatz=ansatz, optimizer=optimizer) #define the SamplingVqe\n",
    "    # run SamplingVQE\n",
    "    result.append(vqe.compute_minimum_eigenvalue(qubitOp)) \n",
    "    energy.append(result[i].eigenvalue.real)\n",
    "    time.append(result[i].optimizer_time)\n",
    "    x= tsp.sample_most_likely(result[i].eigenstate)\n",
    "    feasible.append(qp.is_feasible(x))\n",
    "    x = tsp.sample_most_likely(result[i].eigenstate)\n",
    "    z= tsp.interpret(x)\n",
    "print(max(time))\n",
    "print(min(time))\n",
    "print(sum(time)/len(time))\n",
    "sum(1 for n in feasible if n == True)"
   ]
  },
  {
   "cell_type": "code",
   "execution_count": 76,
   "id": "37505c23-3768-46ed-ad28-d402eef6c12d",
   "metadata": {
    "tags": []
   },
   "outputs": [
    {
     "name": "stdout",
     "output_type": "stream",
     "text": [
      "0.6838948726654053\n",
      "0.41411566734313965\n",
      "0.45036294460296633\n"
     ]
    },
    {
     "data": {
      "text/plain": [
       "100"
      ]
     },
     "execution_count": 76,
     "metadata": {},
     "output_type": "execute_result"
    }
   ],
   "source": [
    "exact_result=[]\n",
    "result=[]\n",
    "energy=[]  \n",
    "time=[]\n",
    "feasible=[]\n",
    "for i in range (0,100,1):\n",
    "    #generate graph:\n",
    "    n = 3\n",
    "    num_qubits = n**2\n",
    "    tsp = Tsp.create_random_instance(n) \n",
    "    adj_matrix = nx.to_numpy_array(tsp.graph)\n",
    "   #define ising model \n",
    "    qp = tsp.to_quadratic_program()\n",
    "    qp2qubo = QuadraticProgramToQubo()\n",
    "    qubo = qp2qubo.convert(qp)\n",
    "    qubitOp, offset = qubo.to_ising()\n",
    "    #optimizer\n",
    "    optimizer = SPSA(maxiter=50)\n",
    "    vqe= SamplingVQE(sampler=Sampler(), ansatz=ansatz, optimizer=optimizer) #define the SamplingVqe\n",
    "    # run SamplingVQE\n",
    "    result.append(vqe.compute_minimum_eigenvalue(qubitOp)) \n",
    "    energy.append(result[i].eigenvalue.real)\n",
    "    time.append(result[i].optimizer_time)\n",
    "    x= tsp.sample_most_likely(result[i].eigenstate)\n",
    "    feasible.append(qp.is_feasible(x))\n",
    "    x = tsp.sample_most_likely(result[i].eigenstate)\n",
    "    z= tsp.interpret(x)\n",
    "print(max(time))\n",
    "print(min(time))\n",
    "print(sum(time)/len(time))\n",
    "sum(1 for n in feasible if n == True)"
   ]
  },
  {
   "cell_type": "code",
   "execution_count": 90,
   "id": "c6555b3b-b9d7-4cc2-aad6-cb3c1cb94ce1",
   "metadata": {
    "tags": []
   },
   "outputs": [],
   "source": [
    "qc=ansatz"
   ]
  },
  {
   "cell_type": "markdown",
   "id": "bae19299-1129-43e2-b97d-17a6da2ea8b6",
   "metadata": {
    "tags": []
   },
   "source": [
    "# CONVERGENCE"
   ]
  },
  {
   "cell_type": "code",
   "execution_count": 11,
   "id": "a0d45f9b-0eef-4372-ad21-4c74079e6509",
   "metadata": {
    "tags": []
   },
   "outputs": [],
   "source": [
    "counts=[]\n",
    "params=[]\n",
    "values=[]\n",
    "mddict=[]\n",
    "def store_intermediate_result(count, parameters, value, step):\n",
    "    counts.append(count)\n",
    "    params.append(parameters)\n",
    "    values.append(value)\n",
    "    mddict.append(step)"
   ]
  },
  {
   "cell_type": "code",
   "execution_count": 12,
   "id": "a71cd985-a997-485f-ab0b-141b58561ae5",
   "metadata": {
    "tags": []
   },
   "outputs": [
    {
     "name": "stdout",
     "output_type": "stream",
     "text": [
      "distance\n",
      " [[ 0. 48. 91.]\n",
      " [48.  0. 63.]\n",
      " [91. 63.  0.]]\n"
     ]
    },
    {
     "data": {
      "image/png": "[encoded data removed]",
      "text/plain": [
       "<Figure size 640x480 with 1 Axes>"
      ]
     },
     "metadata": {},
     "output_type": "display_data"
    }
   ],
   "source": [
    "n = 3\n",
    "num_qubits = n**2\n",
    "tsp = Tsp.create_random_instance(n, seed=123) \n",
    "adj_matrix = nx.to_numpy_array(tsp.graph)\n",
    "print(\"distance\\n\", adj_matrix)\n",
    "\n",
    "colors_6 = [\"r\" for node in tsp.graph.nodes]\n",
    "pos_3 = [tsp.graph.nodes[node][\"pos\"] for node in tsp.graph.nodes]\n",
    "draw_graph(tsp.graph, colors_6, pos_3)"
   ]
  },
  {
   "cell_type": "code",
   "execution_count": 13,
   "id": "c688f02a-3555-4f4d-9a17-b11a8fa813cf",
   "metadata": {
    "tags": []
   },
   "outputs": [],
   "source": [
    "qp = tsp.to_quadratic_program()\n",
    "qp2qubo = QuadraticProgramToQubo()\n",
    "qubo = qp2qubo.convert(qp)\n",
    "qubitOp, offset = qubo.to_ising()"
   ]
  },
  {
   "cell_type": "code",
   "execution_count": 33,
   "id": "a2fa3f47-eda4-4b33-b99d-9d342ec5d09a",
   "metadata": {
    "tags": []
   },
   "outputs": [
    {
     "name": "stdout",
     "output_type": "stream",
     "text": [
      "energy: -7378.794262392952\n",
      "time: 0.30070018768310547\n",
      "feasible: True\n",
      "solution: [2, 0, 1]\n",
      "solution objective: 202.0\n"
     ]
    }
   ],
   "source": [
    "counts=[]\n",
    "params=[]\n",
    "values=[]\n",
    "mddict=[]\n",
    "optimizer = COBYLA(maxiter=50)\n",
    "vqe_clb = SamplingVQE(sampler=Sampler(), ansatz=qc2, optimizer=optimizer, callback=store_intermediate_result)\n",
    "# run SamplingVQE \n",
    "result=vqe_clb.compute_minimum_eigenvalue(qubitOp)\n",
    "print(\"energy:\", result.eigenvalue.real)\n",
    "print(\"time:\", result.optimizer_time)\n",
    "x= tsp.sample_most_likely(result.eigenstate)\n",
    "print(\"feasible:\", qp.is_feasible(x))\n",
    "z = tsp.interpret(x)\n",
    "print(\"solution:\", z)\n",
    "print(\"solution objective:\", tsp.tsp_value(z, adj_matrix))\n",
    "values1=values\n",
    "#"
   ]
  },
  {
   "cell_type": "code",
   "execution_count": 34,
   "id": "13316fd3-ff43-470d-85de-5ae4c63dd500",
   "metadata": {
    "tags": []
   },
   "outputs": [
    {
     "name": "stdout",
     "output_type": "stream",
     "text": [
      "energy: -7350.225865178284\n",
      "time: 0.6560657024383545\n",
      "feasible: True\n",
      "solution: [2, 0, 1]\n",
      "solution objective: 202.0\n"
     ]
    }
   ],
   "source": [
    "counts=[]\n",
    "params=[]\n",
    "values=[]\n",
    "mddict=[]\n",
    "optimizer = SPSA(maxiter=50)\n",
    "vqe_clb = SamplingVQE(sampler=Sampler(), ansatz=qc2, optimizer=optimizer, callback=store_intermediate_result)\n",
    "# run SamplingVQE \n",
    "result=vqe_clb.compute_minimum_eigenvalue(qubitOp)\n",
    "print(\"energy:\", result.eigenvalue.real)\n",
    "print(\"time:\", result.optimizer_time)\n",
    "x= tsp.sample_most_likely(result.eigenstate)\n",
    "print(\"feasible:\", qp.is_feasible(x))\n",
    "z = tsp.interpret(x)\n",
    "print(\"solution:\", z)\n",
    "print(\"solution objective:\", tsp.tsp_value(z, adj_matrix))\n",
    "values2=values"
   ]
  },
  {
   "cell_type": "code",
   "execution_count": 36,
   "id": "313a9660-51be-457b-a4a3-d82c1697d434",
   "metadata": {
    "tags": []
   },
   "outputs": [
    {
     "name": "stdout",
     "output_type": "stream",
     "text": [
      "energy: -7379.0\n",
      "time: 0.2830066680908203\n",
      "feasible: True\n",
      "solution: [0, 2, 1]\n",
      "solution objective: 202.0\n"
     ]
    }
   ],
   "source": [
    "counts=[]\n",
    "params=[]\n",
    "values=[]\n",
    "mddict=[]\n",
    "optimizer = COBYLA(maxiter=50)\n",
    "vqe_clb = SamplingVQE(sampler=Sampler(), ansatz=qc, optimizer=optimizer, callback=store_intermediate_result)\n",
    "# run SamplingVQE \n",
    "result=vqe_clb.compute_minimum_eigenvalue(qubitOp)\n",
    "print(\"energy:\", result.eigenvalue.real)\n",
    "print(\"time:\", result.optimizer_time)\n",
    "x= tsp.sample_most_likely(result.eigenstate)\n",
    "print(\"feasible:\", qp.is_feasible(x))\n",
    "z = tsp.interpret(x)\n",
    "print(\"solution:\", z)\n",
    "print(\"solution objective:\", tsp.tsp_value(z, adj_matrix))\n",
    "values3=values"
   ]
  },
  {
   "cell_type": "code",
   "execution_count": 43,
   "id": "6e240e6c-ffc4-46d1-8ee5-f0ba3ce6d36f",
   "metadata": {
    "tags": []
   },
   "outputs": [
    {
     "name": "stdout",
     "output_type": "stream",
     "text": [
      "energy: -7378.999999999998\n",
      "time: 0.4075441360473633\n",
      "feasible: True\n",
      "solution: [2, 1, 0]\n",
      "solution objective: 202.0\n"
     ]
    }
   ],
   "source": [
    "counts=[]\n",
    "params=[]\n",
    "values=[]\n",
    "mddict=[]\n",
    "optimizer = SPSA(maxiter=50)\n",
    "vqe_clb = SamplingVQE(sampler=Sampler(), ansatz=qc, optimizer=optimizer, callback=store_intermediate_result)\n",
    "# run SamplingVQE \n",
    "result=vqe_clb.compute_minimum_eigenvalue(qubitOp)\n",
    "print(\"energy:\", result.eigenvalue.real)\n",
    "print(\"time:\", result.optimizer_time)\n",
    "x= tsp.sample_most_likely(result.eigenstate)\n",
    "print(\"feasible:\", qp.is_feasible(x))\n",
    "z = tsp.interpret(x)\n",
    "print(\"solution:\", z)\n",
    "print(\"solution objective:\", tsp.tsp_value(z, adj_matrix))\n",
    "values4=values"
   ]
  },
  {
   "cell_type": "code",
   "execution_count": 44,
   "id": "1930d157-f823-418b-bb20-160e1e2a21d3",
   "metadata": {
    "tags": []
   },
   "outputs": [
    {
     "data": {
      "image/png": "[encoded data removed]",
      "text/plain": [
       "<Figure size 640x480 with 1 Axes>"
      ]
     },
     "metadata": {},
     "output_type": "display_data"
    }
   ],
   "source": [
    "plt.axhline(y=-7379, color='r', linestyle='--')\n",
    "\n",
    "\n",
    "pylab.plot(values3, label= f'Proposed 2,COBYLA')\n",
    "pylab.plot(values4, label= f'Proposed 2, SPSA')\n",
    "pylab.plot(values1, label= f'Proposed 1, COBYLA')\n",
    "pylab.plot(values2, label= f'Proposed 1, SPSA')\n",
    "\n",
    "\n",
    "pylab.grid(True)\n",
    "plt.legend()\n",
    "plt.xlabel('Number of iterations')\n",
    "plt.ylabel('Expectation value')\n",
    "# Mostra il grafico\n",
    "pylab.show()"
   ]
  }
 ],
 "metadata": {
  "kernelspec": {
   "display_name": "Qiskit v1.0.1 (ipykernel)",
   "language": "python",
   "name": "python3"
  },
  "language_info": {
   "codemirror_mode": {
    "name": "ipython",
    "version": 3
   },
   "file_extension": ".py",
   "mimetype": "text/x-python",
   "name": "python",
   "nbconvert_exporter": "python",
   "pygments_lexer": "ipython3",
   "version": "3.10.8"
  },
  "widgets": {
   "application/vnd.jupyter.widget-state+json": {
    "state": {},
    "version_major": 2,
    "version_minor": 0
   }
  }
 },
 "nbformat": 4,
 "nbformat_minor": 5
}
